{
 "cells": [
  {
   "cell_type": "markdown",
   "id": "4d50bd4b-4c85-4355-ac07-ff741c5fb841",
   "metadata": {},
   "source": [
    "## Tree Explainer"
   ]
  },
  {
   "cell_type": "code",
   "execution_count": 1,
   "id": "0d315cea-070e-4117-861a-a2942e5fdc0c",
   "metadata": {},
   "outputs": [],
   "source": [
    "%load_ext autoreload\n",
    "%autoreload 2"
   ]
  },
  {
   "cell_type": "code",
   "execution_count": 26,
   "id": "3ec96c42-7054-435c-9b60-92ad4dc10cf1",
   "metadata": {},
   "outputs": [],
   "source": [
    "import matplotlib.pyplot as plt\n",
    "from sklearn import datasets\n",
    "import mpl_toolkits.mplot3d \n",
    "from sklearn.cluster import KMeans\n",
    "from sklearn import metrics\n",
    "import numpy as np\n",
    "import pandas as pd\n",
    "from cxplain.xkm import Xkm\n",
    "from cxplain.tree import  DecisionTreeExplainer, RandomForestExplainer, ExKMCExplainer"
   ]
  },
  {
   "cell_type": "code",
   "execution_count": 3,
   "id": "9a02e543-077e-4889-b8a2-7c50c7263091",
   "metadata": {},
   "outputs": [],
   "source": [
    "iris = datasets.load_iris()\n",
    "X = iris.data\n",
    "y = iris.target"
   ]
  },
  {
   "cell_type": "code",
   "execution_count": 4,
   "id": "a2d5cee7-5b4a-4b39-8a55-faf97bbc39f7",
   "metadata": {},
   "outputs": [],
   "source": [
    "data = np.array([[1, 2, 1, 2],\n",
    "               [2, 3, 2, 3],\n",
    "               [2, 2, 1, 2]])"
   ]
  },
  {
   "cell_type": "code",
   "execution_count": 5,
   "id": "1a919ce2-78d9-4b00-aec4-e1535d40a5c7",
   "metadata": {},
   "outputs": [],
   "source": [
    "kmeans = KMeans(n_clusters=2, random_state=3).fit(data)"
   ]
  },
  {
   "cell_type": "code",
   "execution_count": 6,
   "id": "41e469a0-7231-4da4-9e52-326d8379512d",
   "metadata": {},
   "outputs": [
    {
     "data": {
      "text/plain": [
       "array([0, 1, 0])"
      ]
     },
     "execution_count": 6,
     "metadata": {},
     "output_type": "execute_result"
    }
   ],
   "source": [
    "kmeans.predict(data)"
   ]
  },
  {
   "cell_type": "code",
   "execution_count": 27,
   "id": "58a9f267-fd75-4ebe-9e0b-e568eb719cea",
   "metadata": {},
   "outputs": [],
   "source": [
    "kmeans = KMeans(n_clusters=3, random_state=3).fit(X)\n",
    "cluster_centers = kmeans.cluster_centers_"
   ]
  },
  {
   "cell_type": "code",
   "execution_count": 8,
   "id": "0675b121-6d2c-49b2-b94a-7e672aa50afb",
   "metadata": {},
   "outputs": [
    {
     "data": {
      "text/plain": [
       "array([1, 1, 1, 1, 1, 1, 1, 1, 1, 1, 1, 1, 1, 1, 1, 1, 1, 1, 1, 1, 1, 1,\n",
       "       1, 1, 1, 1, 1, 1, 1, 1, 1, 1, 1, 1, 1, 1, 1, 1, 1, 1, 1, 1, 1, 1,\n",
       "       1, 1, 1, 1, 1, 1, 0, 0, 2, 0, 0, 0, 0, 0, 0, 0, 0, 0, 0, 0, 0, 0,\n",
       "       0, 0, 0, 0, 0, 0, 0, 0, 0, 0, 0, 2, 0, 0, 0, 0, 0, 0, 0, 0, 0, 0,\n",
       "       0, 0, 0, 0, 0, 0, 0, 0, 0, 0, 0, 0, 2, 0, 2, 2, 2, 2, 0, 2, 2, 2,\n",
       "       2, 2, 2, 0, 0, 2, 2, 2, 2, 0, 2, 0, 2, 0, 2, 2, 0, 0, 2, 2, 2, 2,\n",
       "       2, 0, 2, 2, 2, 2, 0, 2, 2, 2, 0, 2, 2, 2, 0, 2, 2, 0])"
      ]
     },
     "execution_count": 8,
     "metadata": {},
     "output_type": "execute_result"
    }
   ],
   "source": [
    "predictions = kmeans.predict(X)\n",
    "predictions"
   ]
  },
  {
   "cell_type": "code",
   "execution_count": 9,
   "id": "9744e936-5891-49f5-b6bf-8c92d7360212",
   "metadata": {},
   "outputs": [],
   "source": [
    "tree_explainer = DecisionTreeExplainer(data= X, cluster_predictions=predictions)"
   ]
  },
  {
   "cell_type": "code",
   "execution_count": 10,
   "id": "cd27e821-7d1a-4bd4-9363-2ca2689c775f",
   "metadata": {},
   "outputs": [
    {
     "name": "stdout",
     "output_type": "stream",
     "text": [
      "R1    0.016162\n",
      "R2    0.000000\n",
      "R3    0.297972\n",
      "R4    0.339733\n",
      "Name: 0, dtype: float64\n"
     ]
    }
   ],
   "source": [
    "tree_explaind = tree_explainer.fit_explain()"
   ]
  },
  {
   "cell_type": "code",
   "execution_count": 11,
   "id": "4138bf97-de6e-4597-b751-6aad5cb9b779",
   "metadata": {},
   "outputs": [
    {
     "data": {
      "text/plain": [
       "R1    0.016162\n",
       "R2    0.000000\n",
       "R3    0.297972\n",
       "R4    0.339733\n",
       "Name: 0, dtype: float64"
      ]
     },
     "execution_count": 11,
     "metadata": {},
     "output_type": "execute_result"
    }
   ],
   "source": [
    "tree_explaind.global_relevance"
   ]
  },
  {
   "cell_type": "code",
   "execution_count": 20,
   "id": "3d832380-64f8-4b8b-b4eb-7067c2837a09",
   "metadata": {},
   "outputs": [],
   "source": [
    "forest_explainer = RandomForestExplainer(data= X, cluster_predictions=predictions)"
   ]
  },
  {
   "cell_type": "code",
   "execution_count": 21,
   "id": "96c9d4d8-71d1-4085-8cd3-0fafc096c91f",
   "metadata": {},
   "outputs": [],
   "source": [
    "forest_explained = forest_explainer.fit_explain()"
   ]
  },
  {
   "cell_type": "code",
   "execution_count": 22,
   "id": "ff7ae033-6717-450c-bedd-bd4baf23ffdd",
   "metadata": {},
   "outputs": [
    {
     "data": {
      "text/plain": [
       "R1    0.156497\n",
       "R2    0.020770\n",
       "R3    0.527698\n",
       "R4    0.295035\n",
       "Name: 0, dtype: float64"
      ]
     },
     "execution_count": 22,
     "metadata": {},
     "output_type": "execute_result"
    }
   ],
   "source": [
    "forest_explained.global_relevance"
   ]
  },
  {
   "cell_type": "code",
   "execution_count": null,
   "id": "e52a49df-cada-4491-baab-b10543f1ad70",
   "metadata": {},
   "outputs": [],
   "source": []
  },
  {
   "cell_type": "code",
   "execution_count": 23,
   "id": "093faf02-ec14-4606-949c-9f043312cbb3",
   "metadata": {},
   "outputs": [
    {
     "data": {
      "text/html": [
       "<div>\n",
       "<style scoped>\n",
       "    .dataframe tbody tr th:only-of-type {\n",
       "        vertical-align: middle;\n",
       "    }\n",
       "\n",
       "    .dataframe tbody tr th {\n",
       "        vertical-align: top;\n",
       "    }\n",
       "\n",
       "    .dataframe thead th {\n",
       "        text-align: right;\n",
       "    }\n",
       "</style>\n",
       "<table border=\"1\" class=\"dataframe\">\n",
       "  <thead>\n",
       "    <tr style=\"text-align: right;\">\n",
       "      <th></th>\n",
       "      <th>0</th>\n",
       "      <th>1</th>\n",
       "      <th>2</th>\n",
       "    </tr>\n",
       "  </thead>\n",
       "  <tbody>\n",
       "    <tr>\n",
       "      <th>0</th>\n",
       "      <td>0</td>\n",
       "      <td>1</td>\n",
       "      <td>2</td>\n",
       "    </tr>\n",
       "    <tr>\n",
       "      <th>1</th>\n",
       "      <td>3</td>\n",
       "      <td>4</td>\n",
       "      <td>5</td>\n",
       "    </tr>\n",
       "  </tbody>\n",
       "</table>\n",
       "</div>"
      ],
      "text/plain": [
       "   0  1  2\n",
       "0  0  1  2\n",
       "1  3  4  5"
      ]
     },
     "execution_count": 23,
     "metadata": {},
     "output_type": "execute_result"
    }
   ],
   "source": [
    "pd.DataFrame([[0,1,2], [3,4,5]])"
   ]
  },
  {
   "cell_type": "code",
   "execution_count": 30,
   "id": "a32afcce-7194-4998-98ee-ea7756a84001",
   "metadata": {},
   "outputs": [
    {
     "ename": "TypeError",
     "evalue": "make_blobs() takes from 0 to 2 positional arguments but 3 positional arguments (and 1 keyword-only argument) were given",
     "output_type": "error",
     "traceback": [
      "\u001b[1;31m---------------------------------------------------------------------------\u001b[0m",
      "\u001b[1;31mTypeError\u001b[0m                                 Traceback (most recent call last)",
      "\u001b[1;32m~\\AppData\\Local\\Temp\\ipykernel_16740\\364463512.py\u001b[0m in \u001b[0;36m<cell line: 7>\u001b[1;34m()\u001b[0m\n\u001b[0;32m      5\u001b[0m \u001b[0md\u001b[0m \u001b[1;33m=\u001b[0m \u001b[1;36m10\u001b[0m\u001b[1;33m\u001b[0m\u001b[1;33m\u001b[0m\u001b[0m\n\u001b[0;32m      6\u001b[0m \u001b[0mk\u001b[0m \u001b[1;33m=\u001b[0m \u001b[1;36m3\u001b[0m\u001b[1;33m\u001b[0m\u001b[1;33m\u001b[0m\u001b[0m\n\u001b[1;32m----> 7\u001b[1;33m \u001b[0mX\u001b[0m\u001b[1;33m,\u001b[0m \u001b[0m_\u001b[0m \u001b[1;33m=\u001b[0m \u001b[0mmake_blobs\u001b[0m\u001b[1;33m(\u001b[0m\u001b[0mn\u001b[0m\u001b[1;33m,\u001b[0m \u001b[0md\u001b[0m\u001b[1;33m,\u001b[0m \u001b[0mk\u001b[0m\u001b[1;33m,\u001b[0m \u001b[0mcluster_std\u001b[0m\u001b[1;33m=\u001b[0m\u001b[1;36m3.0\u001b[0m\u001b[1;33m)\u001b[0m\u001b[1;33m\u001b[0m\u001b[1;33m\u001b[0m\u001b[0m\n\u001b[0m",
      "\u001b[1;31mTypeError\u001b[0m: make_blobs() takes from 0 to 2 positional arguments but 3 positional arguments (and 1 keyword-only argument) were given"
     ]
    }
   ],
   "source": [
    "from sklearn.datasets import make_blobs\n",
    "\n",
    "# Create dataset\n",
    "n = 100\n",
    "d = 10\n",
    "k = 3\n",
    "X, _ = make_blobs(n, d, k, cluster_std=3.0)"
   ]
  },
  {
   "cell_type": "code",
   "execution_count": 52,
   "id": "7d07df0d-b44a-4503-b11f-f9776b487843",
   "metadata": {},
   "outputs": [],
   "source": [
    "exkmc = ExKMCExplainer(X, kmeans, k=3, max_leaves=6, base_tree='NONE')"
   ]
  },
  {
   "cell_type": "code",
   "execution_count": 53,
   "id": "3a8b59ec-fd40-4e7f-823c-1342c673fd88",
   "metadata": {},
   "outputs": [],
   "source": [
    "exp = exkmc.fit_explain()"
   ]
  },
  {
   "cell_type": "code",
   "execution_count": 54,
   "id": "ddabd5b1-43e9-4956-bf35-72f3ac9c037a",
   "metadata": {},
   "outputs": [
    {
     "data": {
      "text/plain": [
       "R1    2.0\n",
       "R2    1.0\n",
       "R3    2.0\n",
       "R4    0.0\n",
       "Name: 0, dtype: float64"
      ]
     },
     "execution_count": 54,
     "metadata": {},
     "output_type": "execute_result"
    }
   ],
   "source": [
    "exp.global_relevance"
   ]
  }
 ],
 "metadata": {
  "kernelspec": {
   "display_name": "cxplain",
   "language": "python",
   "name": "cxplain"
  },
  "language_info": {
   "codemirror_mode": {
    "name": "ipython",
    "version": 3
   },
   "file_extension": ".py",
   "mimetype": "text/x-python",
   "name": "python",
   "nbconvert_exporter": "python",
   "pygments_lexer": "ipython3",
   "version": "3.9.7"
  }
 },
 "nbformat": 4,
 "nbformat_minor": 5
}
