{
 "cells": [
  {
   "cell_type": "code",
   "execution_count": 38,
   "id": "47c92dc0-e51c-45ed-9fde-c040e3d2ad26",
   "metadata": {},
   "outputs": [],
   "source": [
    "import matplotlib.pyplot as plt\n",
    "from sklearn import datasets\n",
    "import mpl_toolkits.mplot3d \n",
    "from sklearn.cluster import KMeans\n",
    "from sklearn import metrics\n",
    "import numpy as np\n",
    "import pandas as pd\n",
    "from cxplain.xkm import Xkm\n",
    "from cxplain.tree import  DecisionTreeExplainer, RandomForestExplainer, ExKMCExplainer\n",
    "from cxplain.shap import  ShapExplainer\n",
    "from cxplain.gradient import GradientExplainer  \n",
    "from cxplain.metrics import EuclideanMetric, Metric, ManhattenMetric\n",
    "from cxplain.neon import NeonKMeansExplainer\n",
    "from cxplain.errors import NonExistingRelevanceError"
   ]
  },
  {
   "cell_type": "code",
   "execution_count": null,
   "id": "dcad6dd3-77af-49c4-8947-8175309c2968",
   "metadata": {},
   "outputs": [],
   "source": [
    "dataset_index = {\"iris\": }\n",
    "datasets = {\"iris\": }"
   ]
  },
  {
   "cell_type": "markdown",
   "id": "44f1c97d-af83-4833-b895-578e6efa566f",
   "metadata": {},
   "source": [
    "First I only use the iris data set for evaluation"
   ]
  },
  {
   "cell_type": "code",
   "execution_count": 87,
   "id": "7b1badbb-6619-47ad-b550-a4aa3fb2fcfe",
   "metadata": {},
   "outputs": [],
   "source": [
    "n_clusters = 4"
   ]
  },
  {
   "cell_type": "code",
   "execution_count": 88,
   "id": "b1d7d73c-b241-441c-b37d-8079059e8a40",
   "metadata": {},
   "outputs": [],
   "source": [
    "iris = datasets.load_iris()\n",
    "X = iris.data\n",
    "y = iris.target\n",
    "n_obs = X.shape[0]\n",
    "n_features = X.shape[1]"
   ]
  },
  {
   "cell_type": "code",
   "execution_count": 89,
   "id": "3edb4ddf-2f38-47f3-972d-f98c5551ad47",
   "metadata": {},
   "outputs": [],
   "source": [
    "# fit Kmeans\n",
    "kmeans = KMeans(n_clusters=n_clusters, random_state=3).fit(X)\n",
    "cluster_centers = kmeans.cluster_centers_\n",
    "predictions = kmeans.predict(X)"
   ]
  },
  {
   "cell_type": "code",
   "execution_count": 90,
   "id": "fcd1a507-2f46-4cc7-ae16-70576d97b5ca",
   "metadata": {},
   "outputs": [],
   "source": [
    "# init and fit explainer\n",
    "# list allexplainers\n",
    "explainers = {\"tree\": DecisionTreeExplainer(data= X, cluster_predictions=predictions),\n",
    "             \"forest\": RandomForestExplainer(data= X, cluster_predictions=predictions),\n",
    "             \"exkmc\": ExKMCExplainer(X, kmeans, k=n_clusters, max_leaves=2*n_clusters),\n",
    "             \"gradient\": GradientExplainer(X, cluster_centers, predictions, EuclideanMetric, enable_abs_calculation=False),\n",
    "             \"shap\": ShapExplainer(data= X, cluster_predictions=predictions),\n",
    "             \"neon\": NeonKMeansExplainer(cluster_centers=cluster_centers, data=X, predictions=predictions),\n",
    "             \"xkm\": Xkm(data,  kmeans.cluster_centers_, \"euclidean\", predictions)}\n",
    "\n",
    "# fit and explain all explainers\n",
    "\n",
    "explanations = {explainer_name:explainer.fit_explain() for explainer_name, explainer  in explainers.items()}\n"
   ]
  },
  {
   "cell_type": "code",
   "execution_count": 91,
   "id": "eaf6deb2-35ce-480c-b69c-df81e53695b3",
   "metadata": {},
   "outputs": [
    {
     "data": {
      "text/plain": [
       "array([0, 0, 0, 0])"
      ]
     },
     "execution_count": 91,
     "metadata": {},
     "output_type": "execute_result"
    }
   ],
   "source": [
    "feature_obs = np.array([0 for i in range(n_features)])\n",
    "feature_obs.put(0, 0.2)\n",
    "feature_obs"
   ]
  },
  {
   "cell_type": "code",
   "execution_count": 92,
   "id": "6eb41d84-1216-4a03-b1bd-3ba6b0840f80",
   "metadata": {},
   "outputs": [
    {
     "data": {
      "text/plain": [
       "0"
      ]
     },
     "execution_count": 92,
     "metadata": {},
     "output_type": "execute_result"
    }
   ],
   "source": [
    "predictions[52]"
   ]
  },
  {
   "cell_type": "code",
   "execution_count": 93,
   "id": "d87323ea-635a-44a7-8a37-a3a91f36e4f6",
   "metadata": {},
   "outputs": [
    {
     "data": {
      "text/plain": [
       "array([6.9, 3.1, 4.9, 1.5])"
      ]
     },
     "execution_count": 93,
     "metadata": {},
     "output_type": "execute_result"
    }
   ],
   "source": [
    "X[52,:]"
   ]
  },
  {
   "cell_type": "code",
   "execution_count": 94,
   "id": "f43c85c8-dded-4e92-bdd1-4dab3e7fc81d",
   "metadata": {},
   "outputs": [
    {
     "data": {
      "text/plain": [
       "array([[6.25714286, 2.86190476, 4.85      , 1.63333333],\n",
       "       [5.006     , 3.428     , 1.462     , 0.246     ],\n",
       "       [6.95      , 3.10666667, 5.86666667, 2.15333333],\n",
       "       [5.53214286, 2.63571429, 3.96071429, 1.22857143]])"
      ]
     },
     "execution_count": 94,
     "metadata": {},
     "output_type": "execute_result"
    }
   ],
   "source": [
    "cluster_centers"
   ]
  },
  {
   "cell_type": "code",
   "execution_count": 95,
   "id": "6ac42283-a3f5-45ce-8bcb-26d0fcb7c63d",
   "metadata": {},
   "outputs": [
    {
     "data": {
      "text/plain": [
       "[0.7001659991058231, 4.133664234066429, 1.1678327505826052, 1.7442836667824653]"
      ]
     },
     "execution_count": 95,
     "metadata": {},
     "output_type": "execute_result"
    }
   ],
   "source": [
    "distances = [np.linalg.norm(X[52,:] - center) for center in cluster_centers]\n",
    "distances"
   ]
  },
  {
   "cell_type": "code",
   "execution_count": 96,
   "id": "a2e6910a-0f61-41c4-9091-f3cc4b803160",
   "metadata": {},
   "outputs": [
    {
     "data": {
      "text/plain": [
       "[0.9096447061742748,\n",
       " 0.9351574921337319,\n",
       " 0.9988282455589736,\n",
       " 0.9960078303263973]"
      ]
     },
     "execution_count": 96,
     "metadata": {},
     "output_type": "execute_result"
    }
   ],
   "source": [
    "list(explanations[\"xkm\"].pointwise_relevance.iloc[0, :])"
   ]
  },
  {
   "cell_type": "code",
   "execution_count": 97,
   "id": "560b5532-39ad-40cf-99b3-4ef44f6df731",
   "metadata": {},
   "outputs": [],
   "source": [
    "# first calculate all ROC curves for individual observations\n",
    "result_individual = {}\n",
    "for explainer_name, explanation in explanations.items():\n",
    "    # init curve_list\n",
    "    curve_list = []\n",
    "    for index_obs in range(n_obs):\n",
    "        # init list curve_obs_i to all 1 (length = num_features)\n",
    "        curve_obs = [1 for i in range(n_features)]\n",
    "        # init array of feature observations, I use an array instead of a list, as it is easier  later on to calculate distances to cluster centers\n",
    "        feature_obs = np.array([0.0 for i in range(n_features)])\n",
    "        # get relevance scores for observation, for explainers with only global scores, these will be used for every observation\n",
    "        try:\n",
    "            relevance_scores = list(explanations[explainer_name].pointwise_relevance.iloc[index_obs, :])\n",
    "        except NonExistingRelevanceError:\n",
    "            relevance_scores = list(explanations[explainer_name].global_relevance)\n",
    "        \n",
    "        for feature_index in range(n_features):\n",
    "            # get biggest score and column index (indicate which feature is meant) and pop from list\n",
    "            index_biggest_score = relevance_scores.index(max(relevance_scores))                \n",
    "            relevance_scores[index_biggest_score] = -100 # I set to large negative number as popping would ruin the index correspondence from relevance score to feature\n",
    "            # get observation for this feature\n",
    "            obs_biggest_score = X[index_obs, index_biggest_score]\n",
    "            # get corresponding cluster index for this observation\n",
    "            cluster_index = predictions[index_obs]\n",
    "            # add observation for feature to feature observations list\n",
    "            feature_obs.put(index_biggest_score, obs_biggest_score) # has to be at index of feature in training data, as otherwise distance calculation is wrong\n",
    "            # impute other entries (length = num_features) --> TBD\n",
    "            # calculate distance to cluster centers for feature observations list\n",
    "            distances = [np.linalg.norm(feature_obs - center) for center in cluster_centers]\n",
    "            # get nearest_cluster_index\n",
    "            nearest_cluster_index = distances.index(min(distances))\n",
    "            # check whether cluster_index == nearest_cluster_index\n",
    "            # if yes: return curve_obs_i\n",
    "            # if no: replace first entry of curve_obs_i ith 0 and repeat\n",
    "            if cluster_index == nearest_cluster_index:\n",
    "                break\n",
    "            else:\n",
    "                curve_obs[feature_index] = 0\n",
    "            # if yes: return curve_obs_i\n",
    "            # if no: replace first entry of curve_obs_i ith 0 and repeat\n",
    "            \n",
    "        curve_list.append(curve_obs)\n",
    "        \n",
    "    # add explainer entry to dict\n",
    "    result_individual[explainer_name] = curve_list\n",
    "      \n",
    "# Now compute AUC\n",
    "result_auc = {explainer_name: (1 /(n_obs*n_features)) * sum(map(sum, curves)) for explainer_name, curves in result_individual.items()}\n",
    "# TBD"
   ]
  },
  {
   "cell_type": "code",
   "execution_count": 98,
   "id": "dac639e1-4d2b-4077-94cf-a9f23d8bbddb",
   "metadata": {},
   "outputs": [
    {
     "data": {
      "text/plain": [
       "{'tree': 0.66,\n",
       " 'forest': 0.7050000000000001,\n",
       " 'exkmc': 0.7183333333333334,\n",
       " 'gradient': 0.6166666666666667,\n",
       " 'shap': 0.6950000000000001,\n",
       " 'neon': 0.6516666666666667,\n",
       " 'xkm': 0.6516666666666667}"
      ]
     },
     "execution_count": 98,
     "metadata": {},
     "output_type": "execute_result"
    }
   ],
   "source": [
    "result_auc"
   ]
  },
  {
   "cell_type": "code",
   "execution_count": 84,
   "id": "f01e084f-2f61-4c0d-a7df-6da44e8c722f",
   "metadata": {},
   "outputs": [
    {
     "data": {
      "text/plain": [
       "0.7366666666666667"
      ]
     },
     "execution_count": 84,
     "metadata": {},
     "output_type": "execute_result"
    }
   ],
   "source": [
    "(1 /(n_obs*n_features)) * sum(map(sum, result_individual[\"tree\"]))"
   ]
  },
  {
   "cell_type": "code",
   "execution_count": 25,
   "id": "7ba6c574-26bf-4064-8c08-b1c72c076030",
   "metadata": {},
   "outputs": [
    {
     "data": {
      "text/plain": [
       "[1.795856447363803, 1.7871515661301647, 1.7706217279596324, 1.7297476242693934]"
      ]
     },
     "execution_count": 25,
     "metadata": {},
     "output_type": "execute_result"
    }
   ],
   "source": [
    "list(explanations[\"neon\"].global_relevance)"
   ]
  },
  {
   "cell_type": "code",
   "execution_count": 30,
   "id": "7dfa3904-9992-49be-a3aa-629770964790",
   "metadata": {},
   "outputs": [],
   "source": [
    "feature_obs = np.array([0 for i in range(n_features)])"
   ]
  },
  {
   "cell_type": "code",
   "execution_count": 32,
   "id": "23394a9a-3f50-4bc1-809b-6b5cb17dba9a",
   "metadata": {},
   "outputs": [
    {
     "data": {
      "text/plain": [
       "array([0, 3, 0, 0])"
      ]
     },
     "execution_count": 32,
     "metadata": {},
     "output_type": "execute_result"
    }
   ],
   "source": [
    "feature_obs[1] = 3\n",
    "feature_obs"
   ]
  },
  {
   "cell_type": "markdown",
   "id": "c9088747-298a-4306-840a-5deebba8ddac",
   "metadata": {},
   "source": [
    "# How should the data structure look like in the end?\n",
    "result_individual = {\"explainer\": curve_list}\n",
    "curve_list = [curve_obs_i]\n",
    "curve_obs_i = [indicator_feature_i]\n",
    "\n",
    "result_auc = {\"explainer\": auc}\n",
    "auc = (1/(num_obs * num_feat)) * sum(curve_list_agg)\n",
    "curve_list_agg = sum(curve_list[curve_obs_i])"
   ]
  },
  {
   "cell_type": "code",
   "execution_count": null,
   "id": "374e11c2-dfaa-4329-8411-5103f93a1c56",
   "metadata": {},
   "outputs": [],
   "source": []
  },
  {
   "cell_type": "code",
   "execution_count": null,
   "id": "54b17a36-846e-468e-9e88-ea4cd3e13720",
   "metadata": {},
   "outputs": [],
   "source": []
  },
  {
   "cell_type": "code",
   "execution_count": null,
   "id": "277cf48d-34f2-4fff-b539-a4d8d1fa9a41",
   "metadata": {},
   "outputs": [],
   "source": []
  }
 ],
 "metadata": {
  "kernelspec": {
   "display_name": "cxplain",
   "language": "python",
   "name": "cxplain"
  },
  "language_info": {
   "codemirror_mode": {
    "name": "ipython",
    "version": 3
   },
   "file_extension": ".py",
   "mimetype": "text/x-python",
   "name": "python",
   "nbconvert_exporter": "python",
   "pygments_lexer": "ipython3",
   "version": "3.9.7"
  }
 },
 "nbformat": 4,
 "nbformat_minor": 5
}
