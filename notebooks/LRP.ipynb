{
 "cells": [
  {
   "cell_type": "markdown",
   "id": "b5d93f66-90ca-4088-9303-e1075fef52c7",
   "metadata": {},
   "source": [
    "# LRP for clustering"
   ]
  },
  {
   "cell_type": "code",
   "execution_count": 1,
   "id": "ac5752e9-9048-4aad-ae47-42bdcb45fdb1",
   "metadata": {},
   "outputs": [],
   "source": [
    "%load_ext autoreload\n",
    "%autoreload 2"
   ]
  },
  {
   "cell_type": "code",
   "execution_count": 5,
   "id": "52eaa9a0-9051-40eb-815a-af22bd9ce734",
   "metadata": {},
   "outputs": [],
   "source": [
    "import matplotlib.pyplot as plt\n",
    "from sklearn import datasets\n",
    "import mpl_toolkits.mplot3d \n",
    "from sklearn.cluster import KMeans\n",
    "from sklearn import metrics\n",
    "import numpy as np\n",
    "import pandas as pd\n",
    "from cxplain.neon import NeonKMeansExplainer, KMeansNetwork\n",
    "from cxplain.base_explainer import BaseExplainer"
   ]
  },
  {
   "cell_type": "markdown",
   "id": "5daf8ae6-4e10-48c0-a72a-0ec0566244cd",
   "metadata": {},
   "source": [
    "## Normal k-means"
   ]
  },
  {
   "cell_type": "code",
   "execution_count": 3,
   "id": "d4ba58bc-6bd8-4a8f-b2e3-770e726ebbb5",
   "metadata": {},
   "outputs": [],
   "source": [
    "iris = datasets.load_iris()\n",
    "X = iris.data\n",
    "y = iris.target\n",
    "n_clusters = 3\n",
    "num_features = 4"
   ]
  },
  {
   "cell_type": "code",
   "execution_count": 4,
   "id": "1eee6824-4062-4966-adc1-073cb33f0f68",
   "metadata": {},
   "outputs": [
    {
     "name": "stderr",
     "output_type": "stream",
     "text": [
      "C:\\Users\\fottneal\\Documents\\code\\cluster-explain\\.venv\\lib\\site-packages\\sklearn\\cluster\\_kmeans.py:870: FutureWarning: The default value of `n_init` will change from 10 to 'auto' in 1.4. Set the value of `n_init` explicitly to suppress the warning\n",
      "  warnings.warn(\n"
     ]
    }
   ],
   "source": [
    "kmeans = KMeans(n_clusters=n_clusters, random_state=3).fit(X)\n",
    "cluster_predictions = kmeans.predict(X)"
   ]
  },
  {
   "cell_type": "code",
   "execution_count": 5,
   "id": "11bf1e95-7854-46f0-8420-23869cf26140",
   "metadata": {},
   "outputs": [
    {
     "data": {
      "text/plain": [
       "3"
      ]
     },
     "execution_count": 5,
     "metadata": {},
     "output_type": "execute_result"
    }
   ],
   "source": [
    "cluster_centers = kmeans.cluster_centers_\n",
    "cluster_centers.shape[0]"
   ]
  },
  {
   "cell_type": "code",
   "execution_count": 6,
   "id": "652365d0-e050-4286-bce2-a341e3d6ca98",
   "metadata": {},
   "outputs": [
    {
     "data": {
      "text/plain": [
       "array([1, 1, 1, 1, 1, 1, 1, 1, 1, 1, 1, 1, 1, 1, 1, 1, 1, 1, 1, 1, 1, 1,\n",
       "       1, 1, 1, 1, 1, 1, 1, 1, 1, 1, 1, 1, 1, 1, 1, 1, 1, 1, 1, 1, 1, 1,\n",
       "       1, 1, 1, 1, 1, 1, 0, 0, 2, 0, 0, 0, 0, 0, 0, 0, 0, 0, 0, 0, 0, 0,\n",
       "       0, 0, 0, 0, 0, 0, 0, 0, 0, 0, 0, 2, 0, 0, 0, 0, 0, 0, 0, 0, 0, 0,\n",
       "       0, 0, 0, 0, 0, 0, 0, 0, 0, 0, 0, 0, 2, 0, 2, 2, 2, 2, 0, 2, 2, 2,\n",
       "       2, 2, 2, 0, 0, 2, 2, 2, 2, 0, 2, 0, 2, 0, 2, 2, 0, 0, 2, 2, 2, 2,\n",
       "       2, 0, 2, 2, 2, 2, 0, 2, 2, 2, 0, 2, 2, 2, 0, 2, 2, 0])"
      ]
     },
     "execution_count": 6,
     "metadata": {},
     "output_type": "execute_result"
    }
   ],
   "source": [
    "cluster_predictions"
   ]
  },
  {
   "cell_type": "code",
   "execution_count": null,
   "id": "272a04de-0500-4017-a978-ad894fe27f9b",
   "metadata": {},
   "outputs": [],
   "source": [
    "# Layer 0 150 x 4, Layer 2 150 x 3, Layer 3 150 x 1   \n",
    "# General : Layer 0 num_obs x num_features, Layer 2 num_obs x num_clusters, Layer 3 num_obs x 1"
   ]
  },
  {
   "cell_type": "code",
   "execution_count": 7,
   "id": "62294882-2d26-41b1-b4d1-80175a1a6df2",
   "metadata": {},
   "outputs": [],
   "source": [
    "index_actual = cluster_predictions[0]\n",
    "index_0 = 0\n",
    "index_observation = 0\n",
    "center_actual = cluster_centers[index_actual]\n",
    "center_0 = cluster_centers[index_0]\n",
    "observation_i = X[index_observation]"
   ]
  },
  {
   "cell_type": "code",
   "execution_count": 91,
   "id": "0ab5f4d0-5916-4c86-8ecc-1d734f265379",
   "metadata": {},
   "outputs": [],
   "source": [
    "# calculate weights vector for one cluster\n",
    "weights_0 = 2 * (center_actual - center_0)\n",
    "bias_0 =  np.linalg.norm(center_0, ord=2)**2 - np.linalg.norm(center_actual, ord=2)**2 \n",
    "h_0 = weights_0.dot(observation_i) + bias_0"
   ]
  },
  {
   "cell_type": "code",
   "execution_count": 93,
   "id": "3182f287-5a4b-4f60-9c43-e0137cdf4a30",
   "metadata": {},
   "outputs": [],
   "source": [
    "# calculate forward pass\n",
    "centers_actual = np.vstack([center_actual] * n_clusters) # I need to subtract every cluster center from the actual one --> repeat n-Cluster times to do it all in one matrix subtraction \n",
    "weights = 2 * (centers_actual - cluster_centers)\n",
    "bias = np.linalg.norm(cluster_centers, ord=2, axis=1)**2 - np.linalg.norm(centers_actual, ord=2, axis=1)**2\n",
    "hidden_1 = weights.dot(observation_i) + bias\n",
    "output = np.amin(np.delete(hidden_1, index_actual))"
   ]
  },
  {
   "cell_type": "code",
   "execution_count": 152,
   "id": "75fd67b2-ac69-4a1a-b45f-3b2aa89836f6",
   "metadata": {},
   "outputs": [],
   "source": [
    "# calculate backward pass\n",
    "# determine beta,\n",
    "beta = 0.5\n",
    "# relevance intermediate layer\n",
    "relevance_intermediate = (np.exp(-beta * hidden_1) / (np.sum(np.exp(-beta * np.delete(hidden_1, index_actual))))) * output\n",
    "# relevance input\n",
    "centers_distance = weights / 4\n",
    "centers_distance_wo_actual = np.delete(centers_distance, index_actual, axis=0)\n",
    "hidden_wo_actual = np.delete(hidden_1, index_actual, axis=0)\n",
    "contribution = np.multiply((np.vstack([observation_i] * (n_clusters - 1)) - centers_distance_wo_actual), np.vstack([hidden_wo_actual]* num_features).T)\n",
    "sum_contribution = np.sum(contribution, axis=0)\n",
    "relevance_intermediate_wo_actual = np.delete(relevance_intermediate, index_actual, axis=0)\n",
    "cluster_contribution = np.multiply(np.vstack([relevance_intermediate_wo_actual] * num_features).T, (contribution / sum_contribution))\n",
    "feature_relevances_2 = np.sum(cluster_contribution, axis=0)"
   ]
  },
  {
   "cell_type": "code",
   "execution_count": 135,
   "id": "e19f3328-956e-48f0-abc4-147cbd7d28b9",
   "metadata": {},
   "outputs": [],
   "source": [
    "rel = np.multiply((np.vstack([observation_i] * (n_clusters - 1)) - centers_distance_wo_actual), np.vstack([hidden_wo_actual] * num_features).T)\n",
    "norm_rel = np.sum(rel, axis=0)\n",
    "quotient = (rel / norm_rel) #* np.delete(relevance_intermediate, index_actual, axis=0)"
   ]
  },
  {
   "cell_type": "code",
   "execution_count": 129,
   "id": "82eb7f07-be45-47d8-b76c-d2a3061ddea6",
   "metadata": {},
   "outputs": [
    {
     "data": {
      "text/plain": [
       "array([3.61217025, 7.53545926, 4.16625167, 3.70579392])"
      ]
     },
     "execution_count": 129,
     "metadata": {},
     "output_type": "execute_result"
    }
   ],
   "source": [
    "relevances_wo = np.delete(relevance_intermediate, index_actual, axis=0)\n",
    "summand = np.multiply(np.vstack([relevances_wo] * num_features).T, (rel / norm_rel))\n",
    "np.sum(summand, axis=0)"
   ]
  },
  {
   "cell_type": "code",
   "execution_count": 8,
   "id": "1caa6c9b-90ff-472c-b4ca-7159fdd0a6d4",
   "metadata": {},
   "outputs": [],
   "source": [
    "neon = NeonKMeansExplainer(cluster_centers=cluster_centers, data=X, predictions=cluster_predictions)"
   ]
  },
  {
   "cell_type": "code",
   "execution_count": 9,
   "id": "95ef27e7-609b-41c9-a580-634d06919390",
   "metadata": {},
   "outputs": [
    {
     "data": {
      "text/plain": [
       "<cxplain.neon.NeonKMeansExplainer at 0x206d2ed2fd0>"
      ]
     },
     "execution_count": 9,
     "metadata": {},
     "output_type": "execute_result"
    }
   ],
   "source": [
    "neon.fit()"
   ]
  },
  {
   "cell_type": "code",
   "execution_count": 10,
   "id": "718afe5a-023b-40de-8b13-95fb51a1b518",
   "metadata": {},
   "outputs": [
    {
     "data": {
      "text/plain": [
       "True"
      ]
     },
     "execution_count": 10,
     "metadata": {},
     "output_type": "execute_result"
    }
   ],
   "source": [
    "neon.is_fitted"
   ]
  },
  {
   "cell_type": "code",
   "execution_count": 11,
   "id": "a5834be5-35bb-43d7-8d00-8a6423986819",
   "metadata": {},
   "outputs": [],
   "source": [
    "neon_explanation = neon.explain()"
   ]
  },
  {
   "cell_type": "code",
   "execution_count": 12,
   "id": "7b78f7c3-7c1d-4235-813f-beba21fe0a92",
   "metadata": {},
   "outputs": [
    {
     "data": {
      "text/plain": [
       "GlobalExplainedClustering(global_relevance=R1    1.795856\n",
       "R2    1.787152\n",
       "R3    1.770622\n",
       "R4    1.729748\n",
       "dtype: float64)"
      ]
     },
     "execution_count": 12,
     "metadata": {},
     "output_type": "execute_result"
    }
   ],
   "source": [
    "neon_explanation.global_relevance"
   ]
  },
  {
   "cell_type": "code",
   "execution_count": 233,
   "id": "717c78fc-24d6-4c7c-9e41-c2ef7857db90",
   "metadata": {},
   "outputs": [
    {
     "data": {
      "text/plain": [
       "0.17456391396625548"
      ]
     },
     "execution_count": 233,
     "metadata": {},
     "output_type": "execute_result"
    }
   ],
   "source": [
    "network = neon._init_network(0)\n",
    "beta = neon._get_beta()\n",
    "beta"
   ]
  },
  {
   "cell_type": "code",
   "execution_count": 234,
   "id": "20a947b7-a9ca-4631-8232-d06e9ce1e37b",
   "metadata": {},
   "outputs": [
    {
     "data": {
      "text/plain": [
       "11.671294713839742"
      ]
     },
     "execution_count": 234,
     "metadata": {},
     "output_type": "execute_result"
    }
   ],
   "source": [
    "network.forward(X[0])\n",
    "network.output"
   ]
  },
  {
   "cell_type": "code",
   "execution_count": 235,
   "id": "fe08aef6-997c-4e1b-bcf1-673f5c76ce2e",
   "metadata": {},
   "outputs": [
    {
     "data": {
      "text/plain": [
       "array([3.84030905, 3.90558126, 3.58400297, 3.34829464])"
      ]
     },
     "execution_count": 235,
     "metadata": {},
     "output_type": "execute_result"
    }
   ],
   "source": [
    "network.backward(X[0], beta)"
   ]
  },
  {
   "cell_type": "code",
   "execution_count": 236,
   "id": "8ceb6ccd-fbf3-41f6-bb38-7437db3ccc1b",
   "metadata": {},
   "outputs": [
    {
     "data": {
      "text/plain": [
       "array([3.45867224, 3.53642868, 3.15334397, 2.87255308])"
      ]
     },
     "execution_count": 236,
     "metadata": {},
     "output_type": "execute_result"
    }
   ],
   "source": [
    "feature_relevances_2"
   ]
  },
  {
   "cell_type": "code",
   "execution_count": 15,
   "id": "91d30458-3b3c-4e94-b2cb-a49214a0bd4f",
   "metadata": {
    "tags": []
   },
   "outputs": [],
   "source": [
    "index_actual = 0\n",
    "weights = np.random.rand(3, 2)\n",
    "bias = np.random.rand(3)\n",
    "network = KMeansNetwork(index_actual, weights, bias)"
   ]
  },
  {
   "cell_type": "code",
   "execution_count": 16,
   "id": "c7848e21-24b3-46c5-bf5e-d00cdfbfacb9",
   "metadata": {
    "tags": []
   },
   "outputs": [
    {
     "data": {
      "text/plain": [
       "KMeansNetwork(index_actual=0, weights=array([[0.03612795, 0.00685319],\n",
       "       [0.78927364, 0.52706107],\n",
       "       [0.26066141, 0.50494594]]), bias=array([0.05766161, 0.74282246, 0.28015332]), hidden_layer=array([0.09262359, 1.8494439 , 0.94623047]), output=0.9462304660572811)"
      ]
     },
     "execution_count": 16,
     "metadata": {},
     "output_type": "execute_result"
    }
   ],
   "source": [
    "observation = np.random.rand(2)\n",
    "network.forward(observation)"
   ]
  },
  {
   "cell_type": "code",
   "execution_count": 19,
   "id": "23f3546b-b361-4fd0-a785-247a28f0495e",
   "metadata": {
    "tags": []
   },
   "outputs": [
    {
     "data": {
      "text/plain": [
       "array([0.44884727, 0.43950969])"
      ]
     },
     "execution_count": 19,
     "metadata": {},
     "output_type": "execute_result"
    }
   ],
   "source": [
    "beta = 0.5\n",
    "feature_relevances = network.backward(observation, beta)\n",
    "feature_relevances"
   ]
  },
  {
   "cell_type": "code",
   "execution_count": 20,
   "id": "6b2bc875-bc76-4d53-9d28-4535529db447",
   "metadata": {
    "tags": []
   },
   "outputs": [],
   "source": [
    "network._check_forward_pass()"
   ]
  },
  {
   "cell_type": "code",
   "execution_count": 14,
   "id": "2535be9d-1b89-4b9c-ba31-e758bc9b3edc",
   "metadata": {
    "tags": []
   },
   "outputs": [
    {
     "data": {
      "text/plain": [
       "array(['feature_A', 'feature_B'], dtype=object)"
      ]
     },
     "execution_count": 14,
     "metadata": {},
     "output_type": "execute_result"
    }
   ],
   "source": [
    "df = pd.DataFrame({0: [1, 2, 3], 1: [4, 5, 6]})\n",
    "num_features = 2\n",
    "feature_names = [\"feature_A\", \"feature_B\"]\n",
    "renamed_df = BaseExplainer._rename_feature_columns(df, num_features, feature_names)\n",
    "renamed_df.columns.values"
   ]
  },
  {
   "cell_type": "code",
   "execution_count": 12,
   "id": "d71e184c-4581-4ecc-b2e4-35ab45b51bea",
   "metadata": {
    "tags": []
   },
   "outputs": [
    {
     "data": {
      "text/plain": [
       "{0: 'feature_A', 1: 'feature_B'}"
      ]
     },
     "execution_count": 12,
     "metadata": {},
     "output_type": "execute_result"
    }
   ],
   "source": [
    "{\n",
    "                index_: feature_names[index_] if feature_names else f\"R{index_ + 1}\"\n",
    "                for index_ in range(num_features)\n",
    "            }"
   ]
  },
  {
   "cell_type": "code",
   "execution_count": 11,
   "id": "359306e4-7db2-4e23-b412-bdbb76ae872f",
   "metadata": {
    "tags": []
   },
   "outputs": [
    {
     "data": {
      "text/html": [
       "<div>\n",
       "<style scoped>\n",
       "    .dataframe tbody tr th:only-of-type {\n",
       "        vertical-align: middle;\n",
       "    }\n",
       "\n",
       "    .dataframe tbody tr th {\n",
       "        vertical-align: top;\n",
       "    }\n",
       "\n",
       "    .dataframe thead th {\n",
       "        text-align: right;\n",
       "    }\n",
       "</style>\n",
       "<table border=\"1\" class=\"dataframe\">\n",
       "  <thead>\n",
       "    <tr style=\"text-align: right;\">\n",
       "      <th></th>\n",
       "      <th>R1</th>\n",
       "      <th>R2</th>\n",
       "    </tr>\n",
       "  </thead>\n",
       "  <tbody>\n",
       "    <tr>\n",
       "      <th>0</th>\n",
       "      <td>1</td>\n",
       "      <td>4</td>\n",
       "    </tr>\n",
       "    <tr>\n",
       "      <th>1</th>\n",
       "      <td>2</td>\n",
       "      <td>5</td>\n",
       "    </tr>\n",
       "    <tr>\n",
       "      <th>2</th>\n",
       "      <td>3</td>\n",
       "      <td>6</td>\n",
       "    </tr>\n",
       "  </tbody>\n",
       "</table>\n",
       "</div>"
      ],
      "text/plain": [
       "   R1  R2\n",
       "0   1   4\n",
       "1   2   5\n",
       "2   3   6"
      ]
     },
     "execution_count": 11,
     "metadata": {},
     "output_type": "execute_result"
    }
   ],
   "source": [
    "df.rename(\n",
    "            {\n",
    "                index_: feature_names[index_] if feature_names else f\"R{index_ + 1}\"\n",
    "                for index_ in range(num_features)\n",
    "            },\n",
    "            axis=1,\n",
    "        )"
   ]
  }
 ],
 "metadata": {
  "kernelspec": {
   "display_name": "cxplain",
   "language": "python",
   "name": "cxplain"
  },
  "language_info": {
   "codemirror_mode": {
    "name": "ipython",
    "version": 3
   },
   "file_extension": ".py",
   "mimetype": "text/x-python",
   "name": "python",
   "nbconvert_exporter": "python",
   "pygments_lexer": "ipython3",
   "version": "3.9.7"
  }
 },
 "nbformat": 4,
 "nbformat_minor": 5
}
