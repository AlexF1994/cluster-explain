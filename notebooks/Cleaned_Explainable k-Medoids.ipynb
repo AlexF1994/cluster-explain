{
 "cells": [
  {
   "cell_type": "markdown",
   "id": "e25b8a7c",
   "metadata": {},
   "source": [
    "## Explainable k-Medoids"
   ]
  },
  {
   "cell_type": "code",
   "execution_count": 31,
   "id": "ed511a8b",
   "metadata": {},
   "outputs": [],
   "source": [
    "import matplotlib.pyplot as plt\n",
    "from sklearn import datasets\n",
    "import mpl_toolkits.mplot3d \n",
    "from sklearn.cluster import KMeans\n",
    "from sklearn import metrics\n",
    "import numpy as np\n",
    "import pandas as pd"
   ]
  },
  {
   "cell_type": "code",
   "execution_count": 32,
   "id": "132a326f",
   "metadata": {},
   "outputs": [],
   "source": [
    "iris = datasets.load_iris()\n",
    "X = iris.data\n",
    "y = iris.target"
   ]
  },
  {
   "cell_type": "code",
   "execution_count": 33,
   "id": "5f871478",
   "metadata": {},
   "outputs": [],
   "source": [
    "kmeans = KMeans(n_clusters=3, random_state=3).fit(X)"
   ]
  },
  {
   "cell_type": "code",
   "execution_count": 34,
   "id": "a5d10dad-aa39-4fc4-bb10-372a2d561125",
   "metadata": {},
   "outputs": [],
   "source": [
    "clusters = kmeans.cluster_centers_ "
   ]
  },
  {
   "cell_type": "code",
   "execution_count": 35,
   "id": "f2a28b23-16ab-464e-959b-e046652b0bb4",
   "metadata": {},
   "outputs": [],
   "source": [
    "preds = kmeans.predict(X)"
   ]
  },
  {
   "cell_type": "code",
   "execution_count": 36,
   "id": "06ad24de",
   "metadata": {
    "scrolled": true,
    "tags": []
   },
   "outputs": [],
   "source": [
    "def calc_feature_wise_distance_matrix(distance_metric, points, cluster_centers):\n",
    "    \n",
    "    centers_lst = []\n",
    "\n",
    "    for i in points:\n",
    "        centers_lst.append(np.array(cluster_centers))\n",
    "    \n",
    "    c = np.array(centers_lst)\n",
    "\n",
    "    # calculate the distance of every feature value of ever obs to every feature value in every cluster.\n",
    "    \n",
    "    feature_wise_distance_matrix = []\n",
    "    \n",
    "    if distance_metric == \"manhattan\":\n",
    "        for i,e in enumerate(X):\n",
    "            feature_wise_distance_matrix.append(abs(c[i] - e))\n",
    "        \n",
    "    \n",
    "    if distance_metric == \"euclidean\":\n",
    "        for i,e in enumerate(X):\n",
    "            feature_wise_distance_matrix.append((c[i] - e)**2)\n",
    "    \n",
    "    return np.array(feature_wise_distance_matrix)"
   ]
  },
  {
   "cell_type": "code",
   "execution_count": 37,
   "id": "85d869e4",
   "metadata": {},
   "outputs": [],
   "source": [
    "A =calc_feature_wise_distance_matrix(\"manhattan\", X, clusters)"
   ]
  },
  {
   "cell_type": "code",
   "execution_count": 38,
   "id": "2ae18c0c",
   "metadata": {},
   "outputs": [],
   "source": [
    "def best_second_calc(feature_based_distances, preds):\n",
    "    \n",
    "    num_features = feature_based_distances.shape[2]\n",
    "    \n",
    "    assinged_cluster_list = []\n",
    "    fb_distance_to_assinged_cluster_list = []\n",
    "    \n",
    "    best_alterantive_list = []\n",
    "    fb_distance_to_best_alternative_list = []\n",
    "    \n",
    "    #for every obs:\n",
    "    for idx, e in enumerate(feature_based_distances):\n",
    "        #index of assinged cluster\n",
    "        assigned_cluster = preds[idx]\n",
    "        #feature-wise distances of point to assigned cluster\n",
    "        distances_to_assigned = e[assigned_cluster]\n",
    "        \n",
    "        assinged_cluster_list.append(assigned_cluster)\n",
    "        fb_distance_to_assinged_cluster_list.append(distances_to_assigned)\n",
    "        \n",
    "        #find best alternative:\n",
    "        \n",
    "        temp_bad = []\n",
    "        temp_idx = []\n",
    "        \n",
    "        #for every feature\n",
    "        for i in range(num_features):\n",
    "            \n",
    "            \n",
    "            # best alternative: \n",
    "            best_alternative_distance = min(e[:,i])\n",
    "            x = e[:,i].tolist()\n",
    "            idx_best_alternative = x.index(best_alternative_distance)\n",
    "            \n",
    "            \n",
    "            #if the best alternative is the assigned cluster, we have to find the second best alternative\n",
    "            if idx_best_alternative == assigned_cluster:\n",
    "                \n",
    "                del x[idx_best_alternative]\n",
    "                best_alternative_distance = min(x)\n",
    "                idx_best_alternative = x.index(best_alternative_distance)\n",
    "                \n",
    "            temp_bad.append(best_alternative_distance)\n",
    "            temp_idx.append(idx_best_alternative)\n",
    "\n",
    "        best_alterantive_list.append(temp_idx)\n",
    "        fb_distance_to_best_alternative_list.append(temp_bad)     \n",
    "            \n",
    "    return np.array(assinged_cluster_list), np.array(fb_distance_to_assinged_cluster_list), np.array(best_alterantive_list), np.array(fb_distance_to_best_alternative_list)"
   ]
  },
  {
   "cell_type": "code",
   "execution_count": 39,
   "id": "753edda3",
   "metadata": {},
   "outputs": [],
   "source": [
    "ac ,fb_ac ,ba, fb_ba = best_second_calc(A, preds)"
   ]
  },
  {
   "cell_type": "markdown",
   "id": "25cd0540-a527-4a29-bba5-4bc4695cf33e",
   "metadata": {
    "tags": []
   },
   "source": [
    "## Relevance of feature j for point i:\n",
    "\n",
    "$$R_{ji} := R_j(x_{ij},c_{kj},c_{k'_{ij}}) := \\frac{d_j(x_{ij},c_{k'_{ij}}) - d_j(x_{ij},c_{kj})}{d_j(x_{ij},c_{k'_{ij}}) + d_j(x_{ij},c_{kj})}$$"
   ]
  },
  {
   "cell_type": "markdown",
   "id": "7dde9fc6-c498-47f8-a72f-30c20c480695",
   "metadata": {},
   "source": [
    "$d_j(x_{ij},c_{k'_{ij}}$ is the distance to the best alternative.\n",
    "\n",
    "$d_j(x_{ij},c_{kj})$ is the distance to the associated cluster."
   ]
  },
  {
   "cell_type": "code",
   "execution_count": 40,
   "id": "3c930e9b-94b7-4f68-af28-a9d2cf8aae58",
   "metadata": {},
   "outputs": [],
   "source": [
    "# broadcasted: for every i, for every j\n",
    "R = (fb_ba - fb_ac) / (fb_ba + fb_ac)"
   ]
  },
  {
   "cell_type": "code",
   "execution_count": 41,
   "id": "5de8d9b3-0824-4060-8ec9-a0361842b902",
   "metadata": {},
   "outputs": [
    {
     "data": {
      "text/plain": [
       "array([[ 0.79008788,  0.71102662,  0.95941809,  0.92811775],\n",
       "       [ 0.80859739, -0.70625262,  0.95941809,  0.92811775],\n",
       "       [ 0.59406025, -0.28698752,  0.9004776 ,  0.92811775],\n",
       "       [ 0.52448239, -0.85145573,  0.97407513,  0.92811775],\n",
       "       [ 0.9867785 ,  0.50738619,  0.95941809,  0.92811775],\n",
       "       [ 0.1201556 ,  0.27290417,  0.83762847,  0.74071258],\n",
       "       [ 0.52448239,  0.8419489 ,  0.95941809,  0.90908103],\n",
       "       [ 0.9867785 ,  0.8419489 ,  0.97407513,  0.92811775],\n",
       "       [ 0.42494184, -0.55382571,  0.95941809,  0.92811775],\n",
       "       [ 0.80859739, -0.85145573,  0.97407513,  0.8026855 ],\n",
       "       [ 0.1201556 ,  0.39442231,  0.97407513,  0.92811775],\n",
       "       [ 0.68492204,  0.8419489 ,  0.9058518 ,  0.92811775],\n",
       "       [ 0.68492204, -0.70625262,  0.95941809,  0.8026855 ],\n",
       "       [ 0.38811228, -0.70625262,  0.8019449 ,  0.8026855 ],\n",
       "       [-0.77308745,  0.23647604,  0.84835981,  0.92811775],\n",
       "       [-0.54977669,  0.15416323,  0.97407513,  0.74071258],\n",
       "       [ 0.1201556 ,  0.27290417,  0.9004776 ,  0.74071258],\n",
       "       [ 0.79008788,  0.71102662,  0.95941809,  0.90908103],\n",
       "       [-0.54977669,  0.32259919,  0.83762847,  0.90908103],\n",
       "       [ 0.79008788,  0.32259919,  0.97407513,  0.90908103],\n",
       "       [ 0.1201556 ,  0.8419489 ,  0.83762847,  0.92811775],\n",
       "       [ 0.79008788,  0.39442231,  0.97407513,  0.74071258],\n",
       "       [ 0.52448239,  0.50738619,  0.76034538,  0.92811775],\n",
       "       [ 0.79008788,  0.27748069,  0.83762847,  0.57234412],\n",
       "       [ 0.68492204,  0.8419489 ,  0.7011818 ,  0.92811775],\n",
       "       [ 0.9867785 , -0.70625262,  0.9058518 ,  0.92811775],\n",
       "       [ 0.9867785 ,  0.8419489 ,  0.9058518 ,  0.74071258],\n",
       "       [ 0.56677712,  0.71102662,  0.97407513,  0.92811775],\n",
       "       [ 0.56677712,  0.8419489 ,  0.95941809,  0.92811775],\n",
       "       [ 0.59406025, -0.28698752,  0.9058518 ,  0.92811775],\n",
       "       [ 0.68492204, -0.85145573,  0.9058518 ,  0.92811775],\n",
       "       [ 0.1201556 ,  0.8419489 ,  0.97407513,  0.74071258],\n",
       "       [ 0.56677712,  0.20862774,  0.97407513,  0.8026855 ],\n",
       "       [-0.10315516,  0.18664744,  0.95941809,  0.92811775],\n",
       "       [ 0.80859739, -0.85145573,  0.97407513,  0.92811775],\n",
       "       [ 0.9867785 , -0.28698752,  0.84835981,  0.92811775],\n",
       "       [-0.10315516,  0.71102662,  0.9004776 ,  0.92811775],\n",
       "       [ 0.80859739,  0.50738619,  0.95941809,  0.8026855 ],\n",
       "       [ 0.42494184, -0.70625262,  0.9004776 ,  0.92811775],\n",
       "       [ 0.79008788,  0.8419489 ,  0.97407513,  0.92811775],\n",
       "       [ 0.9867785 ,  0.71102662,  0.9004776 ,  0.90908103],\n",
       "       [ 0.46949405, -0.43112057,  0.9004776 ,  0.90908103],\n",
       "       [ 0.42494184, -0.28698752,  0.9004776 ,  0.92811775],\n",
       "       [ 0.9867785 ,  0.71102662,  0.9058518 ,  0.40397567],\n",
       "       [ 0.79008788,  0.32259919,  0.7011818 ,  0.74071258],\n",
       "       [ 0.68492204, -0.70625262,  0.95941809,  0.90908103],\n",
       "       [ 0.79008788,  0.32259919,  0.9058518 ,  0.92811775],\n",
       "       [ 0.52448239, -0.28698752,  0.95941809,  0.92811775],\n",
       "       [ 0.34346636,  0.39442231,  0.97407513,  0.92811775],\n",
       "       [ 0.9867785 ,  0.27748069,  0.95941809,  0.92811775],\n",
       "       [-0.75968992, -0.56286722,  0.54551177,  0.90390173],\n",
       "       [-0.05102041, -0.56286722,  0.84212514,  0.79243272],\n",
       "       [ 0.90461538,  0.85145573, -0.2488984 , -0.79243272],\n",
       "       [ 0.10315516,  0.26618505,  0.63144924,  0.70412758],\n",
       "       [-0.26190476,  0.68267223,  0.69381846,  0.79243272],\n",
       "       [ 0.54977669,  0.68267223,  0.84212514,  0.70412758],\n",
       "       [ 0.15986395, -0.62331498,  0.54551177,  0.47855049],\n",
       "       [-0.80859739,  0.31827243,  0.25394485,  0.26949815],\n",
       "       [-0.47278912,  0.06784969,  0.69381846,  0.70412758],\n",
       "       [-0.56677712,  0.77071601,  0.57737879,  0.90390173],\n",
       "       [-0.9867785 ,  0.17853149,  0.39039151,  0.26949815],\n",
       "       [ 0.99639821, -0.54697286,  0.77697349,  0.79243272],\n",
       "       [ 0.79251701,  0.22874881,  0.63144924,  0.26949815],\n",
       "       [ 0.58163265,  0.06784969,  0.54551177,  0.90390173],\n",
       "       [ 0.32646593,  0.06784969,  0.45861485,  0.70412758],\n",
       "       [-0.68367347, -0.86073675,  0.99043183,  0.90390173],\n",
       "       [ 0.32646593, -0.54697286,  0.84212514,  0.79243272],\n",
       "       [ 0.77308745,  0.77071601,  0.69669327,  0.26949815],\n",
       "       [ 0.3707483 ,  0.22874881,  0.84212514,  0.79243272],\n",
       "       [ 0.32646593,  0.39570425,  0.57737879,  0.43786661],\n",
       "       [ 0.99639821, -0.56286722,  0.39720509, -0.14921396],\n",
       "       [ 0.58163265,  0.68267223,  0.63144924,  0.70412758],\n",
       "       [ 0.15986395,  0.39570425,  0.2488984 ,  0.79243272],\n",
       "       [ 0.58163265,  0.68267223,  0.54551177,  0.57667486],\n",
       "       [-0.05102041,  0.06784969,  0.87816473,  0.70412758],\n",
       "       [-0.47278912, -0.54697286,  0.99043183,  0.90390173],\n",
       "       [-0.89455782,  0.68267223,  0.39720509,  0.90390173],\n",
       "       [ 0.68367347,  0.54697286, -0.10059172, -0.16466827],\n",
       "       [ 0.79251701,  0.06784969,  0.84212514,  0.79243272],\n",
       "       [ 0.54977669,  0.52292576,  0.39039151,  0.26949815],\n",
       "       [ 0.10315516,  0.31827243,  0.53183796,  0.43786661],\n",
       "       [ 0.10315516,  0.31827243,  0.492956  ,  0.26949815],\n",
       "       [ 0.77308745,  0.77071601,  0.57737879,  0.57667486],\n",
       "       [ 0.79251701,  0.77071601, -0.04771497,  0.47855049],\n",
       "       [-0.1201556 , -0.54697286,  0.84212514,  0.79243272],\n",
       "       [ 0.79251701, -0.91760015,  0.84212514,  0.47855049],\n",
       "       [-0.68367347, -0.86073675,  0.54551177,  0.79243272],\n",
       "       [ 0.15986395,  0.26618505,  0.99043183,  0.70412758],\n",
       "       [ 0.32646593, -0.54697286,  0.69669327,  0.70412758],\n",
       "       [ 0.10315516,  0.39570425,  0.63144924,  0.70412758],\n",
       "       [ 0.10315516,  0.52292576,  0.99043183,  0.57667486],\n",
       "       [ 0.58163265, -0.54697286,  0.69381846,  0.90390173],\n",
       "       [ 0.77308745,  0.52292576,  0.63144924,  0.57667486],\n",
       "       [-0.9867785 ,  0.26618505,  0.25394485,  0.26949815],\n",
       "       [ 0.32646593,  0.77071601,  0.77697349,  0.70412758],\n",
       "       [ 0.54977669, -0.54697286,  0.77697349,  0.57667486],\n",
       "       [ 0.54977669,  0.06784969,  0.77697349,  0.70412758],\n",
       "       [ 0.3707483 ,  0.06784969,  0.87816473,  0.70412758],\n",
       "       [-0.79008788,  0.39570425,  0.04927485,  0.43786661],\n",
       "       [ 0.54977669,  0.68267223,  0.69669327,  0.70412758],\n",
       "       [-0.15986395, -0.27748069,  0.72334032,  0.42618669],\n",
       "       [ 0.77308745,  0.77071601, -0.04771497, -0.46309619],\n",
       "       [ 0.65478842,  0.54697286,  0.81026216,  0.91670738],\n",
       "       [-0.15986395, -0.06784969,  0.78924839,  0.14921396],\n",
       "       [ 0.26190476,  0.54697286,  0.92092754,  0.71187405],\n",
       "       [ 0.38735178,  0.54697286,  0.44007978,  0.91670738],\n",
       "       [-0.80859739,  0.39570425,  0.84212514,  0.16466827],\n",
       "       [ 0.51308901, -0.06784969,  0.54722701,  0.14921396],\n",
       "       [ 0.68367347, -0.39570425,  0.92092754,  0.14921396],\n",
       "       [ 0.57534247, -0.50738619,  0.65326096,  0.42618669],\n",
       "       [ 0.26190476,  0.28698752,  0.04771497,  0.77697842],\n",
       "       [ 0.05102041, -0.77071601,  0.34432834,  0.46309619],\n",
       "       [ 0.89455782,  0.54697286,  0.64094171,  0.91670738],\n",
       "       [ 0.54977669,  0.39570425,  0.10059172, -0.77697842],\n",
       "       [ 0.77308745,  0.68267223, -0.04771497, -0.49200315],\n",
       "       [ 0.05102041,  0.28698752,  0.34432834,  0.58186047],\n",
       "       [ 0.26190476,  0.54697286,  0.64094171,  0.14921396],\n",
       "       [ 0.35809988, -0.32259919,  0.41311697,  0.71187405],\n",
       "       [ 0.35809988, -0.52292576,  0.36802113,  0.58186047],\n",
       "       [ 0.79251701,  0.22874881,  0.10059172,  0.79243272],\n",
       "       [ 0.90461538,  0.28698752,  0.93755508,  0.58186047],\n",
       "       [ 0.32646593,  0.68267223,  0.2488984 , -0.77697842],\n",
       "       [ 0.35809988, -0.68267223,  0.41311697,  0.77697842],\n",
       "       [ 0.15986395,  0.77071601,  0.2488984 , -0.14921396],\n",
       "       [ 0.68367347, -0.27748069,  0.93755508,  0.91670738],\n",
       "       [ 0.57534247,  0.28698752,  0.72334032,  0.14921396],\n",
       "       [ 0.3707483 ,  0.68267223,  0.39720509, -0.14921396],\n",
       "       [ 0.58163265, -0.54697286,  0.2488984 , -0.14921396],\n",
       "       [ 0.05102041, -0.68267223,  0.78924839,  0.91670738],\n",
       "       [ 0.57534247,  0.54697286,  0.92092754, -0.47855049],\n",
       "       [ 0.46299213, -0.68267223,  0.65326096,  0.46309619],\n",
       "       [ 0.31111111, -0.32259919,  0.50614924,  0.77697842],\n",
       "       [ 0.05102041, -0.68267223,  0.78924839,  0.71187405],\n",
       "       [ 0.15986395,  0.68267223, -0.04771497,  0.79243272],\n",
       "       [-0.58163265, -0.52292576,  0.78924839, -0.90390173],\n",
       "       [ 0.35809988,  0.54697286,  0.65326096,  0.58186047],\n",
       "       [-0.15986395, -0.8419489 ,  0.78924839,  0.49200315],\n",
       "       [ 0.05102041,  0.85145573,  0.64094171,  0.14921396],\n",
       "       [ 0.79251701, -0.54697286,  0.39720509, -0.14921396],\n",
       "       [ 0.90461538,  0.85145573,  0.49263502,  0.91670738],\n",
       "       [ 0.68367347,  0.85145573,  0.78924839,  0.49200315],\n",
       "       [ 0.90461538,  0.85145573,  0.04771497,  0.58186047],\n",
       "       [ 0.77308745,  0.77071601, -0.04771497, -0.46309619],\n",
       "       [ 0.89455782,  0.28698752,  0.81026216,  0.58186047],\n",
       "       [ 0.68367347, -0.27748069,  0.93755508,  0.42618669],\n",
       "       [ 0.68367347,  0.54697286,  0.19602165,  0.58186047],\n",
       "       [ 0.15986395,  0.39570425,  0.10059172, -0.46309619],\n",
       "       [ 0.26190476,  0.54697286,  0.19602165,  0.77697842],\n",
       "       [-0.3707483 , -0.8419489 ,  0.49263502,  0.58186047],\n",
       "       [ 0.99639821, -0.54697286, -0.04771497, -0.14921396]])"
      ]
     },
     "execution_count": 41,
     "metadata": {},
     "output_type": "execute_result"
    }
   ],
   "source": [
    "R"
   ]
  },
  {
   "cell_type": "markdown",
   "id": "71fa5fc2-37ce-4f1c-ad50-81e2bcc4df00",
   "metadata": {},
   "source": [
    "## Global relevances"
   ]
  },
  {
   "cell_type": "code",
   "execution_count": 42,
   "id": "1b66d9b7-3280-49d0-ac27-b1d93f0c7190",
   "metadata": {},
   "outputs": [],
   "source": [
    "R_global = {\"R_global_\" + str(i) : np.sum(R[:,i]) / len(R) for i in range(R.shape[1])}  "
   ]
  },
  {
   "cell_type": "code",
   "execution_count": 43,
   "id": "71a7104e-f24b-45f4-9c6a-65dcda88a5c9",
   "metadata": {},
   "outputs": [
    {
     "data": {
      "text/plain": [
       "{'R_global_0': 0.36975277918798033,\n",
       " 'R_global_1': 0.13387253867696042,\n",
       " 'R_global_2': 0.6688310755220815,\n",
       " 'R_global_3': 0.5876523318789212}"
      ]
     },
     "execution_count": 43,
     "metadata": {},
     "output_type": "execute_result"
    }
   ],
   "source": [
    "R_global"
   ]
  },
  {
   "cell_type": "markdown",
   "id": "604e6889-6a52-4fde-a5d2-4d941adaeac2",
   "metadata": {},
   "source": [
    "## Cluster - wise relevances"
   ]
  },
  {
   "cell_type": "code",
   "execution_count": 44,
   "id": "4951163b-8402-4059-94fe-636a5285acbb",
   "metadata": {},
   "outputs": [],
   "source": [
    "df_c = pd.DataFrame(R)\n",
    "df_c.rename({0:\"R1\", 1: \"R2\", 2: \"R3\", 3: \"R4\"}, axis=1, inplace = True)\n",
    "df_c[\"assigned_clusters\"] = preds"
   ]
  },
  {
   "cell_type": "code",
   "execution_count": 45,
   "id": "b1c9fd37-d659-41c1-8898-4e31021865ad",
   "metadata": {},
   "outputs": [],
   "source": [
    "R_c = df_c.groupby([\"assigned_clusters\"]).mean()"
   ]
  },
  {
   "cell_type": "code",
   "execution_count": 46,
   "id": "f3630572-eb01-46ff-b677-aad0ca18a726",
   "metadata": {},
   "outputs": [
    {
     "data": {
      "text/html": [
       "<div>\n",
       "<style scoped>\n",
       "    .dataframe tbody tr th:only-of-type {\n",
       "        vertical-align: middle;\n",
       "    }\n",
       "\n",
       "    .dataframe tbody tr th {\n",
       "        vertical-align: top;\n",
       "    }\n",
       "\n",
       "    .dataframe thead th {\n",
       "        text-align: right;\n",
       "    }\n",
       "</style>\n",
       "<table border=\"1\" class=\"dataframe\">\n",
       "  <thead>\n",
       "    <tr style=\"text-align: right;\">\n",
       "      <th></th>\n",
       "      <th>R1</th>\n",
       "      <th>R2</th>\n",
       "      <th>R3</th>\n",
       "      <th>R4</th>\n",
       "    </tr>\n",
       "    <tr>\n",
       "      <th>assigned_clusters</th>\n",
       "      <th></th>\n",
       "      <th></th>\n",
       "      <th></th>\n",
       "      <th></th>\n",
       "    </tr>\n",
       "  </thead>\n",
       "  <tbody>\n",
       "    <tr>\n",
       "      <th>0</th>\n",
       "      <td>0.221561</td>\n",
       "      <td>0.161347</td>\n",
       "      <td>0.528592</td>\n",
       "      <td>0.444371</td>\n",
       "    </tr>\n",
       "    <tr>\n",
       "      <th>1</th>\n",
       "      <td>0.537161</td>\n",
       "      <td>0.153260</td>\n",
       "      <td>0.915832</td>\n",
       "      <td>0.869074</td>\n",
       "    </tr>\n",
       "    <tr>\n",
       "      <th>2</th>\n",
       "      <td>0.391266</td>\n",
       "      <td>0.063536</td>\n",
       "      <td>0.572641</td>\n",
       "      <td>0.451136</td>\n",
       "    </tr>\n",
       "  </tbody>\n",
       "</table>\n",
       "</div>"
      ],
      "text/plain": [
       "                         R1        R2        R3        R4\n",
       "assigned_clusters                                        \n",
       "0                  0.221561  0.161347  0.528592  0.444371\n",
       "1                  0.537161  0.153260  0.915832  0.869074\n",
       "2                  0.391266  0.063536  0.572641  0.451136"
      ]
     },
     "execution_count": 46,
     "metadata": {},
     "output_type": "execute_result"
    }
   ],
   "source": [
    "R_c"
   ]
  },
  {
   "cell_type": "markdown",
   "id": "42648194-eb20-4994-ae74-2844e7ec2c62",
   "metadata": {
    "tags": []
   },
   "source": [
    "## Example Random Noise"
   ]
  },
  {
   "cell_type": "code",
   "execution_count": 47,
   "id": "6ba57ea9-994b-405c-a384-21170ae88291",
   "metadata": {},
   "outputs": [],
   "source": [
    "df_X = pd.DataFrame(X)\n",
    "df_X.rename({0:\"X1\", 1: \"X2\", 2: \"X3\", 3: \"X4\"}, axis=1, inplace = True)"
   ]
  },
  {
   "cell_type": "code",
   "execution_count": 48,
   "id": "c0fa3c53-fdc4-4387-8de4-b5340743f68a",
   "metadata": {},
   "outputs": [],
   "source": [
    "X_5 = np.random.rand(150)\n",
    "X_6 = np.random.rand(150)"
   ]
  },
  {
   "cell_type": "code",
   "execution_count": 49,
   "id": "303568c0-508f-4a45-821f-20a3e0a6e90f",
   "metadata": {},
   "outputs": [],
   "source": [
    "df_X[\"X_5\"] = X_5\n",
    "df_X[\"X6\"] = X_6"
   ]
  },
  {
   "cell_type": "code",
   "execution_count": 50,
   "id": "61c5205d-ce9e-4ff7-b1be-723aedf0673b",
   "metadata": {},
   "outputs": [],
   "source": [
    "X = df_X.values\n",
    "kmeans = KMeans(n_clusters=3, random_state=3).fit(X)"
   ]
  },
  {
   "cell_type": "code",
   "execution_count": 51,
   "id": "d4721ae8-cbb0-4a59-a109-ae7d6d4898c0",
   "metadata": {},
   "outputs": [
    {
     "data": {
      "text/html": [
       "<div>\n",
       "<style scoped>\n",
       "    .dataframe tbody tr th:only-of-type {\n",
       "        vertical-align: middle;\n",
       "    }\n",
       "\n",
       "    .dataframe tbody tr th {\n",
       "        vertical-align: top;\n",
       "    }\n",
       "\n",
       "    .dataframe thead th {\n",
       "        text-align: right;\n",
       "    }\n",
       "</style>\n",
       "<table border=\"1\" class=\"dataframe\">\n",
       "  <thead>\n",
       "    <tr style=\"text-align: right;\">\n",
       "      <th></th>\n",
       "      <th>X1</th>\n",
       "      <th>X2</th>\n",
       "      <th>X3</th>\n",
       "      <th>X4</th>\n",
       "      <th>X_5</th>\n",
       "      <th>X6</th>\n",
       "    </tr>\n",
       "  </thead>\n",
       "  <tbody>\n",
       "    <tr>\n",
       "      <th>0</th>\n",
       "      <td>5.1</td>\n",
       "      <td>3.5</td>\n",
       "      <td>1.4</td>\n",
       "      <td>0.2</td>\n",
       "      <td>0.220475</td>\n",
       "      <td>0.135275</td>\n",
       "    </tr>\n",
       "    <tr>\n",
       "      <th>1</th>\n",
       "      <td>4.9</td>\n",
       "      <td>3.0</td>\n",
       "      <td>1.4</td>\n",
       "      <td>0.2</td>\n",
       "      <td>0.792414</td>\n",
       "      <td>0.367929</td>\n",
       "    </tr>\n",
       "    <tr>\n",
       "      <th>2</th>\n",
       "      <td>4.7</td>\n",
       "      <td>3.2</td>\n",
       "      <td>1.3</td>\n",
       "      <td>0.2</td>\n",
       "      <td>0.423428</td>\n",
       "      <td>0.531295</td>\n",
       "    </tr>\n",
       "    <tr>\n",
       "      <th>3</th>\n",
       "      <td>4.6</td>\n",
       "      <td>3.1</td>\n",
       "      <td>1.5</td>\n",
       "      <td>0.2</td>\n",
       "      <td>0.792134</td>\n",
       "      <td>0.549090</td>\n",
       "    </tr>\n",
       "    <tr>\n",
       "      <th>4</th>\n",
       "      <td>5.0</td>\n",
       "      <td>3.6</td>\n",
       "      <td>1.4</td>\n",
       "      <td>0.2</td>\n",
       "      <td>0.724471</td>\n",
       "      <td>0.446279</td>\n",
       "    </tr>\n",
       "    <tr>\n",
       "      <th>...</th>\n",
       "      <td>...</td>\n",
       "      <td>...</td>\n",
       "      <td>...</td>\n",
       "      <td>...</td>\n",
       "      <td>...</td>\n",
       "      <td>...</td>\n",
       "    </tr>\n",
       "    <tr>\n",
       "      <th>145</th>\n",
       "      <td>6.7</td>\n",
       "      <td>3.0</td>\n",
       "      <td>5.2</td>\n",
       "      <td>2.3</td>\n",
       "      <td>0.502655</td>\n",
       "      <td>0.564005</td>\n",
       "    </tr>\n",
       "    <tr>\n",
       "      <th>146</th>\n",
       "      <td>6.3</td>\n",
       "      <td>2.5</td>\n",
       "      <td>5.0</td>\n",
       "      <td>1.9</td>\n",
       "      <td>0.535128</td>\n",
       "      <td>0.367379</td>\n",
       "    </tr>\n",
       "    <tr>\n",
       "      <th>147</th>\n",
       "      <td>6.5</td>\n",
       "      <td>3.0</td>\n",
       "      <td>5.2</td>\n",
       "      <td>2.0</td>\n",
       "      <td>0.438741</td>\n",
       "      <td>0.065502</td>\n",
       "    </tr>\n",
       "    <tr>\n",
       "      <th>148</th>\n",
       "      <td>6.2</td>\n",
       "      <td>3.4</td>\n",
       "      <td>5.4</td>\n",
       "      <td>2.3</td>\n",
       "      <td>0.473448</td>\n",
       "      <td>0.830066</td>\n",
       "    </tr>\n",
       "    <tr>\n",
       "      <th>149</th>\n",
       "      <td>5.9</td>\n",
       "      <td>3.0</td>\n",
       "      <td>5.1</td>\n",
       "      <td>1.8</td>\n",
       "      <td>0.900954</td>\n",
       "      <td>0.974539</td>\n",
       "    </tr>\n",
       "  </tbody>\n",
       "</table>\n",
       "<p>150 rows × 6 columns</p>\n",
       "</div>"
      ],
      "text/plain": [
       "      X1   X2   X3   X4       X_5        X6\n",
       "0    5.1  3.5  1.4  0.2  0.220475  0.135275\n",
       "1    4.9  3.0  1.4  0.2  0.792414  0.367929\n",
       "2    4.7  3.2  1.3  0.2  0.423428  0.531295\n",
       "3    4.6  3.1  1.5  0.2  0.792134  0.549090\n",
       "4    5.0  3.6  1.4  0.2  0.724471  0.446279\n",
       "..   ...  ...  ...  ...       ...       ...\n",
       "145  6.7  3.0  5.2  2.3  0.502655  0.564005\n",
       "146  6.3  2.5  5.0  1.9  0.535128  0.367379\n",
       "147  6.5  3.0  5.2  2.0  0.438741  0.065502\n",
       "148  6.2  3.4  5.4  2.3  0.473448  0.830066\n",
       "149  5.9  3.0  5.1  1.8  0.900954  0.974539\n",
       "\n",
       "[150 rows x 6 columns]"
      ]
     },
     "execution_count": 51,
     "metadata": {},
     "output_type": "execute_result"
    }
   ],
   "source": [
    "df_X"
   ]
  },
  {
   "cell_type": "code",
   "execution_count": 52,
   "id": "6e08159d-a018-4dcf-9a64-91491ca613ab",
   "metadata": {},
   "outputs": [
    {
     "data": {
      "text/plain": [
       "103.64085666434812"
      ]
     },
     "execution_count": 52,
     "metadata": {},
     "output_type": "execute_result"
    }
   ],
   "source": [
    "kmeans.inertia_"
   ]
  },
  {
   "cell_type": "code",
   "execution_count": 53,
   "id": "aba3e6c2-c153-4d78-81d6-110e53f69097",
   "metadata": {},
   "outputs": [],
   "source": [
    "### !! darf ich nicht so machen, da sonst fehler bei cluster zuordnung!\n",
    "\n",
    "#prediction is \"false\" but only because the \"label\" is not correct, the class itself is correctly predicted. Maybe this needs to be solved later on differently.\n",
    "preds = kmeans.predict(X)"
   ]
  },
  {
   "cell_type": "code",
   "execution_count": 55,
   "id": "383e6d24-11b3-4cf3-9dfa-20040ca43af5",
   "metadata": {},
   "outputs": [
    {
     "name": "stdout",
     "output_type": "stream",
     "text": [
      "[[5.88360656 2.74098361 4.38852459 1.43442623 0.45132473 0.51246678]\n",
      " [5.006      3.428      1.462      0.246      0.42797707 0.54127521]\n",
      " [6.85384615 3.07692308 5.71538462 2.05384615 0.55184225 0.4529116 ]]\n",
      "(3, 6)\n"
     ]
    }
   ],
   "source": [
    "centers = kmeans.cluster_centers_\n",
    "print(centers)\n",
    "print(centers.shape)"
   ]
  },
  {
   "cell_type": "code",
   "execution_count": 56,
   "id": "37a45486-9e89-48a2-b205-2cdb08a1cac3",
   "metadata": {},
   "outputs": [],
   "source": [
    "A = calc_feature_wise_distance_matrix(distance_metric = \"euclidean\", points = X, cluster_centers=centers)"
   ]
  },
  {
   "cell_type": "code",
   "execution_count": 57,
   "id": "aebfcac3-7518-4bb1-9b0f-c6a9bb2b1291",
   "metadata": {},
   "outputs": [],
   "source": [
    "ac ,fb_ac ,ba, fb_ba = best_second_calc(A, preds)"
   ]
  },
  {
   "cell_type": "code",
   "execution_count": 58,
   "id": "2dabdaa8-7631-4d6a-b11a-1d7c2eff9444",
   "metadata": {},
   "outputs": [],
   "source": [
    "# broadcasted: for every i, for every j\n",
    "R = (fb_ba - fb_ac) / (fb_ba + fb_ac)"
   ]
  },
  {
   "cell_type": "code",
   "execution_count": 60,
   "id": "550fd980-f516-4608-b5db-de0497263e61",
   "metadata": {},
   "outputs": [
    {
     "data": {
      "text/plain": [
       "{'R_global_0': 0.5146801555673295,\n",
       " 'R_global_1': 0.20692686957001968,\n",
       " 'R_global_2': 0.8028122539080923,\n",
       " 'R_global_3': 0.7069228372678296,\n",
       " 'R_global_4': -0.1852375414912179,\n",
       " 'R_global_5': -0.08629074236335037}"
      ]
     },
     "execution_count": 60,
     "metadata": {},
     "output_type": "execute_result"
    }
   ],
   "source": [
    "R_global = {\"R_global_\" + str(i) : np.sum(R[:,i]) / len(R) for i in range(R.shape[1])}  \n",
    "R_global"
   ]
  },
  {
   "cell_type": "markdown",
   "id": "9ce34f68-65b7-4b7b-88bb-279ac2266f3f",
   "metadata": {},
   "source": [
    "Note, that the relevances $R_4$ and $R_5$ of $X_4$ and $X_5$ are close to zero, and even negative. According to the relevance coefficients, $X_4$ and $X_5$ are therefore irrelevant, even a bit harmful for the clustering process overall. As each additional feature increases the $SSW$, $X_4$ and $X_5$ should be excluded from the clustering process."
   ]
  }
 ],
 "metadata": {
  "kernelspec": {
   "display_name": "Python 3 (ipykernel)",
   "language": "python",
   "name": "python3"
  },
  "language_info": {
   "codemirror_mode": {
    "name": "ipython",
    "version": 3
   },
   "file_extension": ".py",
   "mimetype": "text/x-python",
   "name": "python",
   "nbconvert_exporter": "python",
   "pygments_lexer": "ipython3",
   "version": "3.9.12"
  }
 },
 "nbformat": 4,
 "nbformat_minor": 5
}
