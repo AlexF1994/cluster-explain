{
 "cells": [
  {
   "cell_type": "markdown",
   "id": "e25b8a7c",
   "metadata": {},
   "source": [
    "## Explainable k-Medoids"
   ]
  },
  {
   "cell_type": "code",
   "execution_count": 1,
   "id": "a3306ed8-7544-4f2c-b63f-59fe402e465f",
   "metadata": {},
   "outputs": [],
   "source": [
    "%load_ext autoreload\n",
    "%autoreload 2"
   ]
  },
  {
   "cell_type": "code",
   "execution_count": 2,
   "id": "ed511a8b",
   "metadata": {},
   "outputs": [],
   "source": [
    "import matplotlib.pyplot as plt\n",
    "from sklearn import datasets\n",
    "import mpl_toolkits.mplot3d \n",
    "from sklearn.cluster import KMeans\n",
    "from sklearn import metrics\n",
    "import numpy as np\n",
    "import pandas as pd\n",
    "from cxplain.xkm import Xkm"
   ]
  },
  {
   "cell_type": "code",
   "execution_count": 3,
   "id": "5ea25bd5-be5a-4251-b03a-d65de7a9341b",
   "metadata": {},
   "outputs": [],
   "source": [
    "class XkmOld:\n",
    "\n",
    "    \"eXplainable k-medoids\"\n",
    "    \n",
    "    def __init__(self, data, distance_metric, model):\n",
    "        self.distance_metric = distance_metric\n",
    "        self.cluster_centers = model.cluster_centers_  \n",
    "        self.X = data\n",
    "        self.model = model\n",
    "        self.preds = model.predict(X)\n",
    "        \n",
    "    ############################################################################################################\n",
    "    \n",
    "    def calc_feature_wise_distance_matrix(self):\n",
    "         \n",
    "        centers_lst = []\n",
    "\n",
    "        for i in X:\n",
    "            centers_lst.append(np.array(self.cluster_centers))\n",
    "    \n",
    "        c = np.array(centers_lst)\n",
    "\n",
    "        # calculate the distance of every feature value of ever obs to every feature value in every cluster.\n",
    "    \n",
    "        feature_wise_distance_matrix = []\n",
    "    \n",
    "        if self.distance_metric == \"manhattan\":\n",
    "            for i,e in enumerate(self.X):\n",
    "                feature_wise_distance_matrix.append(abs(c[i] - e))\n",
    "        \n",
    "    \n",
    "        if self.distance_metric == \"euclidean\":\n",
    "            for i,e in enumerate(self.X):\n",
    "                feature_wise_distance_matrix.append((c[i] - e)**2)\n",
    "                \n",
    "    \n",
    "        self.feature_wise_distance_matrix = np.array(feature_wise_distance_matrix)\n",
    "\n",
    "    \n",
    "    #############################################################################################################\n",
    "    \n",
    "    def best_calc(self):\n",
    "    \n",
    "        num_features = self.feature_wise_distance_matrix.shape[2]\n",
    "    \n",
    "        assinged_cluster_list = []\n",
    "        fb_distance_to_assinged_cluster_list = []\n",
    "    \n",
    "        best_alterantive_list = []\n",
    "        fb_distance_to_best_alternative_list = []\n",
    "    \n",
    "        #for every obs:\n",
    "        for idx, e in enumerate(self.feature_wise_distance_matrix):\n",
    "            #index of assinged cluster\n",
    "            assigned_cluster = self.preds[idx]\n",
    "            #feature-wise distances of point to assigned cluster\n",
    "            distances_to_assigned = e[assigned_cluster]\n",
    "        \n",
    "            assinged_cluster_list.append(assigned_cluster)\n",
    "            fb_distance_to_assinged_cluster_list.append(distances_to_assigned)\n",
    "        \n",
    "            #find best alternative:\n",
    "        \n",
    "            temp_bad = []\n",
    "            temp_idx = []\n",
    "        \n",
    "            #for every feature\n",
    "            for i in range(num_features):\n",
    "            \n",
    "            \n",
    "                # best alternative: \n",
    "                best_alternative_distance = min(e[:,i])\n",
    "                x = e[:,i].tolist()\n",
    "                idx_best_alternative = x.index(best_alternative_distance)\n",
    "            \n",
    "            \n",
    "                #if the best alternative is the assigned cluster, we have to find the second best alternative\n",
    "                if idx_best_alternative == assigned_cluster:\n",
    "                \n",
    "                    del x[idx_best_alternative]\n",
    "                    best_alternative_distance = min(x)\n",
    "                    idx_best_alternative = x.index(best_alternative_distance)\n",
    "                    \n",
    "                temp_bad.append(best_alternative_distance)\n",
    "                temp_idx.append(idx_best_alternative)\n",
    "\n",
    "            best_alterantive_list.append(temp_idx)\n",
    "            fb_distance_to_best_alternative_list.append(temp_bad)     \n",
    "            \n",
    "        self.ac ,self.fb_ac ,self.ba, self.fb_ba = np.array(assinged_cluster_list), np.array(fb_distance_to_assinged_cluster_list), np.array(best_alterantive_list), np.array(fb_distance_to_best_alternative_list)\n",
    "    \n",
    "    def calc_R_points(self):\n",
    "        self.R_points = (self.fb_ba - self.fb_ac) / (self.fb_ba + self.fb_ac) \n",
    "\n",
    "    def calc_cluster_relevance(self):\n",
    "        df_c = pd.DataFrame(self.R_points)\n",
    "        df_c.rename({0:\"R1\", 1: \"R2\", 2: \"R3\", 3: \"R4\"}, axis=1, inplace = True)\n",
    "        df_c[\"assigned_clusters\"] = self.preds\n",
    "        self.R_clusters = df_c.groupby([\"assigned_clusters\"]).mean()\n",
    "\n",
    "    def calc_R_global(self):\n",
    "        self.R_global = {\"R_global_\" + str(i) : np.sum(self.R_points[:,i]) / len(self.R_points) for i in range(self.R_points.shape[1])} \n",
    "        \n",
    "    def explain(self):\n",
    "        self.calc_feature_wise_distance_matrix()\n",
    "        self.best_calc()\n",
    "        self.calc_R_points()\n",
    "        self.calc_R_global()\n",
    "        self.calc_cluster_relevance()"
   ]
  },
  {
   "cell_type": "code",
   "execution_count": 4,
   "id": "132a326f",
   "metadata": {},
   "outputs": [],
   "source": [
    "iris = datasets.load_iris()\n",
    "X = iris.data\n",
    "y = iris.target"
   ]
  },
  {
   "cell_type": "code",
   "execution_count": 5,
   "id": "48b2ede6-6d99-4a70-9248-c7595f46ccd2",
   "metadata": {},
   "outputs": [],
   "source": [
    "data = np.array([[1, 2, 1, 2],\n",
    "               [2, 3, 2, 3],\n",
    "               [2, 2, 1, 2]])"
   ]
  },
  {
   "cell_type": "code",
   "execution_count": 6,
   "id": "59c1dcda-a0a8-447a-9d9a-9cfdadf0f23d",
   "metadata": {},
   "outputs": [
    {
     "data": {
      "text/plain": [
       "(3, 4)"
      ]
     },
     "execution_count": 6,
     "metadata": {},
     "output_type": "execute_result"
    }
   ],
   "source": [
    "data.shape"
   ]
  },
  {
   "cell_type": "code",
   "execution_count": 7,
   "id": "7074f937-469d-4224-b6bd-cecbd0027e8e",
   "metadata": {},
   "outputs": [],
   "source": [
    "kmeans = KMeans(n_clusters=2, random_state=3).fit(data)"
   ]
  },
  {
   "cell_type": "code",
   "execution_count": 8,
   "id": "fb056ec8-cdce-43d6-8287-6fd7a8e7d82d",
   "metadata": {},
   "outputs": [
    {
     "data": {
      "text/plain": [
       "array([[1.5, 2. , 1. , 2. ],\n",
       "       [2. , 3. , 2. , 3. ]])"
      ]
     },
     "execution_count": 8,
     "metadata": {},
     "output_type": "execute_result"
    }
   ],
   "source": [
    "kmeans.cluster_centers_"
   ]
  },
  {
   "cell_type": "code",
   "execution_count": 9,
   "id": "35e64dec-f288-4fcd-89d4-1c40432b8184",
   "metadata": {},
   "outputs": [
    {
     "data": {
      "text/plain": [
       "array([0, 1, 0])"
      ]
     },
     "execution_count": 9,
     "metadata": {},
     "output_type": "execute_result"
    }
   ],
   "source": [
    "kmeans.predict(data)"
   ]
  },
  {
   "cell_type": "code",
   "execution_count": 10,
   "id": "5f871478",
   "metadata": {},
   "outputs": [],
   "source": [
    "kmeans = KMeans(n_clusters=3, random_state=3).fit(X)\n",
    "cluster_centers = kmeans.cluster_centers_"
   ]
  },
  {
   "cell_type": "code",
   "execution_count": 11,
   "id": "fd0f7fd0-0d44-45dd-a2fe-e916e430eace",
   "metadata": {},
   "outputs": [],
   "source": [
    "predictions = kmeans.predict(X)"
   ]
  },
  {
   "cell_type": "code",
   "execution_count": 12,
   "id": "6e613369-0c72-4ec8-84ac-f826fa2dfb17",
   "metadata": {},
   "outputs": [],
   "source": [
    "F_old = XkmOld(data, \"euclidean\", kmeans)\n",
    "F_new = Xkm(data,  kmeans.cluster_centers_, \"euclidean\", kmeans.predict(data))"
   ]
  },
  {
   "cell_type": "code",
   "execution_count": 13,
   "id": "fef0af8a-35a1-401b-9254-85ca7f6c6d3d",
   "metadata": {},
   "outputs": [],
   "source": [
    "F_new.fit()"
   ]
  },
  {
   "cell_type": "code",
   "execution_count": 14,
   "id": "ac60e430-4063-46a6-9a61-4be8a152f073",
   "metadata": {},
   "outputs": [],
   "source": [
    "point = F_new._calculate_pointwise_relevance()"
   ]
  },
  {
   "cell_type": "code",
   "execution_count": 15,
   "id": "689f7a80-c15d-4059-8b25-8b71a0739950",
   "metadata": {},
   "outputs": [
    {
     "data": {
      "text/plain": [
       "R1    0.236375\n",
       "R2   -0.693506\n",
       "R3    0.943676\n",
       "R4   -0.929713\n",
       "dtype: float64"
      ]
     },
     "execution_count": 15,
     "metadata": {},
     "output_type": "execute_result"
    }
   ],
   "source": [
    "point.mean()"
   ]
  },
  {
   "cell_type": "code",
   "execution_count": 16,
   "id": "02d7d5b3-62ea-420f-93ab-c4aebd79f12b",
   "metadata": {},
   "outputs": [
    {
     "data": {
      "text/plain": [
       "array([ 0.23637541, -0.6935064 ,  0.94367582, -0.92971284])"
      ]
     },
     "execution_count": 16,
     "metadata": {},
     "output_type": "execute_result"
    }
   ],
   "source": [
    "F_new._calculate_global_relevance(point).values"
   ]
  },
  {
   "cell_type": "code",
   "execution_count": 17,
   "id": "f5241297-1fe1-49bc-9814-2ceee53717fb",
   "metadata": {},
   "outputs": [
    {
     "ename": "NameError",
     "evalue": "name 'exp' is not defined",
     "output_type": "error",
     "traceback": [
      "\u001b[1;31m---------------------------------------------------------------------------\u001b[0m",
      "\u001b[1;31mNameError\u001b[0m                                 Traceback (most recent call last)",
      "\u001b[1;32m~\\AppData\\Local\\Temp\\ipykernel_14932\\587951235.py\u001b[0m in \u001b[0;36m<cell line: 1>\u001b[1;34m()\u001b[0m\n\u001b[1;32m----> 1\u001b[1;33m \u001b[0mpd\u001b[0m\u001b[1;33m.\u001b[0m\u001b[0mDataFrame\u001b[0m\u001b[1;33m(\u001b[0m\u001b[0mexp\u001b[0m\u001b[1;33m.\u001b[0m\u001b[0mpointwise_relevance\u001b[0m\u001b[1;33m)\u001b[0m\u001b[1;33m\u001b[0m\u001b[1;33m\u001b[0m\u001b[0m\n\u001b[0m",
      "\u001b[1;31mNameError\u001b[0m: name 'exp' is not defined"
     ]
    }
   ],
   "source": [
    "pd.DataFrame(exp.pointwise_relevance)"
   ]
  },
  {
   "cell_type": "code",
   "execution_count": 18,
   "id": "82ae4348-5c36-4241-a6e3-3899bf8f6561",
   "metadata": {},
   "outputs": [
    {
     "ename": "NameError",
     "evalue": "name 'exp' is not defined",
     "output_type": "error",
     "traceback": [
      "\u001b[1;31m---------------------------------------------------------------------------\u001b[0m",
      "\u001b[1;31mNameError\u001b[0m                                 Traceback (most recent call last)",
      "\u001b[1;32m~\\AppData\\Local\\Temp\\ipykernel_14932\\1002789460.py\u001b[0m in \u001b[0;36m<cell line: 1>\u001b[1;34m()\u001b[0m\n\u001b[1;32m----> 1\u001b[1;33m \u001b[0mexp\u001b[0m\u001b[1;33m.\u001b[0m\u001b[0mcluster_relevance\u001b[0m\u001b[1;33m\u001b[0m\u001b[1;33m\u001b[0m\u001b[0m\n\u001b[0m",
      "\u001b[1;31mNameError\u001b[0m: name 'exp' is not defined"
     ]
    }
   ],
   "source": [
    "exp.cluster_relevance"
   ]
  },
  {
   "cell_type": "code",
   "execution_count": 19,
   "id": "7c4c60c8-83be-4d10-95ac-395fe58aeb61",
   "metadata": {},
   "outputs": [
    {
     "ename": "NameError",
     "evalue": "name 'exp' is not defined",
     "output_type": "error",
     "traceback": [
      "\u001b[1;31m---------------------------------------------------------------------------\u001b[0m",
      "\u001b[1;31mNameError\u001b[0m                                 Traceback (most recent call last)",
      "\u001b[1;32m~\\AppData\\Local\\Temp\\ipykernel_14932\\4047538853.py\u001b[0m in \u001b[0;36m<cell line: 1>\u001b[1;34m()\u001b[0m\n\u001b[1;32m----> 1\u001b[1;33m \u001b[0mexp\u001b[0m\u001b[1;33m.\u001b[0m\u001b[0mpointwise_relevance\u001b[0m\u001b[1;33m\u001b[0m\u001b[1;33m\u001b[0m\u001b[0m\n\u001b[0m",
      "\u001b[1;31mNameError\u001b[0m: name 'exp' is not defined"
     ]
    }
   ],
   "source": [
    "exp.pointwise_relevance"
   ]
  },
  {
   "cell_type": "code",
   "execution_count": 20,
   "id": "4b0d1e39-7a5a-401f-b444-9e13bba19bdd",
   "metadata": {},
   "outputs": [
    {
     "ename": "AttributeError",
     "evalue": "'XkmOld' object has no attribute 'feature_wise_distance_matrix'",
     "output_type": "error",
     "traceback": [
      "\u001b[1;31m---------------------------------------------------------------------------\u001b[0m",
      "\u001b[1;31mAttributeError\u001b[0m                            Traceback (most recent call last)",
      "\u001b[1;32m~\\AppData\\Local\\Temp\\ipykernel_14932\\3244988297.py\u001b[0m in \u001b[0;36m<cell line: 1>\u001b[1;34m()\u001b[0m\n\u001b[1;32m----> 1\u001b[1;33m \u001b[0mF_old\u001b[0m\u001b[1;33m.\u001b[0m\u001b[0mfeature_wise_distance_matrix\u001b[0m\u001b[1;33m\u001b[0m\u001b[1;33m\u001b[0m\u001b[0m\n\u001b[0m",
      "\u001b[1;31mAttributeError\u001b[0m: 'XkmOld' object has no attribute 'feature_wise_distance_matrix'"
     ]
    }
   ],
   "source": [
    "F_old.feature_wise_distance_matrix"
   ]
  },
  {
   "cell_type": "code",
   "execution_count": 21,
   "id": "246bcd8f-b39c-4eb1-a199-f7bf97d59be6",
   "metadata": {},
   "outputs": [
    {
     "ename": "AttributeError",
     "evalue": "'XkmOld' object has no attribute 'R_global'",
     "output_type": "error",
     "traceback": [
      "\u001b[1;31m---------------------------------------------------------------------------\u001b[0m",
      "\u001b[1;31mAttributeError\u001b[0m                            Traceback (most recent call last)",
      "\u001b[1;32m~\\AppData\\Local\\Temp\\ipykernel_14932\\778865395.py\u001b[0m in \u001b[0;36m<cell line: 1>\u001b[1;34m()\u001b[0m\n\u001b[1;32m----> 1\u001b[1;33m \u001b[0mF_old\u001b[0m\u001b[1;33m.\u001b[0m\u001b[0mR_global\u001b[0m\u001b[1;33m\u001b[0m\u001b[1;33m\u001b[0m\u001b[0m\n\u001b[0m",
      "\u001b[1;31mAttributeError\u001b[0m: 'XkmOld' object has no attribute 'R_global'"
     ]
    }
   ],
   "source": [
    "F_old.R_global"
   ]
  },
  {
   "cell_type": "code",
   "execution_count": 22,
   "id": "46c99c63-a7c1-4cdb-9041-fb4a14d26eb9",
   "metadata": {},
   "outputs": [],
   "source": [
    "explained = F_new.explain()"
   ]
  },
  {
   "cell_type": "code",
   "execution_count": 23,
   "id": "51eeb300-d612-4d0e-9051-dacb90fd7939",
   "metadata": {},
   "outputs": [
    {
     "ename": "AttributeError",
     "evalue": "'XkmOld' object has no attribute 'R_points'",
     "output_type": "error",
     "traceback": [
      "\u001b[1;31m---------------------------------------------------------------------------\u001b[0m",
      "\u001b[1;31mAttributeError\u001b[0m                            Traceback (most recent call last)",
      "\u001b[1;32m~\\AppData\\Local\\Temp\\ipykernel_14932\\1913055182.py\u001b[0m in \u001b[0;36m<cell line: 1>\u001b[1;34m()\u001b[0m\n\u001b[1;32m----> 1\u001b[1;33m \u001b[0msum\u001b[0m\u001b[1;33m(\u001b[0m\u001b[0mexplained\u001b[0m\u001b[1;33m.\u001b[0m\u001b[0mpointwise_relevance\u001b[0m \u001b[1;33m!=\u001b[0m \u001b[0mF_old\u001b[0m\u001b[1;33m.\u001b[0m\u001b[0mR_points\u001b[0m\u001b[1;33m)\u001b[0m\u001b[1;33m\u001b[0m\u001b[1;33m\u001b[0m\u001b[0m\n\u001b[0m",
      "\u001b[1;31mAttributeError\u001b[0m: 'XkmOld' object has no attribute 'R_points'"
     ]
    }
   ],
   "source": [
    "sum(explained.pointwise_relevance != F_old.R_points)"
   ]
  },
  {
   "cell_type": "code",
   "execution_count": 69,
   "id": "17969897-ae7b-4ca8-9fbb-33dea0dad9f7",
   "metadata": {},
   "outputs": [
    {
     "data": {
      "text/plain": [
       "R_global_0    0.500768\n",
       "R_global_1    0.197082\n",
       "R_global_2    0.816324\n",
       "R_global_3    0.723149\n",
       "dtype: float64"
      ]
     },
     "execution_count": 69,
     "metadata": {},
     "output_type": "execute_result"
    }
   ],
   "source": [
    "explained.global_relevance"
   ]
  },
  {
   "cell_type": "code",
   "execution_count": 71,
   "id": "f6063d4f-2bf5-4895-8e2b-f287772919c1",
   "metadata": {},
   "outputs": [
    {
     "data": {
      "text/plain": [
       "{'R_global_0': 0.5007681159557349,\n",
       " 'R_global_1': 0.19708184521500882,\n",
       " 'R_global_2': 0.8163240638163629,\n",
       " 'R_global_3': 0.7231487929167221}"
      ]
     },
     "execution_count": 71,
     "metadata": {},
     "output_type": "execute_result"
    }
   ],
   "source": [
    "F_old.R_global"
   ]
  },
  {
   "cell_type": "code",
   "execution_count": 68,
   "id": "3b064d54-c9a9-477e-8d3a-9057a09aff73",
   "metadata": {},
   "outputs": [
    {
     "data": {
      "text/plain": [
       "array([0, 0, 0, 0])"
      ]
     },
     "execution_count": 68,
     "metadata": {},
     "output_type": "execute_result"
    }
   ],
   "source": [
    "sum(explained.cluster_relevance.values != F_old.R_clusters.values)"
   ]
  },
  {
   "cell_type": "code",
   "execution_count": 42,
   "id": "013ed35e-7978-4d8c-835d-e6889f3b7f5b",
   "metadata": {},
   "outputs": [
    {
     "data": {
      "text/plain": [
       "array([[0, 0, 0, 0],\n",
       "       [0, 0, 0, 0],\n",
       "       [0, 0, 0, 0]])"
      ]
     },
     "execution_count": 42,
     "metadata": {},
     "output_type": "execute_result"
    }
   ],
   "source": [
    "sum(F_old.feature_wise_distance_matrix != F_new._calculate_feature_wise_distance_matrix())"
   ]
  },
  {
   "cell_type": "code",
   "execution_count": 39,
   "id": "da2c6adb-f114-4e3a-9a8c-d44657671656",
   "metadata": {},
   "outputs": [
    {
     "data": {
      "text/plain": [
       "array([[[6.42583247e-01, 5.64921956e-01, 8.96133195e+00, 1.52243757e+00],\n",
       "        [8.83600000e-03, 5.18400000e-03, 3.84400000e-03, 2.11600000e-03],\n",
       "        [3.06250000e+00, 1.81745152e-01, 1.88538781e+01, 3.50083795e+00]],\n",
       "\n",
       "       [[1.00322841e+00, 6.33090531e-02, 8.96133195e+00, 1.52243757e+00],\n",
       "        [1.12360000e-02, 1.83184000e-01, 3.84400000e-03, 2.11600000e-03],\n",
       "        [3.80250000e+00, 5.42936288e-03, 1.88538781e+01, 3.50083795e+00]],\n",
       "\n",
       "       [[1.44387357e+00, 2.03954214e-01, 9.57004162e+00, 1.52243757e+00],\n",
       "        [9.36360000e-02, 5.19840000e-02, 2.62440000e-02, 2.11600000e-03],\n",
       "        [4.62250000e+00, 1.59556787e-02, 1.97322992e+01, 3.50083795e+00]],\n",
       "\n",
       "       ...,\n",
       "\n",
       "       [[3.58067118e-01, 6.33090531e-02, 6.50364204e-01, 3.20502081e-01],\n",
       "        [2.23203600e+00, 1.83184000e-01, 1.39726440e+01, 3.07651600e+00],\n",
       "        [1.22500000e-01, 5.42936288e-03, 2.93878116e-01, 5.04847645e-03]],\n",
       "\n",
       "       [[8.90348595e-02, 4.24599376e-01, 1.01294485e+00, 7.50179501e-01],\n",
       "        [1.42563600e+00, 7.84000000e-04, 1.55078440e+01, 4.21891600e+00],\n",
       "        [4.22500000e-01, 1.06481994e-01, 1.17036011e-01, 5.24168975e-02]],\n",
       "\n",
       "       [[2.60145682e-06, 6.33090531e-02, 4.99073881e-01, 1.34050468e-01],\n",
       "        [7.99236000e-01, 1.83184000e-01, 1.32350440e+01, 2.41491600e+00],\n",
       "        [9.02500000e-01, 5.42936288e-03, 4.12299169e-01, 7.34695291e-02]]])"
      ]
     },
     "execution_count": 39,
     "metadata": {},
     "output_type": "execute_result"
    }
   ],
   "source": [
    "F_new._calculate_feature_wise_distance_matrix()"
   ]
  },
  {
   "cell_type": "code",
   "execution_count": 21,
   "id": "f9ace342-c1c2-4d0a-8fe5-e5d7e2775d31",
   "metadata": {},
   "outputs": [
    {
     "data": {
      "text/html": [
       "<div>\n",
       "<style scoped>\n",
       "    .dataframe tbody tr th:only-of-type {\n",
       "        vertical-align: middle;\n",
       "    }\n",
       "\n",
       "    .dataframe tbody tr th {\n",
       "        vertical-align: top;\n",
       "    }\n",
       "\n",
       "    .dataframe thead th {\n",
       "        text-align: right;\n",
       "    }\n",
       "</style>\n",
       "<table border=\"1\" class=\"dataframe\">\n",
       "  <thead>\n",
       "    <tr style=\"text-align: right;\">\n",
       "      <th></th>\n",
       "      <th>1</th>\n",
       "      <th>2</th>\n",
       "      <th>3</th>\n",
       "      <th>4</th>\n",
       "    </tr>\n",
       "  </thead>\n",
       "  <tbody>\n",
       "    <tr>\n",
       "      <th>0</th>\n",
       "      <td>1.003228</td>\n",
       "      <td>0.063309</td>\n",
       "      <td>8.961332</td>\n",
       "      <td>1.522438</td>\n",
       "    </tr>\n",
       "    <tr>\n",
       "      <th>1</th>\n",
       "      <td>0.011236</td>\n",
       "      <td>0.183184</td>\n",
       "      <td>0.003844</td>\n",
       "      <td>0.002116</td>\n",
       "    </tr>\n",
       "    <tr>\n",
       "      <th>2</th>\n",
       "      <td>3.802500</td>\n",
       "      <td>0.005429</td>\n",
       "      <td>18.853878</td>\n",
       "      <td>3.500838</td>\n",
       "    </tr>\n",
       "  </tbody>\n",
       "</table>\n",
       "</div>"
      ],
      "text/plain": [
       "          1         2          3         4\n",
       "0  1.003228  0.063309   8.961332  1.522438\n",
       "1  0.011236  0.183184   0.003844  0.002116\n",
       "2  3.802500  0.005429  18.853878  3.500838"
      ]
     },
     "execution_count": 21,
     "metadata": {},
     "output_type": "execute_result"
    }
   ],
   "source": [
    "distance_df = pd.DataFrame(F.feature_wise_distance_matrix[1], columns = cols)\n",
    "distance_df"
   ]
  },
  {
   "cell_type": "code",
   "execution_count": 31,
   "id": "27b35120-bbbd-4de8-9c28-6e73a6e4d188",
   "metadata": {},
   "outputs": [],
   "source": [
    "clusters = [cluster_centers for obs_coordinates in X]"
   ]
  }
 ],
 "metadata": {
  "kernelspec": {
   "display_name": "cxplain",
   "language": "python",
   "name": "cxplain"
  },
  "language_info": {
   "codemirror_mode": {
    "name": "ipython",
    "version": 3
   },
   "file_extension": ".py",
   "mimetype": "text/x-python",
   "name": "python",
   "nbconvert_exporter": "python",
   "pygments_lexer": "ipython3",
   "version": "3.9.7"
  }
 },
 "nbformat": 4,
 "nbformat_minor": 5
}
