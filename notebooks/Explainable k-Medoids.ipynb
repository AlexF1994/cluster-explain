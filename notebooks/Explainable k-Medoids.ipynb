{
 "cells": [
  {
   "cell_type": "markdown",
   "id": "e25b8a7c",
   "metadata": {},
   "source": [
    "## Explainable k-Medoids"
   ]
  },
  {
   "cell_type": "code",
   "execution_count": 1,
   "id": "ed511a8b",
   "metadata": {},
   "outputs": [],
   "source": [
    "import matplotlib.pyplot as plt\n",
    "from sklearn import datasets\n",
    "import mpl_toolkits.mplot3d \n",
    "from sklearn.cluster import KMeans\n",
    "from sklearn import metrics\n",
    "import numpy as np\n",
    "import pandas as pd"
   ]
  },
  {
   "cell_type": "code",
   "execution_count": 2,
   "id": "132a326f",
   "metadata": {},
   "outputs": [],
   "source": [
    "iris = datasets.load_iris()\n",
    "X = iris.data\n",
    "y = iris.target"
   ]
  },
  {
   "cell_type": "code",
   "execution_count": 3,
   "id": "5f871478",
   "metadata": {},
   "outputs": [],
   "source": [
    "kmeans = KMeans(n_clusters=3, random_state=3).fit(X)"
   ]
  },
  {
   "cell_type": "code",
   "execution_count": 4,
   "id": "8206f703-bcc9-47e6-8982-9f89f681aabf",
   "metadata": {},
   "outputs": [
    {
     "data": {
      "text/plain": [
       "array([0, 0, 0, 0, 0, 0, 0, 0, 0, 0, 0, 0, 0, 0, 0, 0, 0, 0, 0, 0, 0, 0,\n",
       "       0, 0, 0, 0, 0, 0, 0, 0, 0, 0, 0, 0, 0, 0, 0, 0, 0, 0, 0, 0, 0, 0,\n",
       "       0, 0, 0, 0, 0, 0, 1, 1, 1, 1, 1, 1, 1, 1, 1, 1, 1, 1, 1, 1, 1, 1,\n",
       "       1, 1, 1, 1, 1, 1, 1, 1, 1, 1, 1, 1, 1, 1, 1, 1, 1, 1, 1, 1, 1, 1,\n",
       "       1, 1, 1, 1, 1, 1, 1, 1, 1, 1, 1, 1, 2, 2, 2, 2, 2, 2, 2, 2, 2, 2,\n",
       "       2, 2, 2, 2, 2, 2, 2, 2, 2, 2, 2, 2, 2, 2, 2, 2, 2, 2, 2, 2, 2, 2,\n",
       "       2, 2, 2, 2, 2, 2, 2, 2, 2, 2, 2, 2, 2, 2, 2, 2, 2, 2])"
      ]
     },
     "execution_count": 4,
     "metadata": {},
     "output_type": "execute_result"
    }
   ],
   "source": [
    "y"
   ]
  },
  {
   "cell_type": "code",
   "execution_count": 5,
   "id": "00ac4367",
   "metadata": {},
   "outputs": [
    {
     "name": "stdout",
     "output_type": "stream",
     "text": [
      "[1 1 1 1 1 1 1 1 1 1 1 1 1 1 1 1 1 1 1 1 1 1 1 1 1 1 1 1 1 1 1 1 1 1 1 1 1\n",
      " 1 1 1 1 1 1 1 1 1 1 1 1 1 0 0 2 0 0 0 0 0 0 0 0 0 0 0 0 0 0 0 0 0 0 0 0 0\n",
      " 0 0 0 2 0 0 0 0 0 0 0 0 0 0 0 0 0 0 0 0 0 0 0 0 0 0 2 0 2 2 2 2 0 2 2 2 2\n",
      " 2 2 0 0 2 2 2 2 0 2 0 2 0 2 2 0 0 2 2 2 2 2 0 2 2 2 2 0 2 2 2 0 2 2 2 0 2\n",
      " 2 0]\n",
      "(150,)\n"
     ]
    }
   ],
   "source": [
    "preds = kmeans.predict(X)\n",
    "print(preds)\n",
    "print(preds.shape)"
   ]
  },
  {
   "cell_type": "markdown",
   "id": "61172ccf-4a2d-4c0e-9d42-093114631b37",
   "metadata": {},
   "source": [
    "### !! darf ich nicht so machen, da sonst fehler bei cluster zuordnung!\n",
    "\n",
    "#prediction is \"false\" but only because the \"label\" is not correct, the class itself is correctly predicted. Maybe this needs to be solved later on differently.\n",
    "\n",
    "lst = []\n",
    "\n",
    "for i in preds:\n",
    "    if i == 1: \n",
    "        lst.append(0)\n",
    "    elif i == 0:\n",
    "        lst.append(1)\n",
    "    else:\n",
    "        lst.append(i)\n",
    "        \n",
    "preds = np.array(lst)"
   ]
  },
  {
   "cell_type": "code",
   "execution_count": 6,
   "id": "30ac196a-7511-4ac3-9626-6a45e0f8d308",
   "metadata": {},
   "outputs": [
    {
     "data": {
      "text/plain": [
       "array([1, 1, 1, 1, 1, 1, 1, 1, 1, 1, 1, 1, 1, 1, 1, 1, 1, 1, 1, 1, 1, 1,\n",
       "       1, 1, 1, 1, 1, 1, 1, 1, 1, 1, 1, 1, 1, 1, 1, 1, 1, 1, 1, 1, 1, 1,\n",
       "       1, 1, 1, 1, 1, 1, 0, 0, 2, 0, 0, 0, 0, 0, 0, 0, 0, 0, 0, 0, 0, 0,\n",
       "       0, 0, 0, 0, 0, 0, 0, 0, 0, 0, 0, 2, 0, 0, 0, 0, 0, 0, 0, 0, 0, 0,\n",
       "       0, 0, 0, 0, 0, 0, 0, 0, 0, 0, 0, 0, 2, 0, 2, 2, 2, 2, 0, 2, 2, 2,\n",
       "       2, 2, 2, 0, 0, 2, 2, 2, 2, 0, 2, 0, 2, 0, 2, 2, 0, 0, 2, 2, 2, 2,\n",
       "       2, 0, 2, 2, 2, 2, 0, 2, 2, 2, 0, 2, 2, 2, 0, 2, 2, 0], dtype=int32)"
      ]
     },
     "execution_count": 6,
     "metadata": {},
     "output_type": "execute_result"
    }
   ],
   "source": [
    "preds"
   ]
  },
  {
   "cell_type": "code",
   "execution_count": 7,
   "id": "44df3374-40e8-483a-8436-6a6d64caf60d",
   "metadata": {},
   "outputs": [
    {
     "data": {
      "text/plain": [
       "0.24"
      ]
     },
     "execution_count": 7,
     "metadata": {},
     "output_type": "execute_result"
    }
   ],
   "source": [
    "metrics.accuracy_score(y,preds)"
   ]
  },
  {
   "cell_type": "code",
   "execution_count": 8,
   "id": "d74044d4",
   "metadata": {},
   "outputs": [
    {
     "name": "stdout",
     "output_type": "stream",
     "text": [
      "[[5.9016129  2.7483871  4.39354839 1.43387097]\n",
      " [5.006      3.428      1.462      0.246     ]\n",
      " [6.85       3.07368421 5.74210526 2.07105263]]\n",
      "(3, 4)\n"
     ]
    }
   ],
   "source": [
    "centers = kmeans.cluster_centers_\n",
    "print(centers)\n",
    "print(centers.shape)"
   ]
  },
  {
   "cell_type": "code",
   "execution_count": 9,
   "id": "5208a0a0",
   "metadata": {},
   "outputs": [],
   "source": [
    "# one set of clusters for every obs - Idk. how to broadcast this to work with the later distance function\n",
    "centers_lst = []\n",
    "\n",
    "for i in preds:\n",
    "    centers_lst.append(np.array(centers))"
   ]
  },
  {
   "cell_type": "code",
   "execution_count": 10,
   "id": "d18ab236",
   "metadata": {},
   "outputs": [],
   "source": [
    "c = np.array(centers_lst)"
   ]
  },
  {
   "cell_type": "code",
   "execution_count": 11,
   "id": "700730bb",
   "metadata": {
    "scrolled": true
   },
   "outputs": [
    {
     "data": {
      "text/plain": [
       "array([5.1, 3.5, 1.4, 0.2])"
      ]
     },
     "execution_count": 11,
     "metadata": {},
     "output_type": "execute_result"
    }
   ],
   "source": [
    "#Check obs\n",
    "X[0]"
   ]
  },
  {
   "cell_type": "code",
   "execution_count": 12,
   "id": "c3ef5193",
   "metadata": {},
   "outputs": [
    {
     "data": {
      "text/plain": [
       "array([[5.9016129 , 2.7483871 , 4.39354839, 1.43387097],\n",
       "       [5.006     , 3.428     , 1.462     , 0.246     ],\n",
       "       [6.85      , 3.07368421, 5.74210526, 2.07105263]])"
      ]
     },
     "execution_count": 12,
     "metadata": {},
     "output_type": "execute_result"
    }
   ],
   "source": [
    "#check cluster\n",
    "c[0]"
   ]
  },
  {
   "cell_type": "code",
   "execution_count": 13,
   "id": "19f184d2",
   "metadata": {},
   "outputs": [
    {
     "data": {
      "text/plain": [
       "array([[0.8016129 , 0.7516129 , 2.99354839, 1.23387097],\n",
       "       [0.094     , 0.072     , 0.062     , 0.046     ],\n",
       "       [1.75      , 0.42631579, 4.34210526, 1.87105263]])"
      ]
     },
     "execution_count": 13,
     "metadata": {},
     "output_type": "execute_result"
    }
   ],
   "source": [
    "#check point-wise Manhatten distance\n",
    "abs(c[0] - X[0])"
   ]
  },
  {
   "cell_type": "code",
   "execution_count": 14,
   "id": "f22cc140",
   "metadata": {
    "scrolled": true
   },
   "outputs": [
    {
     "data": {
      "text/plain": [
       "array([[6.42583247e-01, 5.64921956e-01, 8.96133195e+00, 1.52243757e+00],\n",
       "       [8.83600000e-03, 5.18400000e-03, 3.84400000e-03, 2.11600000e-03],\n",
       "       [3.06250000e+00, 1.81745152e-01, 1.88538781e+01, 3.50083795e+00]])"
      ]
     },
     "execution_count": 14,
     "metadata": {},
     "output_type": "execute_result"
    }
   ],
   "source": [
    "#check point-wise euclidean distance\n",
    "(c[0] - X[0])**2"
   ]
  },
  {
   "cell_type": "code",
   "execution_count": 15,
   "id": "06ad24de",
   "metadata": {
    "scrolled": true
   },
   "outputs": [],
   "source": [
    "def calc_feature_wise_distance_matrix(distance_metric, points, cluster_centers):\n",
    "    \n",
    "    # calculate the distance of every feature value of ever obs to every feature value in every cluster.\n",
    "    \n",
    "    feature_wise_distance_matrix = []\n",
    "    \n",
    "    if distance_metric == \"manhattan\":\n",
    "        for i,e in enumerate(X):\n",
    "            feature_wise_distance_matrix.append(abs(c[i] - e))\n",
    "        \n",
    "    \n",
    "    if distance_metric == \"euclidean\":\n",
    "        for i,e in enumerate(X):\n",
    "            feature_wise_distance_matrix.append((c[i] - e)**2)\n",
    "    \n",
    "    return np.array(feature_wise_distance_matrix)"
   ]
  },
  {
   "cell_type": "code",
   "execution_count": 16,
   "id": "85d869e4",
   "metadata": {},
   "outputs": [],
   "source": [
    "A =calc_feature_wise_distance_matrix(\"manhattan\", X, c)"
   ]
  },
  {
   "cell_type": "code",
   "execution_count": 17,
   "id": "461a2d41-7822-4d1a-ac3d-92d763b7e75d",
   "metadata": {},
   "outputs": [
    {
     "data": {
      "text/plain": [
       "array([[0.8016129 , 0.7516129 , 2.99354839, 1.23387097],\n",
       "       [0.094     , 0.072     , 0.062     , 0.046     ],\n",
       "       [1.75      , 0.42631579, 4.34210526, 1.87105263]])"
      ]
     },
     "execution_count": 17,
     "metadata": {},
     "output_type": "execute_result"
    }
   ],
   "source": [
    "A[0]"
   ]
  },
  {
   "cell_type": "code",
   "execution_count": 18,
   "id": "7b290ac9-7bff-4c1f-afbb-339c0c701ec1",
   "metadata": {},
   "outputs": [
    {
     "data": {
      "text/plain": [
       "array([0.7516129 , 0.072     , 0.42631579])"
      ]
     },
     "execution_count": 18,
     "metadata": {},
     "output_type": "execute_result"
    }
   ],
   "source": [
    "A[0][:,1]"
   ]
  },
  {
   "cell_type": "code",
   "execution_count": 19,
   "id": "2ae18c0c",
   "metadata": {},
   "outputs": [],
   "source": [
    "# Falsch!\n",
    "def best_second_calc(feature_based_distanes, preds):\n",
    "    \n",
    "    num_features = feature_based_distanes.shape[1]\n",
    "    \n",
    "    assinged_cluster_list = []\n",
    "    fb_distance_to_assinged_cluster_list = []\n",
    "    \n",
    "    best_alterantive_list = []\n",
    "    fb_distance_to_best_alternative_list = []\n",
    "    \n",
    "    #for every obs:\n",
    "    for idx, e in enumerate(feature_based_distanes):\n",
    "        #index of assinged cluster\n",
    "        assigned_cluster = preds[idx]\n",
    "        #feature-wise distances of point to assigned cluster\n",
    "        distances_to_assigned = e[:,assigned_cluster]\n",
    "        \n",
    "        assinged_cluster_list.append(assigned_cluster)\n",
    "        fb_distance_to_assinged_cluster_list.append(distances_to_assigned)\n",
    "        \n",
    "        #find best alternative:\n",
    "        \n",
    "        temp_bad = []\n",
    "        temp_idx = []\n",
    "        \n",
    "        #for every feature\n",
    "        for i in range(num_features):\n",
    "            \n",
    "            \n",
    "            # best alternative: \n",
    "            best_alternative_distance = min(e[:,i])\n",
    "            x = e[:,i].tolist()\n",
    "            idx_best_alternative = x.index(best_alternative_distance)\n",
    "            \n",
    "            \n",
    "            #if the best alternative is the assigned cluster, we have to find the second best alternative\n",
    "            if idx_best_alternative == assigned_cluster:\n",
    "                \n",
    "                del x[idx_best_alternative]\n",
    "                best_alternative_distance = min(x)\n",
    "                idx_best_alternative = x.index(best_alternative_distance)\n",
    "                \n",
    "            temp_bad.append(best_alternative_distance)\n",
    "            temp_idx.append(idx_best_alternative)\n",
    "\n",
    "        best_alterantive_list.append(temp_idx)\n",
    "        fb_distance_to_best_alternative_list.append(temp_bad)     \n",
    "            \n",
    "    return np.array(assinged_cluster_list), np.array(fb_distance_to_assinged_cluster_list), np.array(best_alterantive_list), np.array(fb_distance_to_best_alternative_list)"
   ]
  },
  {
   "cell_type": "code",
   "execution_count": 20,
   "id": "753edda3",
   "metadata": {},
   "outputs": [],
   "source": [
    "ac ,fb_ac ,ba, fb_ba = best_second_calc(A, preds)"
   ]
  },
  {
   "cell_type": "markdown",
   "id": "25cd0540-a527-4a29-bba5-4bc4695cf33e",
   "metadata": {
    "tags": []
   },
   "source": [
    "## Relevance of feature j for point i:\n",
    "\n",
    "$$R_{ji} := R_j(x_{ij},c_{kj},c_{k'_{ij}}) := \\frac{d_j(x_{ij},c_{k'_{ij}}) - d_j(x_{ij},c_{kj})}{d_j(x_{ij},c_{k'_{ij}}) + d_j(x_{ij},c_{kj})}$$"
   ]
  },
  {
   "cell_type": "markdown",
   "id": "7dde9fc6-c498-47f8-a72f-30c20c480695",
   "metadata": {},
   "source": [
    "$d_j(x_{ij},c_{k'_{ij}}$ is the distance to the best alternative.\n",
    "\n",
    "$d_j(x_{ij},c_{kj})$ is the distance to the associated cluster."
   ]
  },
  {
   "cell_type": "code",
   "execution_count": 21,
   "id": "34a9b470-c622-4149-9445-384270c8b1b4",
   "metadata": {},
   "outputs": [
    {
     "data": {
      "text/plain": [
       "array([0.8016129 , 0.42631579, 2.99354839])"
      ]
     },
     "execution_count": 21,
     "metadata": {},
     "output_type": "execute_result"
    }
   ],
   "source": [
    "fb_ba[0]"
   ]
  },
  {
   "cell_type": "code",
   "execution_count": 22,
   "id": "06b7bfa1-2d4c-40fa-a720-58e2a513ffc9",
   "metadata": {},
   "outputs": [
    {
     "data": {
      "text/plain": [
       "array([0.7516129 , 0.072     , 0.42631579])"
      ]
     },
     "execution_count": 22,
     "metadata": {},
     "output_type": "execute_result"
    }
   ],
   "source": [
    "fb_ac[0]"
   ]
  },
  {
   "cell_type": "code",
   "execution_count": 23,
   "id": "830d7a12-afb9-46f7-a55a-b16082bb8915",
   "metadata": {},
   "outputs": [
    {
     "data": {
      "text/plain": [
       "1"
      ]
     },
     "execution_count": 23,
     "metadata": {},
     "output_type": "execute_result"
    }
   ],
   "source": [
    "ac[0]"
   ]
  },
  {
   "cell_type": "code",
   "execution_count": 24,
   "id": "edc767e9-4b26-465e-ac30-21478ae78829",
   "metadata": {
    "tags": []
   },
   "outputs": [
    {
     "data": {
      "text/plain": [
       "array([0, 1, 0])"
      ]
     },
     "execution_count": 24,
     "metadata": {},
     "output_type": "execute_result"
    }
   ],
   "source": [
    "ba[0]"
   ]
  },
  {
   "cell_type": "code",
   "execution_count": 25,
   "id": "40dc8a7e-ee9b-415d-a2de-ffd152b472a0",
   "metadata": {},
   "outputs": [
    {
     "data": {
      "text/plain": [
       "array([5.1, 3.5, 1.4, 0.2])"
      ]
     },
     "execution_count": 25,
     "metadata": {},
     "output_type": "execute_result"
    }
   ],
   "source": [
    "X[0]"
   ]
  },
  {
   "cell_type": "code",
   "execution_count": 26,
   "id": "3aef337d-a039-4d75-84fd-c400a44416fe",
   "metadata": {},
   "outputs": [
    {
     "data": {
      "text/plain": [
       "array([[5.9016129 , 2.7483871 , 4.39354839, 1.43387097],\n",
       "       [5.006     , 3.428     , 1.462     , 0.246     ],\n",
       "       [6.85      , 3.07368421, 5.74210526, 2.07105263]])"
      ]
     },
     "execution_count": 26,
     "metadata": {},
     "output_type": "execute_result"
    }
   ],
   "source": [
    "centers"
   ]
  },
  {
   "cell_type": "code",
   "execution_count": 27,
   "id": "643c70fe-7a3f-496e-a818-14930592e28d",
   "metadata": {},
   "outputs": [
    {
     "data": {
      "text/plain": [
       "1"
      ]
     },
     "execution_count": 27,
     "metadata": {},
     "output_type": "execute_result"
    }
   ],
   "source": [
    "preds[0]"
   ]
  },
  {
   "cell_type": "code",
   "execution_count": 28,
   "id": "5863d601-2b33-4188-8a3d-f9c657fc73b7",
   "metadata": {},
   "outputs": [
    {
     "data": {
      "text/plain": [
       "0"
      ]
     },
     "execution_count": 28,
     "metadata": {},
     "output_type": "execute_result"
    }
   ],
   "source": [
    "y[0]"
   ]
  },
  {
   "cell_type": "code",
   "execution_count": 29,
   "id": "3c930e9b-94b7-4f68-af28-a9d2cf8aae58",
   "metadata": {},
   "outputs": [],
   "source": [
    "# broadcasted: for every i, for every j\n",
    "R = (fb_ba - fb_ac) / (fb_ba + fb_ac)"
   ]
  },
  {
   "cell_type": "code",
   "execution_count": 30,
   "id": "5de8d9b3-0824-4060-8ec9-a0361842b902",
   "metadata": {},
   "outputs": [
    {
     "data": {
      "text/plain": [
       "array([[ 0.03219107,  0.71102662,  0.75068262],\n",
       "       [ 0.5984556 , -0.70625262,  0.95195395],\n",
       "       [ 0.45365854, -0.28698752,  0.92153968],\n",
       "       [ 0.57463415, -0.85145573,  0.98197465],\n",
       "       [ 0.02851886,  0.50738619,  0.7009454 ],\n",
       "       [-0.39317073,  0.27290417,  0.53048428],\n",
       "       [ 0.33278282,  0.8419489 ,  0.80341618],\n",
       "       [ 0.16095535,  0.8419489 ,  0.79731084],\n",
       "       [ 0.81658537, -0.55382571,  0.89032431],\n",
       "       [ 0.48033373, -0.85145573,  0.98197465],\n",
       "       [-0.30965594,  0.39442231,  0.64412502],\n",
       "       [ 0.25666973,  0.8419489 ,  0.79081411],\n",
       "       [ 0.62812872, -0.70625262,  0.95195395],\n",
       "       [ 0.72845953, -0.70625262,  0.95623456],\n",
       "       [-0.84982122,  0.23647604,  0.55031732],\n",
       "       [-0.7824195 ,  0.15416323,  0.37139409],\n",
       "       [-0.39317073,  0.27290417,  0.5783957 ],\n",
       "       [ 0.03219107,  0.71102662,  0.75068262],\n",
       "       [-0.67824968,  0.32259919,  0.57523706],\n",
       "       [-0.13489991,  0.32259919,  0.5987055 ],\n",
       "       [-0.13006993,  0.8419489 ,  0.78388711],\n",
       "       [-0.08555658,  0.39442231,  0.64412502],\n",
       "       [ 0.20898876,  0.50738619,  0.73146223],\n",
       "       [ 0.18474374,  0.27748069,  0.84498197],\n",
       "       [ 0.25666973,  0.8419489 ,  0.76855921],\n",
       "       [ 0.56363636, -0.70625262,  0.94860256],\n",
       "       [ 0.16095535,  0.8419489 ,  0.79081411],\n",
       "       [-0.03440622,  0.71102662,  0.74317275],\n",
       "       [ 0.03694875,  0.8419489 ,  0.80341618],\n",
       "       [ 0.45365854, -0.28698752,  0.91347831],\n",
       "       [ 0.51609323, -0.85145573,  0.98133542],\n",
       "       [-0.13006993,  0.8419489 ,  0.79731084],\n",
       "       [-0.31657502,  0.20862774,  0.47635135],\n",
       "       [-0.56657963,  0.18664744,  0.45322674],\n",
       "       [ 0.48033373, -0.85145573,  0.98197465],\n",
       "       [ 0.33253874, -0.28698752,  0.92390304],\n",
       "       [-0.3034965 ,  0.71102662,  0.75776577],\n",
       "       [ 0.08093995,  0.50738619,  0.7009454 ],\n",
       "       [ 0.71297148, -0.70625262,  0.95347092],\n",
       "       [ 0.10321865,  0.8419489 ,  0.79731084],\n",
       "       [ 0.09073171,  0.71102662,  0.75776577],\n",
       "       [ 0.51525719, -0.43112057,  0.59987707],\n",
       "       [ 0.53757225, -0.28698752,  0.92153968],\n",
       "       [ 0.09073171,  0.71102662,  0.73519641],\n",
       "       [-0.13489991,  0.32259919,  0.54885315],\n",
       "       [ 0.62812872, -0.70625262,  0.95195395],\n",
       "       [-0.13489991,  0.32259919,  0.58730465],\n",
       "       [ 0.48482061, -0.28698752,  0.91902481],\n",
       "       [-0.22533749,  0.39442231,  0.64412502],\n",
       "       [ 0.24084351,  0.27748069,  0.85942526],\n",
       "       [-0.75968992, -0.88085191,  0.74834437],\n",
       "       [-0.05102041, -0.83382954,  0.4681182 ],\n",
       "       [ 0.32690247, -0.82580988, -0.2488984 ],\n",
       "       [ 0.10315516,  0.22062609,  0.12680851],\n",
       "       [-0.26190476, -0.69034717,  0.5308642 ],\n",
       "       [ 0.54977669, -0.43435222,  0.03850385],\n",
       "       [ 0.15986395, -0.81997187,  0.30909091],\n",
       "       [-0.80859739,  0.72809505, -0.02956705],\n",
       "       [-0.47278912, -0.80348955,  0.64083176],\n",
       "       [-0.56677712,  0.31652142,  0.0550113 ],\n",
       "       [-0.9867785 ,  0.98888564,  0.04835391],\n",
       "       [ 0.99639821, -0.84771021,  0.2375924 ],\n",
       "       [ 0.79251701, -0.06441977,  0.34416244],\n",
       "       [ 0.58163265, -0.7259819 ,  0.16299559],\n",
       "       [ 0.32646593, -0.54751131,  0.26210153],\n",
       "       [-0.68367347, -0.96940586,  0.7989418 ],\n",
       "       [ 0.32646593, -0.77928425, -0.0031679 ],\n",
       "       [ 0.77308745, -0.35995673,  0.21994135],\n",
       "       [ 0.3707483 , -0.15491524,  0.31293463],\n",
       "       [ 0.32646593, -0.01739836,  0.19148936],\n",
       "       [ 0.99639821, -0.75239864, -0.00417246],\n",
       "       [ 0.58163265, -0.5997845 ,  0.39809926],\n",
       "       [ 0.15986395, -0.38567322,  0.20982987],\n",
       "       [ 0.58163265, -0.5997845 ,  0.16299559],\n",
       "       [-0.05102041, -0.77841939,  0.52433936],\n",
       "       [-0.47278912, -0.9116329 ,  0.68595041],\n",
       "       [-0.89455782, -0.73527465,  0.89920424],\n",
       "       [ 0.13662457, -0.86720918, -0.10059172],\n",
       "       [ 0.79251701, -0.7025151 ,  0.18742138],\n",
       "       [ 0.54977669, -0.18867754,  0.27854454],\n",
       "       [ 0.10315516,  0.15388083,  0.17985612],\n",
       "       [ 0.10315516,  0.15388083,  0.20403413],\n",
       "       [ 0.77308745, -0.35995673,  0.27388535],\n",
       "       [ 0.79251701, -0.45355191, -0.13932981],\n",
       "       [-0.1201556 , -0.68489759, -0.07722385],\n",
       "       [ 0.79251701, -0.94520548,  0.18742138],\n",
       "       [-0.68367347, -0.96940586,  0.74834437],\n",
       "       [ 0.15986395, -0.25164181,  0.418637  ],\n",
       "       [ 0.32646593, -0.77928425,  0.1355778 ],\n",
       "       [ 0.10315516,  0.07463275,  0.12680851],\n",
       "       [ 0.10315516, -0.02099423, -0.00293255],\n",
       "       [ 0.58163265, -0.87379428,  0.20723227],\n",
       "       [ 0.77308745, -0.2526779 ,  0.24787936],\n",
       "       [-0.9867785 ,  0.98460915, -0.0032538 ],\n",
       "       [ 0.32646593, -0.22767323,  0.10461828],\n",
       "       [ 0.54977669, -0.8080351 ,  0.14565005],\n",
       "       [ 0.54977669, -0.59966032,  0.14565005],\n",
       "       [ 0.3707483 , -0.74601709,  0.37861635],\n",
       "       [-0.79008788,  0.71842977, -0.06447689],\n",
       "       [ 0.54977669, -0.43435222,  0.17624882],\n",
       "       [-0.60257442, -0.94513502,  0.72334032],\n",
       "       [ 0.77308745, -0.35995673, -0.24105754],\n",
       "       [-0.11389386, -0.89269353,  0.81026216],\n",
       "       [-0.50351759, -0.92931162,  0.78924839],\n",
       "       [-0.40305712, -0.8903555 ,  0.92092754],\n",
       "       [-0.13011152, -0.90663044,  0.44007978],\n",
       "       [-0.80859739,  0.68809044, -0.22176422],\n",
       "       [-0.15373353, -0.93922859,  0.54722701],\n",
       "       [-0.27578639, -0.89168507,  0.92092754],\n",
       "       [-0.13580247, -0.92848233,  0.65326096],\n",
       "       [-0.08281829, -0.88204863,  0.04771497],\n",
       "       [-0.29047072, -0.97509919,  0.34432834],\n",
       "       [-0.10378117, -0.88268736,  0.64094171],\n",
       "       [ 0.54977669, -0.09490991, -0.21557719],\n",
       "       [ 0.77308745, -0.48733116, -0.24105754],\n",
       "       [-0.29047072, -0.88785047,  0.34432834],\n",
       "       [-0.29801325, -0.88268736,  0.64094171],\n",
       "       [-0.1237721 , -0.86737968,  0.41311697],\n",
       "       [-0.16448108, -0.94687547,  0.36802113],\n",
       "       [ 0.79251701, -0.06441977, -0.0677686 ],\n",
       "       [-0.1336599 , -0.89789521,  0.93755508],\n",
       "       [ 0.32646593, -0.36916171, -0.19496855],\n",
       "       [-0.1237721 , -0.98048519,  0.41311697],\n",
       "       [ 0.15986395, -0.55185255,  0.20982987],\n",
       "       [-0.24137931, -0.94136509,  0.93755508],\n",
       "       [-0.10605219, -0.90432228,  0.72334032],\n",
       "       [ 0.3707483 , -0.627053  ,  0.18347107],\n",
       "       [ 0.58163265, -0.87379428,  0.05785124],\n",
       "       [-0.4153264 , -0.97536149,  0.78924839],\n",
       "       [-0.0399523 , -0.8903555 ,  0.92092754],\n",
       "       [-0.06492199, -0.97798842,  0.65326096],\n",
       "       [-0.00201369, -0.85988701,  0.50614924],\n",
       "       [-0.4153264 , -0.97536149,  0.78924839],\n",
       "       [ 0.15986395, -0.65084268,  0.07726269],\n",
       "       [-0.71756602, -0.93076356,  0.78924839],\n",
       "       [ 0.02623102, -0.89708269,  0.65326096],\n",
       "       [-0.50351759, -0.98655785,  0.78924839],\n",
       "       [-0.37889447, -0.84974805,  0.64094171],\n",
       "       [ 0.79251701, -0.86197378,  0.05139501],\n",
       "       [-0.00402253, -0.84622597,  0.49263502],\n",
       "       [-0.20353982, -0.8531124 ,  0.78924839],\n",
       "       [ 0.17123936, -0.83459405,  0.04771497],\n",
       "       [ 0.77308745, -0.35995673, -0.24105754],\n",
       "       [-0.25285044, -0.90227175,  0.81026216],\n",
       "       [-0.24137931, -0.94136509,  0.93755508],\n",
       "       [-0.00502513, -0.87386601,  0.19602165],\n",
       "       [ 0.15986395, -0.38567322,  0.14867617],\n",
       "       [-0.14810563, -0.87386601,  0.19602165],\n",
       "       [-0.54264524, -0.98587998,  0.49263502],\n",
       "       [ 0.99639821, -0.84771021, -0.19338843]])"
      ]
     },
     "execution_count": 30,
     "metadata": {},
     "output_type": "execute_result"
    }
   ],
   "source": [
    "R"
   ]
  },
  {
   "cell_type": "code",
   "execution_count": 31,
   "id": "0bca8808-b391-448f-b547-0f60ceab8463",
   "metadata": {},
   "outputs": [],
   "source": [
    "#df = pd.DataFrame(R)\n",
    "#df.rename({0:\"R1\", 1: \"R2\", 2: \"R3\", 3: \"R4\"}, axis=1, inplace = True)"
   ]
  },
  {
   "cell_type": "code",
   "execution_count": 32,
   "id": "bc3e3d5c-2dde-47ab-a051-43b27a04c4bc",
   "metadata": {},
   "outputs": [],
   "source": [
    "#df.head()"
   ]
  },
  {
   "cell_type": "code",
   "execution_count": 33,
   "id": "0466f8b0-8d32-474f-9c39-5088d582df6f",
   "metadata": {},
   "outputs": [],
   "source": [
    "#df[\"associated clusters\"] = preds"
   ]
  },
  {
   "cell_type": "code",
   "execution_count": 34,
   "id": "85115737-0873-49a8-8646-122b0136fc56",
   "metadata": {},
   "outputs": [],
   "source": [
    "#df[\"y\"] = y"
   ]
  },
  {
   "cell_type": "code",
   "execution_count": 35,
   "id": "526c5a55-a6b3-49ca-a872-2991c241782f",
   "metadata": {},
   "outputs": [],
   "source": [
    "#df_X = pd.DataFrame(X)\n",
    "#df.rename({0:\"X1\", 1: \"X2\", 2: \"X3\", 3: \"X4\"}, axis=1, inplace = True)"
   ]
  },
  {
   "cell_type": "code",
   "execution_count": 36,
   "id": "35fa74ec-5452-4623-a0b1-ab847f5bd8bb",
   "metadata": {},
   "outputs": [],
   "source": [
    "#df = pd.concat([df, df_X], axis=1)"
   ]
  },
  {
   "cell_type": "code",
   "execution_count": 37,
   "id": "6187da9a-bbf2-4067-8242-24e48a3ceb97",
   "metadata": {},
   "outputs": [],
   "source": [
    "#df"
   ]
  }
 ],
 "metadata": {
  "kernelspec": {
   "display_name": "Python 3 (ipykernel)",
   "language": "python",
   "name": "python3"
  },
  "language_info": {
   "codemirror_mode": {
    "name": "ipython",
    "version": 3
   },
   "file_extension": ".py",
   "mimetype": "text/x-python",
   "name": "python",
   "nbconvert_exporter": "python",
   "pygments_lexer": "ipython3",
   "version": "3.9.12"
  }
 },
 "nbformat": 4,
 "nbformat_minor": 5
}
