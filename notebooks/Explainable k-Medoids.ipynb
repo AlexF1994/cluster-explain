{
 "cells": [
  {
   "cell_type": "markdown",
   "id": "e25b8a7c",
   "metadata": {},
   "source": [
    "## Explainable k-Medoids"
   ]
  },
  {
   "cell_type": "code",
   "execution_count": 1,
   "id": "ed511a8b",
   "metadata": {},
   "outputs": [],
   "source": [
    "import matplotlib.pyplot as plt\n",
    "from sklearn import datasets\n",
    "import mpl_toolkits.mplot3d \n",
    "from sklearn.cluster import KMeans\n",
    "from sklearn import metrics\n",
    "import numpy as np\n",
    "import pandas as pd"
   ]
  },
  {
   "cell_type": "code",
   "execution_count": 2,
   "id": "132a326f",
   "metadata": {},
   "outputs": [],
   "source": [
    "iris = datasets.load_iris()\n",
    "X = iris.data\n",
    "y = iris.target"
   ]
  },
  {
   "cell_type": "code",
   "execution_count": 3,
   "id": "5f871478",
   "metadata": {},
   "outputs": [],
   "source": [
    "kmeans = KMeans(n_clusters=3, random_state=3).fit(X)"
   ]
  },
  {
   "cell_type": "code",
   "execution_count": 4,
   "id": "8206f703-bcc9-47e6-8982-9f89f681aabf",
   "metadata": {},
   "outputs": [
    {
     "data": {
      "text/plain": [
       "array([0, 0, 0, 0, 0, 0, 0, 0, 0, 0, 0, 0, 0, 0, 0, 0, 0, 0, 0, 0, 0, 0,\n",
       "       0, 0, 0, 0, 0, 0, 0, 0, 0, 0, 0, 0, 0, 0, 0, 0, 0, 0, 0, 0, 0, 0,\n",
       "       0, 0, 0, 0, 0, 0, 1, 1, 1, 1, 1, 1, 1, 1, 1, 1, 1, 1, 1, 1, 1, 1,\n",
       "       1, 1, 1, 1, 1, 1, 1, 1, 1, 1, 1, 1, 1, 1, 1, 1, 1, 1, 1, 1, 1, 1,\n",
       "       1, 1, 1, 1, 1, 1, 1, 1, 1, 1, 1, 1, 2, 2, 2, 2, 2, 2, 2, 2, 2, 2,\n",
       "       2, 2, 2, 2, 2, 2, 2, 2, 2, 2, 2, 2, 2, 2, 2, 2, 2, 2, 2, 2, 2, 2,\n",
       "       2, 2, 2, 2, 2, 2, 2, 2, 2, 2, 2, 2, 2, 2, 2, 2, 2, 2])"
      ]
     },
     "execution_count": 4,
     "metadata": {},
     "output_type": "execute_result"
    }
   ],
   "source": [
    "y"
   ]
  },
  {
   "cell_type": "code",
   "execution_count": 5,
   "id": "00ac4367",
   "metadata": {},
   "outputs": [
    {
     "name": "stdout",
     "output_type": "stream",
     "text": [
      "[1 1 1 1 1 1 1 1 1 1 1 1 1 1 1 1 1 1 1 1 1 1 1 1 1 1 1 1 1 1 1 1 1 1 1 1 1\n",
      " 1 1 1 1 1 1 1 1 1 1 1 1 1 0 0 2 0 0 0 0 0 0 0 0 0 0 0 0 0 0 0 0 0 0 0 0 0\n",
      " 0 0 0 2 0 0 0 0 0 0 0 0 0 0 0 0 0 0 0 0 0 0 0 0 0 0 2 0 2 2 2 2 0 2 2 2 2\n",
      " 2 2 0 0 2 2 2 2 0 2 0 2 0 2 2 0 0 2 2 2 2 2 0 2 2 2 2 0 2 2 2 0 2 2 2 0 2\n",
      " 2 0]\n",
      "(150,)\n"
     ]
    }
   ],
   "source": [
    "preds = kmeans.predict(X)\n",
    "print(preds)\n",
    "print(preds.shape)"
   ]
  },
  {
   "cell_type": "code",
   "execution_count": 6,
   "id": "15f9c16f-0ad2-4919-8881-ed4d8751f011",
   "metadata": {},
   "outputs": [],
   "source": [
    "# prediction is \"false\" but only because the \"label\" is not correct, the class itself is correctly predicted. Maybe this needs to be solved later on differently.\n",
    "\n",
    "lst = []\n",
    "\n",
    "for i in preds:\n",
    "    if i == 1: \n",
    "        lst.append(0)\n",
    "    elif i == 0:\n",
    "        lst.append(1)\n",
    "    else:\n",
    "        lst.append(i)\n",
    "        \n",
    "preds = np.array(lst)"
   ]
  },
  {
   "cell_type": "code",
   "execution_count": 7,
   "id": "30ac196a-7511-4ac3-9626-6a45e0f8d308",
   "metadata": {},
   "outputs": [
    {
     "data": {
      "text/plain": [
       "array([0, 0, 0, 0, 0, 0, 0, 0, 0, 0, 0, 0, 0, 0, 0, 0, 0, 0, 0, 0, 0, 0,\n",
       "       0, 0, 0, 0, 0, 0, 0, 0, 0, 0, 0, 0, 0, 0, 0, 0, 0, 0, 0, 0, 0, 0,\n",
       "       0, 0, 0, 0, 0, 0, 1, 1, 2, 1, 1, 1, 1, 1, 1, 1, 1, 1, 1, 1, 1, 1,\n",
       "       1, 1, 1, 1, 1, 1, 1, 1, 1, 1, 1, 2, 1, 1, 1, 1, 1, 1, 1, 1, 1, 1,\n",
       "       1, 1, 1, 1, 1, 1, 1, 1, 1, 1, 1, 1, 2, 1, 2, 2, 2, 2, 1, 2, 2, 2,\n",
       "       2, 2, 2, 1, 1, 2, 2, 2, 2, 1, 2, 1, 2, 1, 2, 2, 1, 1, 2, 2, 2, 2,\n",
       "       2, 1, 2, 2, 2, 2, 1, 2, 2, 2, 1, 2, 2, 2, 1, 2, 2, 1])"
      ]
     },
     "execution_count": 7,
     "metadata": {},
     "output_type": "execute_result"
    }
   ],
   "source": [
    "preds"
   ]
  },
  {
   "cell_type": "code",
   "execution_count": 8,
   "id": "44df3374-40e8-483a-8436-6a6d64caf60d",
   "metadata": {},
   "outputs": [
    {
     "data": {
      "text/plain": [
       "0.8933333333333333"
      ]
     },
     "execution_count": 8,
     "metadata": {},
     "output_type": "execute_result"
    }
   ],
   "source": [
    "metrics.accuracy_score(y,preds)"
   ]
  },
  {
   "cell_type": "code",
   "execution_count": 9,
   "id": "d74044d4",
   "metadata": {},
   "outputs": [
    {
     "name": "stdout",
     "output_type": "stream",
     "text": [
      "[[5.9016129  2.7483871  4.39354839 1.43387097]\n",
      " [5.006      3.428      1.462      0.246     ]\n",
      " [6.85       3.07368421 5.74210526 2.07105263]]\n",
      "(3, 4)\n"
     ]
    }
   ],
   "source": [
    "centers = kmeans.cluster_centers_\n",
    "print(centers)\n",
    "print(centers.shape)"
   ]
  },
  {
   "cell_type": "code",
   "execution_count": 10,
   "id": "5208a0a0",
   "metadata": {},
   "outputs": [],
   "source": [
    "# one set of clusters for every obs - Idk. how to broadcast this to work with the later distance function\n",
    "centers_lst = []\n",
    "\n",
    "for i in preds:\n",
    "    centers_lst.append(np.array(centers))"
   ]
  },
  {
   "cell_type": "code",
   "execution_count": 11,
   "id": "d18ab236",
   "metadata": {},
   "outputs": [],
   "source": [
    "c = np.array(centers_lst)"
   ]
  },
  {
   "cell_type": "code",
   "execution_count": 12,
   "id": "700730bb",
   "metadata": {
    "scrolled": true
   },
   "outputs": [
    {
     "data": {
      "text/plain": [
       "array([5.1, 3.5, 1.4, 0.2])"
      ]
     },
     "execution_count": 12,
     "metadata": {},
     "output_type": "execute_result"
    }
   ],
   "source": [
    "#Check obs\n",
    "X[0]"
   ]
  },
  {
   "cell_type": "code",
   "execution_count": 13,
   "id": "c3ef5193",
   "metadata": {},
   "outputs": [
    {
     "data": {
      "text/plain": [
       "array([[5.9016129 , 2.7483871 , 4.39354839, 1.43387097],\n",
       "       [5.006     , 3.428     , 1.462     , 0.246     ],\n",
       "       [6.85      , 3.07368421, 5.74210526, 2.07105263]])"
      ]
     },
     "execution_count": 13,
     "metadata": {},
     "output_type": "execute_result"
    }
   ],
   "source": [
    "#check cluster\n",
    "c[0]"
   ]
  },
  {
   "cell_type": "code",
   "execution_count": 14,
   "id": "19f184d2",
   "metadata": {},
   "outputs": [
    {
     "data": {
      "text/plain": [
       "array([[0.8016129 , 0.7516129 , 2.99354839, 1.23387097],\n",
       "       [0.094     , 0.072     , 0.062     , 0.046     ],\n",
       "       [1.75      , 0.42631579, 4.34210526, 1.87105263]])"
      ]
     },
     "execution_count": 14,
     "metadata": {},
     "output_type": "execute_result"
    }
   ],
   "source": [
    "#check point-wise Manhatten distance\n",
    "abs(c[0] - X[0])"
   ]
  },
  {
   "cell_type": "code",
   "execution_count": 15,
   "id": "f22cc140",
   "metadata": {
    "scrolled": true
   },
   "outputs": [
    {
     "data": {
      "text/plain": [
       "array([[6.42583247e-01, 5.64921956e-01, 8.96133195e+00, 1.52243757e+00],\n",
       "       [8.83600000e-03, 5.18400000e-03, 3.84400000e-03, 2.11600000e-03],\n",
       "       [3.06250000e+00, 1.81745152e-01, 1.88538781e+01, 3.50083795e+00]])"
      ]
     },
     "execution_count": 15,
     "metadata": {},
     "output_type": "execute_result"
    }
   ],
   "source": [
    "#check point-wise euclidean distance\n",
    "(c[0] - X[0])**2"
   ]
  },
  {
   "cell_type": "code",
   "execution_count": 16,
   "id": "06ad24de",
   "metadata": {
    "scrolled": true
   },
   "outputs": [],
   "source": [
    "def calc_feature_wise_distance_matrix(distance_metric, points, cluster_centers):\n",
    "    \n",
    "    # calculate the distance of every feature value of ever obs to every feature value in every cluster.\n",
    "    \n",
    "    feature_wise_distance_matrix = []\n",
    "    \n",
    "    if distance_metric == \"manhattan\":\n",
    "        for i,e in enumerate(X):\n",
    "            feature_wise_distance_matrix.append(abs(c[i] - e))\n",
    "        \n",
    "    \n",
    "    if distance_metric == \"euclidean\":\n",
    "        for i,e in enumerate(X):\n",
    "            feature_wise_distance_matrix.append((c[i] - e)**2)\n",
    "    \n",
    "    return np.array(feature_wise_distance_matrix)"
   ]
  },
  {
   "cell_type": "code",
   "execution_count": 17,
   "id": "85d869e4",
   "metadata": {},
   "outputs": [],
   "source": [
    "A =calc_feature_wise_distance_matrix(\"manhattan\", X, c)"
   ]
  },
  {
   "cell_type": "code",
   "execution_count": 18,
   "id": "461a2d41-7822-4d1a-ac3d-92d763b7e75d",
   "metadata": {},
   "outputs": [
    {
     "data": {
      "text/plain": [
       "array([[0.8016129 , 0.7516129 , 2.99354839, 1.23387097],\n",
       "       [0.094     , 0.072     , 0.062     , 0.046     ],\n",
       "       [1.75      , 0.42631579, 4.34210526, 1.87105263]])"
      ]
     },
     "execution_count": 18,
     "metadata": {},
     "output_type": "execute_result"
    }
   ],
   "source": [
    "A[0]"
   ]
  },
  {
   "cell_type": "code",
   "execution_count": 19,
   "id": "7b290ac9-7bff-4c1f-afbb-339c0c701ec1",
   "metadata": {},
   "outputs": [
    {
     "data": {
      "text/plain": [
       "array([0.7516129 , 0.072     , 0.42631579])"
      ]
     },
     "execution_count": 19,
     "metadata": {},
     "output_type": "execute_result"
    }
   ],
   "source": [
    "A[0][:,1]"
   ]
  },
  {
   "cell_type": "code",
   "execution_count": 45,
   "id": "2ae18c0c",
   "metadata": {},
   "outputs": [],
   "source": [
    "# Falsch!\n",
    "def best_second_calc(feature_based_distanes, preds):\n",
    "    \n",
    "    num_features = feature_based_distanes.shape[1]\n",
    "    \n",
    "    assinged_cluster_list = []\n",
    "    fb_distance_to_assinged_cluster_list = []\n",
    "    \n",
    "    best_alterantive_list = []\n",
    "    fb_distance_to_best_alternative_list = []\n",
    "    \n",
    "    #for every obs:\n",
    "    for idx, e in enumerate(feature_based_distanes):\n",
    "        #index of assinged cluster\n",
    "        assigned_cluster = preds[idx]\n",
    "        #feature-wise distances of point to assigned cluster\n",
    "        distances_to_assigned = e[:,assigned_cluster]\n",
    "        \n",
    "        assinged_cluster_list.append(assigned_cluster)\n",
    "        fb_distance_to_assinged_cluster_list.append(distances_to_assigned)\n",
    "        \n",
    "        #find best alternative:\n",
    "        \n",
    "        temp_bad = []\n",
    "        temp_idx = []\n",
    "        \n",
    "        #for every feature\n",
    "        for i in range(num_features):\n",
    "            \n",
    "            \n",
    "            # best alternative: \n",
    "            best_alternative_distance = min(e[:,i])\n",
    "            x = e[:,i].tolist()\n",
    "            idx_best_alternative = x.index(best_alternative_distance)\n",
    "            \n",
    "            \n",
    "            #if the best alternative is the assigned cluster, we have to find the second best alternative\n",
    "            if idx_best_alternative == assigned_cluster:\n",
    "                \n",
    "                del x[idx_best_alternative]\n",
    "                best_alternative_distance = min(x)\n",
    "                idx_best_alternative = x.index(best_alternative_distance)\n",
    "                \n",
    "            temp_bad.append(best_alternative_distance)\n",
    "            temp_idx.append(idx_best_alternative)\n",
    "\n",
    "        best_alterantive_list.append(temp_idx)\n",
    "        fb_distance_to_best_alternative_list.append(temp_bad)     \n",
    "            \n",
    "    return np.array(assinged_cluster_list), np.array(fb_distance_to_assinged_cluster_list), np.array(best_alterantive_list), np.array(fb_distance_to_best_alternative_list)"
   ]
  },
  {
   "cell_type": "code",
   "execution_count": 46,
   "id": "753edda3",
   "metadata": {},
   "outputs": [],
   "source": [
    "ac ,fb_ac ,ba, fb_ba = best_second_calc(A, preds)"
   ]
  },
  {
   "cell_type": "markdown",
   "id": "25cd0540-a527-4a29-bba5-4bc4695cf33e",
   "metadata": {
    "tags": []
   },
   "source": [
    "## Relevance of feature j for point i:\n",
    "\n",
    "$$R_{ji} := R_j(x_{ij},c_{kj},c_{k'_{ij}}) := \\frac{d_j(x_{ij},c_{k'_{ij}}) - d_j(x_{ij},c_{kj})}{d_j(x_{ij},c_{k'_{ij}}) + d_j(x_{ij},c_{kj})}$$"
   ]
  },
  {
   "cell_type": "markdown",
   "id": "7dde9fc6-c498-47f8-a72f-30c20c480695",
   "metadata": {},
   "source": [
    "$d_j(x_{ij},c_{k'_{ij}}$ is the distance to the best alternative.\n",
    "\n",
    "$d_j(x_{ij},c_{kj})$ is the distance to the associated cluster."
   ]
  },
  {
   "cell_type": "code",
   "execution_count": 53,
   "id": "34a9b470-c622-4149-9445-384270c8b1b4",
   "metadata": {},
   "outputs": [
    {
     "data": {
      "text/plain": [
       "array([0.094, 0.072, 0.062])"
      ]
     },
     "execution_count": 53,
     "metadata": {},
     "output_type": "execute_result"
    }
   ],
   "source": [
    "fb_ba[0]"
   ]
  },
  {
   "cell_type": "code",
   "execution_count": 54,
   "id": "06b7bfa1-2d4c-40fa-a720-58e2a513ffc9",
   "metadata": {},
   "outputs": [
    {
     "data": {
      "text/plain": [
       "array([0.8016129, 0.094    , 1.75     ])"
      ]
     },
     "execution_count": 54,
     "metadata": {},
     "output_type": "execute_result"
    }
   ],
   "source": [
    "fb_ac[0]"
   ]
  },
  {
   "cell_type": "code",
   "execution_count": 55,
   "id": "830d7a12-afb9-46f7-a55a-b16082bb8915",
   "metadata": {},
   "outputs": [
    {
     "data": {
      "text/plain": [
       "0"
      ]
     },
     "execution_count": 55,
     "metadata": {},
     "output_type": "execute_result"
    }
   ],
   "source": [
    "ac[0]"
   ]
  },
  {
   "cell_type": "code",
   "execution_count": 56,
   "id": "edc767e9-4b26-465e-ac30-21478ae78829",
   "metadata": {},
   "outputs": [
    {
     "data": {
      "text/plain": [
       "array([1, 1, 1])"
      ]
     },
     "execution_count": 56,
     "metadata": {},
     "output_type": "execute_result"
    }
   ],
   "source": [
    "ba[0]"
   ]
  },
  {
   "cell_type": "code",
   "execution_count": 57,
   "id": "40dc8a7e-ee9b-415d-a2de-ffd152b472a0",
   "metadata": {},
   "outputs": [
    {
     "data": {
      "text/plain": [
       "array([5.1, 3.5, 1.4, 0.2])"
      ]
     },
     "execution_count": 57,
     "metadata": {},
     "output_type": "execute_result"
    }
   ],
   "source": [
    "X[0]"
   ]
  },
  {
   "cell_type": "code",
   "execution_count": 60,
   "id": "3aef337d-a039-4d75-84fd-c400a44416fe",
   "metadata": {},
   "outputs": [
    {
     "data": {
      "text/plain": [
       "array([[5.9016129 , 2.7483871 , 4.39354839, 1.43387097],\n",
       "       [5.006     , 3.428     , 1.462     , 0.246     ],\n",
       "       [6.85      , 3.07368421, 5.74210526, 2.07105263]])"
      ]
     },
     "execution_count": 60,
     "metadata": {},
     "output_type": "execute_result"
    }
   ],
   "source": [
    "centers"
   ]
  },
  {
   "cell_type": "code",
   "execution_count": 62,
   "id": "643c70fe-7a3f-496e-a818-14930592e28d",
   "metadata": {},
   "outputs": [
    {
     "data": {
      "text/plain": [
       "0"
      ]
     },
     "execution_count": 62,
     "metadata": {},
     "output_type": "execute_result"
    }
   ],
   "source": [
    "preds[0]"
   ]
  },
  {
   "cell_type": "code",
   "execution_count": 61,
   "id": "5863d601-2b33-4188-8a3d-f9c657fc73b7",
   "metadata": {},
   "outputs": [
    {
     "data": {
      "text/plain": [
       "0"
      ]
     },
     "execution_count": 61,
     "metadata": {},
     "output_type": "execute_result"
    }
   ],
   "source": [
    "y[0]"
   ]
  },
  {
   "cell_type": "code",
   "execution_count": 51,
   "id": "3c930e9b-94b7-4f68-af28-a9d2cf8aae58",
   "metadata": {},
   "outputs": [],
   "source": [
    "# broadcasted: for every i, for every j\n",
    "R = (fb_ba - fb_ac) / (fb_ba + fb_ac)"
   ]
  },
  {
   "cell_type": "code",
   "execution_count": 52,
   "id": "5de8d9b3-0824-4060-8ec9-a0361842b902",
   "metadata": {},
   "outputs": [
    {
     "data": {
      "text/plain": [
       "array([[-0.79008788, -0.13253012, -0.93156733],\n",
       "       [-0.80859739, -0.17984769, -0.93836978],\n",
       "       [-0.59406025, -0.41563185, -0.85986159],\n",
       "       [-0.52448239, -0.87825664, -0.96678322],\n",
       "       [-0.9867785 ,  0.93258427, -0.93514644],\n",
       "       [-0.1201556 ,  0.09006928, -0.71800948],\n",
       "       [-0.52448239, -0.87096774, -0.94636678],\n",
       "       [-0.9867785 ,  0.64705882, -0.95974576],\n",
       "       [-0.42494184, -0.5544755 , -0.95063694],\n",
       "       [-0.80859739, -0.60222753, -0.96177062],\n",
       "       [-0.1201556 , -0.18318318, -0.94892473],\n",
       "       [-0.68492204, -0.76068376, -0.8738574 ],\n",
       "       [-0.68492204, -0.47308995, -0.94128788],\n",
       "       [-0.38811228, -0.8109896 , -0.75137363],\n",
       "       [ 0.77308745, -0.1625183 , -0.60060976],\n",
       "       [ 0.54977669,  0.16686675, -0.93602694],\n",
       "       [-0.1201556 ,  0.09006928, -0.79900744],\n",
       "       [-0.79008788, -0.13253012, -0.93156733],\n",
       "       [ 0.54977669, -0.30206379, -0.65706052],\n",
       "       [-0.79008788,  0.59656652, -0.95749441],\n",
       "       [-0.1201556 , -0.86729858, -0.71800948],\n",
       "       [-0.79008788,  0.4863388 , -0.95749441],\n",
       "       [-0.52448239, -0.40484429, -0.65929204],\n",
       "       [-0.79008788,  0.15315315, -0.76056338],\n",
       "       [-0.68492204, -0.76068376, -0.64790997],\n",
       "       [-0.9867785 ,  0.84940555, -0.861167  ],\n",
       "       [-0.9867785 ,  0.64705882, -0.861167  ],\n",
       "       [-0.56677712, -0.45864662, -0.9549763 ],\n",
       "       [-0.56677712, -0.74774775, -0.92757009],\n",
       "       [-0.59406025, -0.41563185, -0.87937063],\n",
       "       [-0.68492204, -0.77344812, -0.8738574 ],\n",
       "       [-0.1201556 , -0.86729858, -0.94892473],\n",
       "       [-0.56677712,  0.55196305, -0.9549763 ],\n",
       "       [ 0.10315516,  0.21958926, -0.9121813 ],\n",
       "       [-0.80859739, -0.60222753, -0.96177062],\n",
       "       [-0.9867785 ,  0.90930788, -0.75189394],\n",
       "       [ 0.10315516, -0.74558304, -0.78571429],\n",
       "       [-0.80859739,  0.23741007, -0.93836978],\n",
       "       [-0.42494184, -0.78318104, -0.87595712],\n",
       "       [-0.79008788, -0.54098361, -0.95749441],\n",
       "       [-0.9867785 ,  0.84615385, -0.8389662 ],\n",
       "       [-0.46949405,  0.2091799 , -0.87101911],\n",
       "       [-0.42494184, -0.65502372, -0.87595712],\n",
       "       [-0.9867785 ,  0.84615385, -0.861167  ],\n",
       "       [-0.79008788,  0.59656652, -0.59963437],\n",
       "       [-0.68492204, -0.47308995, -0.94128788],\n",
       "       [-0.79008788,  0.59656652, -0.85381356],\n",
       "       [-0.52448239, -0.52541032, -0.94636678],\n",
       "       [-0.34346636, -0.03886926, -0.95214106],\n",
       "       [-0.9867785 ,  0.91044776, -0.93514644],\n",
       "       [-0.50134048, -0.28698752,  0.41624166],\n",
       "       [-0.00178891, -0.28698752, -0.08533917],\n",
       "       [ 0.32690247, -0.82580988, -0.2488984 ],\n",
       "       [-0.05502846, -0.43112057, -0.32567273],\n",
       "       [ 0.74297189, -0.84811088, -0.14002829],\n",
       "       [ 0.59235669, -0.84811088, -0.43992854],\n",
       "       [-0.16129032,  0.27748069,  0.15041428],\n",
       "       [ 0.48387097, -0.49376582,  0.23758286],\n",
       "       [ 0.24497992, -0.55382571,  0.0861992 ],\n",
       "       [ 0.87096774, -0.87535317,  0.13821457],\n",
       "       [ 0.09286413, -0.31226656, -0.09156814],\n",
       "       [-0.98726115, -0.70625262,  0.44853875],\n",
       "       [-0.6957606 , -0.38258154, -0.37888532],\n",
       "       [ 0.13364055, -0.55382571,  0.27652051],\n",
       "       [ 0.33096085, -0.55382571,  0.64086361],\n",
       "       [-0.40192926, -0.85145573, -0.60621762],\n",
       "       [ 0.09037901, -0.70625262,  0.18190386],\n",
       "       [ 0.35483871, -0.87535317, -0.12010178],\n",
       "       [-0.2952381 , -0.38258154, -0.78278192],\n",
       "       [ 0.09677419, -0.57771197, -0.0750875 ],\n",
       "       [-0.99288256, -0.28698752,  0.52581262],\n",
       "       [ 0.58709677, -0.84811088,  0.17964377],\n",
       "       [ 0.2319202 , -0.57771197, -0.06224458],\n",
       "       [ 0.58709677, -0.84811088,  0.05648229],\n",
       "       [ 0.49597855, -0.55382571, -0.29987294],\n",
       "       [-0.00321543, -0.70625262, -0.83898305],\n",
       "       [-0.01587302, -0.84811088,  0.19520719],\n",
       "       [ 0.13662457, -0.86720918, -0.10059172],\n",
       "       [-0.21290323, -0.55382571, -0.24      ],\n",
       "       [ 0.15207373, -0.69604863,  0.30709053],\n",
       "       [ 0.07096774, -0.49376582, -0.06323687],\n",
       "       [ 0.07096774, -0.49376582,  0.01452875],\n",
       "       [ 0.35483871, -0.87535317,  0.13821457],\n",
       "       [ 0.34065934, -0.87535317,  0.2642487 ],\n",
       "       [ 0.33190578, -0.70625262,  0.18190386],\n",
       "       [-0.73763441,  0.8419489 , -0.50804237],\n",
       "       [-0.40192926, -0.85145573,  0.84183673],\n",
       "       [-0.05904762, -0.43112057, -0.98346028],\n",
       "       [ 0.09037901, -0.70625262,  0.5987055 ],\n",
       "       [ 0.23573201, -0.57771197, -0.18623837],\n",
       "       [ 0.46041056, -0.69604863, -0.97312588],\n",
       "       [-0.11827957, -0.70625262,  0.47393939],\n",
       "       [-0.18709677, -0.69604863, -0.09240407],\n",
       "       [ 0.33572282, -0.43112057,  0.17130387],\n",
       "       [ 0.7235023 , -0.87535317, -0.31756959],\n",
       "       [-0.11032028, -0.70625262,  0.44853875],\n",
       "       [ 0.14155251, -0.55382571,  0.05409154],\n",
       "       [ 0.32616487, -0.55382571, -0.29987294],\n",
       "       [ 0.52688172, -0.57771197,  0.41676016],\n",
       "       [ 0.59235669, -0.84811088,  0.03501946],\n",
       "       [-0.60257442, -0.94513502,  0.72334032],\n",
       "       [ 0.35483871, -0.87535317,  0.2642487 ],\n",
       "       [-0.11389386, -0.89269353,  0.81026216],\n",
       "       [-0.50351759, -0.92931162,  0.78924839],\n",
       "       [-0.40305712, -0.8903555 ,  0.92092754],\n",
       "       [-0.13011152, -0.90663044,  0.44007978],\n",
       "       [ 0.60258065, -0.57771197, -0.68696955],\n",
       "       [-0.15373353, -0.93922859,  0.54722701],\n",
       "       [-0.27578639, -0.89168507,  0.92092754],\n",
       "       [-0.13580247, -0.92848233,  0.65326096],\n",
       "       [-0.08281829, -0.88204863,  0.04771497],\n",
       "       [-0.29047072, -0.97509919,  0.34432834],\n",
       "       [-0.10378117, -0.88268736,  0.64094171],\n",
       "       [-0.10394265, -0.57771197,  0.02776579],\n",
       "       [ 0.32631579, -0.84811088,  0.40229885],\n",
       "       [-0.29047072, -0.88785047,  0.34432834],\n",
       "       [-0.29801325, -0.88268736,  0.64094171],\n",
       "       [-0.1237721 , -0.86737968,  0.41311697],\n",
       "       [-0.16448108, -0.94687547,  0.36802113],\n",
       "       [-0.6957606 , -0.38258154, -0.180546  ],\n",
       "       [-0.1336599 , -0.89789521,  0.93755508],\n",
       "       [ 0.70776256, -0.84811088,  0.29836779],\n",
       "       [-0.1237721 , -0.98048519,  0.41311697],\n",
       "       [ 0.7833935 , -0.87535317,  0.15084877],\n",
       "       [-0.24137931, -0.94136509,  0.93755508],\n",
       "       [-0.10605219, -0.90432228,  0.72334032],\n",
       "       [ 0.70506912, -0.84811088,  0.19520719],\n",
       "       [-0.11827957, -0.70625262,  0.745976  ],\n",
       "       [-0.4153264 , -0.97536149,  0.78924839],\n",
       "       [-0.0399523 , -0.8903555 ,  0.92092754],\n",
       "       [-0.06492199, -0.97798842,  0.65326096],\n",
       "       [-0.00201369, -0.85988701,  0.50614924],\n",
       "       [-0.4153264 , -0.97536149,  0.78924839],\n",
       "       [ 0.77060932, -0.84811088,  0.40229885],\n",
       "       [-0.71756602, -0.93076356,  0.78924839],\n",
       "       [ 0.02623102, -0.89708269,  0.65326096],\n",
       "       [-0.50351759, -0.98655785,  0.78924839],\n",
       "       [-0.37889447, -0.84974805,  0.64094171],\n",
       "       [-0.43778802, -0.70625262,  0.69306931],\n",
       "       [-0.00402253, -0.84622597,  0.49263502],\n",
       "       [-0.20353982, -0.8531124 ,  0.78924839],\n",
       "       [ 0.17123936, -0.83459405,  0.04771497],\n",
       "       [ 0.35483871, -0.87535317,  0.2642487 ],\n",
       "       [-0.25285044, -0.90227175,  0.81026216],\n",
       "       [-0.24137931, -0.94136509,  0.93755508],\n",
       "       [-0.00502513, -0.87386601,  0.19602165],\n",
       "       [ 0.2319202 , -0.57771197,  0.02776579],\n",
       "       [-0.14810563, -0.87386601,  0.19602165],\n",
       "       [-0.54264524, -0.98587998,  0.49263502],\n",
       "       [-0.98726115, -0.70625262,  0.79411765]])"
      ]
     },
     "execution_count": 52,
     "metadata": {},
     "output_type": "execute_result"
    }
   ],
   "source": [
    "R"
   ]
  },
  {
   "cell_type": "code",
   "execution_count": 63,
   "id": "0bca8808-b391-448f-b547-0f60ceab8463",
   "metadata": {},
   "outputs": [],
   "source": [
    "#df = pd.DataFrame(R)\n",
    "#df.rename({0:\"R1\", 1: \"R2\", 2: \"R3\", 3: \"R4\"}, axis=1, inplace = True)"
   ]
  },
  {
   "cell_type": "code",
   "execution_count": 64,
   "id": "bc3e3d5c-2dde-47ab-a051-43b27a04c4bc",
   "metadata": {},
   "outputs": [],
   "source": [
    "#df.head()"
   ]
  },
  {
   "cell_type": "code",
   "execution_count": 65,
   "id": "0466f8b0-8d32-474f-9c39-5088d582df6f",
   "metadata": {},
   "outputs": [],
   "source": [
    "#df[\"associated clusters\"] = preds"
   ]
  },
  {
   "cell_type": "code",
   "execution_count": 66,
   "id": "85115737-0873-49a8-8646-122b0136fc56",
   "metadata": {},
   "outputs": [],
   "source": [
    "#df[\"y\"] = y"
   ]
  },
  {
   "cell_type": "code",
   "execution_count": 67,
   "id": "526c5a55-a6b3-49ca-a872-2991c241782f",
   "metadata": {},
   "outputs": [],
   "source": [
    "#df_X = pd.DataFrame(X)\n",
    "#df.rename({0:\"X1\", 1: \"X2\", 2: \"X3\", 3: \"X4\"}, axis=1, inplace = True)"
   ]
  },
  {
   "cell_type": "code",
   "execution_count": 68,
   "id": "35fa74ec-5452-4623-a0b1-ab847f5bd8bb",
   "metadata": {},
   "outputs": [],
   "source": [
    "#df = pd.concat([df, df_X], axis=1)"
   ]
  },
  {
   "cell_type": "code",
   "execution_count": 69,
   "id": "6187da9a-bbf2-4067-8242-24e48a3ceb97",
   "metadata": {},
   "outputs": [],
   "source": [
    "#df"
   ]
  }
 ],
 "metadata": {
  "kernelspec": {
   "display_name": "Python 3 (ipykernel)",
   "language": "python",
   "name": "python3"
  },
  "language_info": {
   "codemirror_mode": {
    "name": "ipython",
    "version": 3
   },
   "file_extension": ".py",
   "mimetype": "text/x-python",
   "name": "python",
   "nbconvert_exporter": "python",
   "pygments_lexer": "ipython3",
   "version": "3.9.12"
  }
 },
 "nbformat": 4,
 "nbformat_minor": 5
}
