{
 "cells": [
  {
   "cell_type": "markdown",
   "id": "e25b8a7c",
   "metadata": {},
   "source": [
    "## Explainable k-Medoids"
   ]
  },
  {
   "cell_type": "code",
   "execution_count": 1,
   "id": "ed511a8b",
   "metadata": {},
   "outputs": [],
   "source": [
    "import matplotlib.pyplot as plt\n",
    "from sklearn import datasets\n",
    "import mpl_toolkits.mplot3d \n",
    "from sklearn.cluster import KMeans\n",
    "from sklearn import metrics\n",
    "import numpy as np\n",
    "import pandas as pd"
   ]
  },
  {
   "cell_type": "code",
   "execution_count": 2,
   "id": "132a326f",
   "metadata": {},
   "outputs": [],
   "source": [
    "iris = datasets.load_iris()\n",
    "X = iris.data\n",
    "y = iris.target"
   ]
  },
  {
   "cell_type": "code",
   "execution_count": 3,
   "id": "5f871478",
   "metadata": {},
   "outputs": [],
   "source": [
    "kmeans = KMeans(n_clusters=3, random_state=3).fit(X)"
   ]
  },
  {
   "cell_type": "code",
   "execution_count": 4,
   "id": "b472c1fb-fcf4-4296-84d3-41f817a803c8",
   "metadata": {},
   "outputs": [
    {
     "data": {
      "text/plain": [
       "78.851441426146"
      ]
     },
     "execution_count": 4,
     "metadata": {},
     "output_type": "execute_result"
    }
   ],
   "source": [
    "kmeans.inertia_"
   ]
  },
  {
   "cell_type": "code",
   "execution_count": 5,
   "id": "8206f703-bcc9-47e6-8982-9f89f681aabf",
   "metadata": {},
   "outputs": [
    {
     "data": {
      "text/plain": [
       "array([0, 0, 0, 0, 0, 0, 0, 0, 0, 0, 0, 0, 0, 0, 0, 0, 0, 0, 0, 0, 0, 0,\n",
       "       0, 0, 0, 0, 0, 0, 0, 0, 0, 0, 0, 0, 0, 0, 0, 0, 0, 0, 0, 0, 0, 0,\n",
       "       0, 0, 0, 0, 0, 0, 1, 1, 1, 1, 1, 1, 1, 1, 1, 1, 1, 1, 1, 1, 1, 1,\n",
       "       1, 1, 1, 1, 1, 1, 1, 1, 1, 1, 1, 1, 1, 1, 1, 1, 1, 1, 1, 1, 1, 1,\n",
       "       1, 1, 1, 1, 1, 1, 1, 1, 1, 1, 1, 1, 2, 2, 2, 2, 2, 2, 2, 2, 2, 2,\n",
       "       2, 2, 2, 2, 2, 2, 2, 2, 2, 2, 2, 2, 2, 2, 2, 2, 2, 2, 2, 2, 2, 2,\n",
       "       2, 2, 2, 2, 2, 2, 2, 2, 2, 2, 2, 2, 2, 2, 2, 2, 2, 2])"
      ]
     },
     "execution_count": 5,
     "metadata": {},
     "output_type": "execute_result"
    }
   ],
   "source": [
    "y"
   ]
  },
  {
   "cell_type": "code",
   "execution_count": 6,
   "id": "00ac4367",
   "metadata": {},
   "outputs": [
    {
     "name": "stdout",
     "output_type": "stream",
     "text": [
      "[1 1 1 1 1 1 1 1 1 1 1 1 1 1 1 1 1 1 1 1 1 1 1 1 1 1 1 1 1 1 1 1 1 1 1 1 1\n",
      " 1 1 1 1 1 1 1 1 1 1 1 1 1 0 0 2 0 0 0 0 0 0 0 0 0 0 0 0 0 0 0 0 0 0 0 0 0\n",
      " 0 0 0 2 0 0 0 0 0 0 0 0 0 0 0 0 0 0 0 0 0 0 0 0 0 0 2 0 2 2 2 2 0 2 2 2 2\n",
      " 2 2 0 0 2 2 2 2 0 2 0 2 0 2 2 0 0 2 2 2 2 2 0 2 2 2 2 0 2 2 2 0 2 2 2 0 2\n",
      " 2 0]\n",
      "(150,)\n"
     ]
    }
   ],
   "source": [
    "preds = kmeans.predict(X)\n",
    "print(preds)\n",
    "print(preds.shape)"
   ]
  },
  {
   "cell_type": "markdown",
   "id": "2d296de9-a57d-4062-b366-a4143340ce20",
   "metadata": {
    "tags": []
   },
   "source": [
    "### !! darf ich nicht so machen, da sonst fehler bei cluster zuordnung!\n",
    "\n",
    "#prediction is \"false\" but only because the \"label\" is not correct, the class itself is correctly predicted. Maybe this needs to be solved later on differently.\n",
    "\n",
    "lst = []\n",
    "\n",
    "for i in preds:\n",
    "    if i == 1: \n",
    "        lst.append(0)\n",
    "    elif i == 0:\n",
    "        lst.append(1)\n",
    "    else:\n",
    "        lst.append(i)\n",
    "        \n",
    "preds = np.array(lst)"
   ]
  },
  {
   "cell_type": "code",
   "execution_count": 7,
   "id": "30ac196a-7511-4ac3-9626-6a45e0f8d308",
   "metadata": {},
   "outputs": [
    {
     "data": {
      "text/plain": [
       "array([1, 1, 1, 1, 1, 1, 1, 1, 1, 1, 1, 1, 1, 1, 1, 1, 1, 1, 1, 1, 1, 1,\n",
       "       1, 1, 1, 1, 1, 1, 1, 1, 1, 1, 1, 1, 1, 1, 1, 1, 1, 1, 1, 1, 1, 1,\n",
       "       1, 1, 1, 1, 1, 1, 0, 0, 2, 0, 0, 0, 0, 0, 0, 0, 0, 0, 0, 0, 0, 0,\n",
       "       0, 0, 0, 0, 0, 0, 0, 0, 0, 0, 0, 2, 0, 0, 0, 0, 0, 0, 0, 0, 0, 0,\n",
       "       0, 0, 0, 0, 0, 0, 0, 0, 0, 0, 0, 0, 2, 0, 2, 2, 2, 2, 0, 2, 2, 2,\n",
       "       2, 2, 2, 0, 0, 2, 2, 2, 2, 0, 2, 0, 2, 0, 2, 2, 0, 0, 2, 2, 2, 2,\n",
       "       2, 0, 2, 2, 2, 2, 0, 2, 2, 2, 0, 2, 2, 2, 0, 2, 2, 0], dtype=int32)"
      ]
     },
     "execution_count": 7,
     "metadata": {},
     "output_type": "execute_result"
    }
   ],
   "source": [
    "preds"
   ]
  },
  {
   "cell_type": "code",
   "execution_count": 8,
   "id": "44df3374-40e8-483a-8436-6a6d64caf60d",
   "metadata": {},
   "outputs": [
    {
     "data": {
      "text/plain": [
       "0.24"
      ]
     },
     "execution_count": 8,
     "metadata": {},
     "output_type": "execute_result"
    }
   ],
   "source": [
    "metrics.accuracy_score(y,preds)"
   ]
  },
  {
   "cell_type": "code",
   "execution_count": 9,
   "id": "d74044d4",
   "metadata": {},
   "outputs": [
    {
     "name": "stdout",
     "output_type": "stream",
     "text": [
      "[[5.9016129  2.7483871  4.39354839 1.43387097]\n",
      " [5.006      3.428      1.462      0.246     ]\n",
      " [6.85       3.07368421 5.74210526 2.07105263]]\n",
      "(3, 4)\n"
     ]
    }
   ],
   "source": [
    "centers = kmeans.cluster_centers_\n",
    "print(centers)\n",
    "print(centers.shape)"
   ]
  },
  {
   "cell_type": "code",
   "execution_count": 10,
   "id": "5208a0a0",
   "metadata": {},
   "outputs": [],
   "source": [
    "# one set of clusters for every obs - Idk. how to broadcast this to work with the later distance function\n",
    "centers_lst = []\n",
    "\n",
    "for i in preds:\n",
    "    centers_lst.append(np.array(centers))\n",
    "    \n",
    "c = np.array(centers_lst)"
   ]
  },
  {
   "cell_type": "code",
   "execution_count": 11,
   "id": "d18ab236",
   "metadata": {},
   "outputs": [],
   "source": [
    "c = np.array(centers_lst)"
   ]
  },
  {
   "cell_type": "code",
   "execution_count": 12,
   "id": "700730bb",
   "metadata": {
    "scrolled": true
   },
   "outputs": [
    {
     "data": {
      "text/plain": [
       "array([5.1, 3.5, 1.4, 0.2])"
      ]
     },
     "execution_count": 12,
     "metadata": {},
     "output_type": "execute_result"
    }
   ],
   "source": [
    "#Check obs\n",
    "X[0]"
   ]
  },
  {
   "cell_type": "code",
   "execution_count": 13,
   "id": "c3ef5193",
   "metadata": {},
   "outputs": [
    {
     "data": {
      "text/plain": [
       "array([[5.9016129 , 2.7483871 , 4.39354839, 1.43387097],\n",
       "       [5.006     , 3.428     , 1.462     , 0.246     ],\n",
       "       [6.85      , 3.07368421, 5.74210526, 2.07105263]])"
      ]
     },
     "execution_count": 13,
     "metadata": {},
     "output_type": "execute_result"
    }
   ],
   "source": [
    "#check cluster\n",
    "c[0]"
   ]
  },
  {
   "cell_type": "code",
   "execution_count": 14,
   "id": "19f184d2",
   "metadata": {},
   "outputs": [
    {
     "data": {
      "text/plain": [
       "array([[0.8016129 , 0.7516129 , 2.99354839, 1.23387097],\n",
       "       [0.094     , 0.072     , 0.062     , 0.046     ],\n",
       "       [1.75      , 0.42631579, 4.34210526, 1.87105263]])"
      ]
     },
     "execution_count": 14,
     "metadata": {},
     "output_type": "execute_result"
    }
   ],
   "source": [
    "#check point-wise Manhatten distance\n",
    "abs(c[0] - X[0])"
   ]
  },
  {
   "cell_type": "code",
   "execution_count": 15,
   "id": "492502bf-b45a-4fdb-8703-2bd5629921ca",
   "metadata": {},
   "outputs": [
    {
     "data": {
      "text/plain": [
       "array([5.1, 3.5, 1.4, 0.2])"
      ]
     },
     "execution_count": 15,
     "metadata": {},
     "output_type": "execute_result"
    }
   ],
   "source": [
    "X[0]"
   ]
  },
  {
   "cell_type": "code",
   "execution_count": 16,
   "id": "a33edf71-6836-4911-9fa4-ea8bf48ce67a",
   "metadata": {},
   "outputs": [
    {
     "data": {
      "text/plain": [
       "array([[[5.9016129 , 2.7483871 , 4.39354839, 1.43387097],\n",
       "        [5.006     , 3.428     , 1.462     , 0.246     ],\n",
       "        [6.85      , 3.07368421, 5.74210526, 2.07105263]],\n",
       "\n",
       "       [[5.9016129 , 2.7483871 , 4.39354839, 1.43387097],\n",
       "        [5.006     , 3.428     , 1.462     , 0.246     ],\n",
       "        [6.85      , 3.07368421, 5.74210526, 2.07105263]],\n",
       "\n",
       "       [[5.9016129 , 2.7483871 , 4.39354839, 1.43387097],\n",
       "        [5.006     , 3.428     , 1.462     , 0.246     ],\n",
       "        [6.85      , 3.07368421, 5.74210526, 2.07105263]],\n",
       "\n",
       "       ...,\n",
       "\n",
       "       [[5.9016129 , 2.7483871 , 4.39354839, 1.43387097],\n",
       "        [5.006     , 3.428     , 1.462     , 0.246     ],\n",
       "        [6.85      , 3.07368421, 5.74210526, 2.07105263]],\n",
       "\n",
       "       [[5.9016129 , 2.7483871 , 4.39354839, 1.43387097],\n",
       "        [5.006     , 3.428     , 1.462     , 0.246     ],\n",
       "        [6.85      , 3.07368421, 5.74210526, 2.07105263]],\n",
       "\n",
       "       [[5.9016129 , 2.7483871 , 4.39354839, 1.43387097],\n",
       "        [5.006     , 3.428     , 1.462     , 0.246     ],\n",
       "        [6.85      , 3.07368421, 5.74210526, 2.07105263]]])"
      ]
     },
     "execution_count": 16,
     "metadata": {},
     "output_type": "execute_result"
    }
   ],
   "source": [
    "c"
   ]
  },
  {
   "cell_type": "code",
   "execution_count": 17,
   "id": "f22cc140",
   "metadata": {
    "scrolled": true
   },
   "outputs": [
    {
     "data": {
      "text/plain": [
       "array([[6.42583247e-01, 5.64921956e-01, 8.96133195e+00, 1.52243757e+00],\n",
       "       [8.83600000e-03, 5.18400000e-03, 3.84400000e-03, 2.11600000e-03],\n",
       "       [3.06250000e+00, 1.81745152e-01, 1.88538781e+01, 3.50083795e+00]])"
      ]
     },
     "execution_count": 17,
     "metadata": {},
     "output_type": "execute_result"
    }
   ],
   "source": [
    "#check point-wise euclidean distance\n",
    "(c[0] - X[0])**2"
   ]
  },
  {
   "cell_type": "code",
   "execution_count": 18,
   "id": "06ad24de",
   "metadata": {
    "scrolled": true,
    "tags": []
   },
   "outputs": [],
   "source": [
    "# to run with code above, I hashed the center_lst part\n",
    "def calc_feature_wise_distance_matrix(distance_metric, points, cluster_centers):\n",
    "    \n",
    "    #centers_lst = []\n",
    "\n",
    "    #for i in points:\n",
    "    #    centers_lst.append(np.array(centers))\n",
    "    \n",
    "    c = np.array(centers_lst)\n",
    "\n",
    "    # calculate the distance of every feature value of ever obs to every feature value in every cluster.\n",
    "    \n",
    "    feature_wise_distance_matrix = []\n",
    "    \n",
    "    if distance_metric == \"manhattan\":\n",
    "        for i,e in enumerate(X):\n",
    "            feature_wise_distance_matrix.append(abs(c[i] - e))\n",
    "        \n",
    "    \n",
    "    if distance_metric == \"euclidean\":\n",
    "        for i,e in enumerate(X):\n",
    "            feature_wise_distance_matrix.append((c[i] - e)**2)\n",
    "    \n",
    "    return np.array(feature_wise_distance_matrix)"
   ]
  },
  {
   "cell_type": "code",
   "execution_count": 19,
   "id": "85d869e4",
   "metadata": {},
   "outputs": [],
   "source": [
    "A =calc_feature_wise_distance_matrix(\"manhattan\", X, c)"
   ]
  },
  {
   "cell_type": "code",
   "execution_count": 20,
   "id": "461a2d41-7822-4d1a-ac3d-92d763b7e75d",
   "metadata": {},
   "outputs": [
    {
     "data": {
      "text/plain": [
       "array([[0.8016129 , 0.7516129 , 2.99354839, 1.23387097],\n",
       "       [0.094     , 0.072     , 0.062     , 0.046     ],\n",
       "       [1.75      , 0.42631579, 4.34210526, 1.87105263]])"
      ]
     },
     "execution_count": 20,
     "metadata": {},
     "output_type": "execute_result"
    }
   ],
   "source": [
    "A[0]"
   ]
  },
  {
   "cell_type": "code",
   "execution_count": 21,
   "id": "7b290ac9-7bff-4c1f-afbb-339c0c701ec1",
   "metadata": {},
   "outputs": [
    {
     "data": {
      "text/plain": [
       "array([0.7516129 , 0.072     , 0.42631579])"
      ]
     },
     "execution_count": 21,
     "metadata": {},
     "output_type": "execute_result"
    }
   ],
   "source": [
    "A[0][:,1]"
   ]
  },
  {
   "cell_type": "code",
   "execution_count": 22,
   "id": "b3140fd8-cc45-46ac-a0eb-9b6528b84ef9",
   "metadata": {},
   "outputs": [
    {
     "data": {
      "text/plain": [
       "array([[5.9016129 , 2.7483871 , 4.39354839, 1.43387097],\n",
       "       [5.006     , 3.428     , 1.462     , 0.246     ],\n",
       "       [6.85      , 3.07368421, 5.74210526, 2.07105263]])"
      ]
     },
     "execution_count": 22,
     "metadata": {},
     "output_type": "execute_result"
    }
   ],
   "source": [
    "centers"
   ]
  },
  {
   "cell_type": "code",
   "execution_count": 23,
   "id": "2ae18c0c",
   "metadata": {},
   "outputs": [],
   "source": [
    "# Falsch!\n",
    "def best_second_calc(feature_based_distances, preds):\n",
    "    \n",
    "    num_features = feature_based_distances.shape[2]\n",
    "    \n",
    "    assinged_cluster_list = []\n",
    "    fb_distance_to_assinged_cluster_list = []\n",
    "    \n",
    "    best_alterantive_list = []\n",
    "    fb_distance_to_best_alternative_list = []\n",
    "    \n",
    "    #for every obs:\n",
    "    for idx, e in enumerate(feature_based_distances):\n",
    "        #index of assinged cluster\n",
    "        assigned_cluster = preds[idx]\n",
    "        #feature-wise distances of point to assigned cluster\n",
    "        distances_to_assigned = e[assigned_cluster]\n",
    "        \n",
    "        assinged_cluster_list.append(assigned_cluster)\n",
    "        fb_distance_to_assinged_cluster_list.append(distances_to_assigned)\n",
    "        \n",
    "        #find best alternative:\n",
    "        \n",
    "        temp_bad = []\n",
    "        temp_idx = []\n",
    "        \n",
    "        #for every feature\n",
    "        for i in range(num_features):\n",
    "            \n",
    "            \n",
    "            # best alternative: \n",
    "            best_alternative_distance = min(e[:,i])\n",
    "            x = e[:,i].tolist()\n",
    "            idx_best_alternative = x.index(best_alternative_distance)\n",
    "            \n",
    "            \n",
    "            #if the best alternative is the assigned cluster, we have to find the second best alternative\n",
    "            if idx_best_alternative == assigned_cluster:\n",
    "                \n",
    "                del x[idx_best_alternative]\n",
    "                best_alternative_distance = min(x)\n",
    "                idx_best_alternative = x.index(best_alternative_distance)\n",
    "                \n",
    "            temp_bad.append(best_alternative_distance)\n",
    "            temp_idx.append(idx_best_alternative)\n",
    "\n",
    "        best_alterantive_list.append(temp_idx)\n",
    "        fb_distance_to_best_alternative_list.append(temp_bad)     \n",
    "            \n",
    "    return np.array(assinged_cluster_list), np.array(fb_distance_to_assinged_cluster_list), np.array(best_alterantive_list), np.array(fb_distance_to_best_alternative_list)"
   ]
  },
  {
   "cell_type": "code",
   "execution_count": 24,
   "id": "753edda3",
   "metadata": {},
   "outputs": [],
   "source": [
    "ac ,fb_ac ,ba, fb_ba = best_second_calc(A, preds)"
   ]
  },
  {
   "cell_type": "markdown",
   "id": "25cd0540-a527-4a29-bba5-4bc4695cf33e",
   "metadata": {
    "tags": []
   },
   "source": [
    "## Relevance of feature j for point i:\n",
    "\n",
    "$$R_{ji} := R_j(x_{ij},c_{kj},c_{k'_{ij}}) := \\frac{d_j(x_{ij},c_{k'_{ij}}) - d_j(x_{ij},c_{kj})}{d_j(x_{ij},c_{k'_{ij}}) + d_j(x_{ij},c_{kj})}$$"
   ]
  },
  {
   "cell_type": "markdown",
   "id": "7dde9fc6-c498-47f8-a72f-30c20c480695",
   "metadata": {},
   "source": [
    "$d_j(x_{ij},c_{k'_{ij}}$ is the distance to the best alternative.\n",
    "\n",
    "$d_j(x_{ij},c_{kj})$ is the distance to the associated cluster."
   ]
  },
  {
   "cell_type": "code",
   "execution_count": 25,
   "id": "34a9b470-c622-4149-9445-384270c8b1b4",
   "metadata": {},
   "outputs": [
    {
     "data": {
      "text/plain": [
       "array([0.8016129 , 0.42631579, 2.99354839, 1.23387097])"
      ]
     },
     "execution_count": 25,
     "metadata": {},
     "output_type": "execute_result"
    }
   ],
   "source": [
    "fb_ba[0]"
   ]
  },
  {
   "cell_type": "code",
   "execution_count": 26,
   "id": "06b7bfa1-2d4c-40fa-a720-58e2a513ffc9",
   "metadata": {},
   "outputs": [
    {
     "data": {
      "text/plain": [
       "array([0.094, 0.072, 0.062, 0.046])"
      ]
     },
     "execution_count": 26,
     "metadata": {},
     "output_type": "execute_result"
    }
   ],
   "source": [
    "fb_ac[0]"
   ]
  },
  {
   "cell_type": "code",
   "execution_count": 27,
   "id": "830d7a12-afb9-46f7-a55a-b16082bb8915",
   "metadata": {},
   "outputs": [
    {
     "data": {
      "text/plain": [
       "1"
      ]
     },
     "execution_count": 27,
     "metadata": {},
     "output_type": "execute_result"
    }
   ],
   "source": [
    "ac[0]"
   ]
  },
  {
   "cell_type": "code",
   "execution_count": 28,
   "id": "edc767e9-4b26-465e-ac30-21478ae78829",
   "metadata": {
    "tags": []
   },
   "outputs": [
    {
     "data": {
      "text/plain": [
       "array([0, 1, 0, 0])"
      ]
     },
     "execution_count": 28,
     "metadata": {},
     "output_type": "execute_result"
    }
   ],
   "source": [
    "ba[0]"
   ]
  },
  {
   "cell_type": "code",
   "execution_count": 29,
   "id": "40dc8a7e-ee9b-415d-a2de-ffd152b472a0",
   "metadata": {},
   "outputs": [
    {
     "data": {
      "text/plain": [
       "array([5.1, 3.5, 1.4, 0.2])"
      ]
     },
     "execution_count": 29,
     "metadata": {},
     "output_type": "execute_result"
    }
   ],
   "source": [
    "X[0]"
   ]
  },
  {
   "cell_type": "code",
   "execution_count": 30,
   "id": "3aef337d-a039-4d75-84fd-c400a44416fe",
   "metadata": {},
   "outputs": [
    {
     "data": {
      "text/plain": [
       "array([[5.9016129 , 2.7483871 , 4.39354839, 1.43387097],\n",
       "       [5.006     , 3.428     , 1.462     , 0.246     ],\n",
       "       [6.85      , 3.07368421, 5.74210526, 2.07105263]])"
      ]
     },
     "execution_count": 30,
     "metadata": {},
     "output_type": "execute_result"
    }
   ],
   "source": [
    "centers"
   ]
  },
  {
   "cell_type": "code",
   "execution_count": 31,
   "id": "643c70fe-7a3f-496e-a818-14930592e28d",
   "metadata": {},
   "outputs": [
    {
     "data": {
      "text/plain": [
       "1"
      ]
     },
     "execution_count": 31,
     "metadata": {},
     "output_type": "execute_result"
    }
   ],
   "source": [
    "preds[0]"
   ]
  },
  {
   "cell_type": "code",
   "execution_count": 32,
   "id": "5863d601-2b33-4188-8a3d-f9c657fc73b7",
   "metadata": {},
   "outputs": [
    {
     "data": {
      "text/plain": [
       "0"
      ]
     },
     "execution_count": 32,
     "metadata": {},
     "output_type": "execute_result"
    }
   ],
   "source": [
    "y[0]"
   ]
  },
  {
   "cell_type": "code",
   "execution_count": 33,
   "id": "3c930e9b-94b7-4f68-af28-a9d2cf8aae58",
   "metadata": {},
   "outputs": [],
   "source": [
    "# broadcasted: for every i, for every j\n",
    "R = (fb_ba - fb_ac) / (fb_ba + fb_ac)"
   ]
  },
  {
   "cell_type": "code",
   "execution_count": 34,
   "id": "5de8d9b3-0824-4060-8ec9-a0361842b902",
   "metadata": {},
   "outputs": [
    {
     "data": {
      "text/plain": [
       "array([[ 0.79008788,  0.71102662,  0.95941809,  0.92811775],\n",
       "       [ 0.80859739, -0.70625262,  0.95941809,  0.92811775],\n",
       "       [ 0.59406025, -0.28698752,  0.9004776 ,  0.92811775],\n",
       "       [ 0.52448239, -0.85145573,  0.97407513,  0.92811775],\n",
       "       [ 0.9867785 ,  0.50738619,  0.95941809,  0.92811775],\n",
       "       [ 0.1201556 ,  0.27290417,  0.83762847,  0.74071258],\n",
       "       [ 0.52448239,  0.8419489 ,  0.95941809,  0.90908103],\n",
       "       [ 0.9867785 ,  0.8419489 ,  0.97407513,  0.92811775],\n",
       "       [ 0.42494184, -0.55382571,  0.95941809,  0.92811775],\n",
       "       [ 0.80859739, -0.85145573,  0.97407513,  0.8026855 ],\n",
       "       [ 0.1201556 ,  0.39442231,  0.97407513,  0.92811775],\n",
       "       [ 0.68492204,  0.8419489 ,  0.9058518 ,  0.92811775],\n",
       "       [ 0.68492204, -0.70625262,  0.95941809,  0.8026855 ],\n",
       "       [ 0.38811228, -0.70625262,  0.8019449 ,  0.8026855 ],\n",
       "       [-0.77308745,  0.23647604,  0.84835981,  0.92811775],\n",
       "       [-0.54977669,  0.15416323,  0.97407513,  0.74071258],\n",
       "       [ 0.1201556 ,  0.27290417,  0.9004776 ,  0.74071258],\n",
       "       [ 0.79008788,  0.71102662,  0.95941809,  0.90908103],\n",
       "       [-0.54977669,  0.32259919,  0.83762847,  0.90908103],\n",
       "       [ 0.79008788,  0.32259919,  0.97407513,  0.90908103],\n",
       "       [ 0.1201556 ,  0.8419489 ,  0.83762847,  0.92811775],\n",
       "       [ 0.79008788,  0.39442231,  0.97407513,  0.74071258],\n",
       "       [ 0.52448239,  0.50738619,  0.76034538,  0.92811775],\n",
       "       [ 0.79008788,  0.27748069,  0.83762847,  0.57234412],\n",
       "       [ 0.68492204,  0.8419489 ,  0.7011818 ,  0.92811775],\n",
       "       [ 0.9867785 , -0.70625262,  0.9058518 ,  0.92811775],\n",
       "       [ 0.9867785 ,  0.8419489 ,  0.9058518 ,  0.74071258],\n",
       "       [ 0.56677712,  0.71102662,  0.97407513,  0.92811775],\n",
       "       [ 0.56677712,  0.8419489 ,  0.95941809,  0.92811775],\n",
       "       [ 0.59406025, -0.28698752,  0.9058518 ,  0.92811775],\n",
       "       [ 0.68492204, -0.85145573,  0.9058518 ,  0.92811775],\n",
       "       [ 0.1201556 ,  0.8419489 ,  0.97407513,  0.74071258],\n",
       "       [ 0.56677712,  0.20862774,  0.97407513,  0.8026855 ],\n",
       "       [-0.10315516,  0.18664744,  0.95941809,  0.92811775],\n",
       "       [ 0.80859739, -0.85145573,  0.97407513,  0.92811775],\n",
       "       [ 0.9867785 , -0.28698752,  0.84835981,  0.92811775],\n",
       "       [-0.10315516,  0.71102662,  0.9004776 ,  0.92811775],\n",
       "       [ 0.80859739,  0.50738619,  0.95941809,  0.8026855 ],\n",
       "       [ 0.42494184, -0.70625262,  0.9004776 ,  0.92811775],\n",
       "       [ 0.79008788,  0.8419489 ,  0.97407513,  0.92811775],\n",
       "       [ 0.9867785 ,  0.71102662,  0.9004776 ,  0.90908103],\n",
       "       [ 0.46949405, -0.43112057,  0.9004776 ,  0.90908103],\n",
       "       [ 0.42494184, -0.28698752,  0.9004776 ,  0.92811775],\n",
       "       [ 0.9867785 ,  0.71102662,  0.9058518 ,  0.40397567],\n",
       "       [ 0.79008788,  0.32259919,  0.7011818 ,  0.74071258],\n",
       "       [ 0.68492204, -0.70625262,  0.95941809,  0.90908103],\n",
       "       [ 0.79008788,  0.32259919,  0.9058518 ,  0.92811775],\n",
       "       [ 0.52448239, -0.28698752,  0.95941809,  0.92811775],\n",
       "       [ 0.34346636,  0.39442231,  0.97407513,  0.92811775],\n",
       "       [ 0.9867785 ,  0.27748069,  0.95941809,  0.92811775],\n",
       "       [-0.75968992, -0.56286722,  0.54551177,  0.90390173],\n",
       "       [-0.05102041, -0.56286722,  0.84212514,  0.79243272],\n",
       "       [ 0.90461538,  0.85145573, -0.2488984 , -0.79243272],\n",
       "       [ 0.10315516,  0.26618505,  0.63144924,  0.70412758],\n",
       "       [-0.26190476,  0.68267223,  0.69381846,  0.79243272],\n",
       "       [ 0.54977669,  0.68267223,  0.84212514,  0.70412758],\n",
       "       [ 0.15986395, -0.62331498,  0.54551177,  0.47855049],\n",
       "       [-0.80859739,  0.31827243,  0.25394485,  0.26949815],\n",
       "       [-0.47278912,  0.06784969,  0.69381846,  0.70412758],\n",
       "       [-0.56677712,  0.77071601,  0.57737879,  0.90390173],\n",
       "       [-0.9867785 ,  0.17853149,  0.39039151,  0.26949815],\n",
       "       [ 0.99639821, -0.54697286,  0.77697349,  0.79243272],\n",
       "       [ 0.79251701,  0.22874881,  0.63144924,  0.26949815],\n",
       "       [ 0.58163265,  0.06784969,  0.54551177,  0.90390173],\n",
       "       [ 0.32646593,  0.06784969,  0.45861485,  0.70412758],\n",
       "       [-0.68367347, -0.86073675,  0.99043183,  0.90390173],\n",
       "       [ 0.32646593, -0.54697286,  0.84212514,  0.79243272],\n",
       "       [ 0.77308745,  0.77071601,  0.69669327,  0.26949815],\n",
       "       [ 0.3707483 ,  0.22874881,  0.84212514,  0.79243272],\n",
       "       [ 0.32646593,  0.39570425,  0.57737879,  0.43786661],\n",
       "       [ 0.99639821, -0.56286722,  0.39720509, -0.14921396],\n",
       "       [ 0.58163265,  0.68267223,  0.63144924,  0.70412758],\n",
       "       [ 0.15986395,  0.39570425,  0.2488984 ,  0.79243272],\n",
       "       [ 0.58163265,  0.68267223,  0.54551177,  0.57667486],\n",
       "       [-0.05102041,  0.06784969,  0.87816473,  0.70412758],\n",
       "       [-0.47278912, -0.54697286,  0.99043183,  0.90390173],\n",
       "       [-0.89455782,  0.68267223,  0.39720509,  0.90390173],\n",
       "       [ 0.68367347,  0.54697286, -0.10059172, -0.16466827],\n",
       "       [ 0.79251701,  0.06784969,  0.84212514,  0.79243272],\n",
       "       [ 0.54977669,  0.52292576,  0.39039151,  0.26949815],\n",
       "       [ 0.10315516,  0.31827243,  0.53183796,  0.43786661],\n",
       "       [ 0.10315516,  0.31827243,  0.492956  ,  0.26949815],\n",
       "       [ 0.77308745,  0.77071601,  0.57737879,  0.57667486],\n",
       "       [ 0.79251701,  0.77071601, -0.04771497,  0.47855049],\n",
       "       [-0.1201556 , -0.54697286,  0.84212514,  0.79243272],\n",
       "       [ 0.79251701, -0.91760015,  0.84212514,  0.47855049],\n",
       "       [-0.68367347, -0.86073675,  0.54551177,  0.79243272],\n",
       "       [ 0.15986395,  0.26618505,  0.99043183,  0.70412758],\n",
       "       [ 0.32646593, -0.54697286,  0.69669327,  0.70412758],\n",
       "       [ 0.10315516,  0.39570425,  0.63144924,  0.70412758],\n",
       "       [ 0.10315516,  0.52292576,  0.99043183,  0.57667486],\n",
       "       [ 0.58163265, -0.54697286,  0.69381846,  0.90390173],\n",
       "       [ 0.77308745,  0.52292576,  0.63144924,  0.57667486],\n",
       "       [-0.9867785 ,  0.26618505,  0.25394485,  0.26949815],\n",
       "       [ 0.32646593,  0.77071601,  0.77697349,  0.70412758],\n",
       "       [ 0.54977669, -0.54697286,  0.77697349,  0.57667486],\n",
       "       [ 0.54977669,  0.06784969,  0.77697349,  0.70412758],\n",
       "       [ 0.3707483 ,  0.06784969,  0.87816473,  0.70412758],\n",
       "       [-0.79008788,  0.39570425,  0.04927485,  0.43786661],\n",
       "       [ 0.54977669,  0.68267223,  0.69669327,  0.70412758],\n",
       "       [-0.15986395, -0.27748069,  0.72334032,  0.42618669],\n",
       "       [ 0.77308745,  0.77071601, -0.04771497, -0.46309619],\n",
       "       [ 0.65478842,  0.54697286,  0.81026216,  0.91670738],\n",
       "       [-0.15986395, -0.06784969,  0.78924839,  0.14921396],\n",
       "       [ 0.26190476,  0.54697286,  0.92092754,  0.71187405],\n",
       "       [ 0.38735178,  0.54697286,  0.44007978,  0.91670738],\n",
       "       [-0.80859739,  0.39570425,  0.84212514,  0.16466827],\n",
       "       [ 0.51308901, -0.06784969,  0.54722701,  0.14921396],\n",
       "       [ 0.68367347, -0.39570425,  0.92092754,  0.14921396],\n",
       "       [ 0.57534247, -0.50738619,  0.65326096,  0.42618669],\n",
       "       [ 0.26190476,  0.28698752,  0.04771497,  0.77697842],\n",
       "       [ 0.05102041, -0.77071601,  0.34432834,  0.46309619],\n",
       "       [ 0.89455782,  0.54697286,  0.64094171,  0.91670738],\n",
       "       [ 0.54977669,  0.39570425,  0.10059172, -0.77697842],\n",
       "       [ 0.77308745,  0.68267223, -0.04771497, -0.49200315],\n",
       "       [ 0.05102041,  0.28698752,  0.34432834,  0.58186047],\n",
       "       [ 0.26190476,  0.54697286,  0.64094171,  0.14921396],\n",
       "       [ 0.35809988, -0.32259919,  0.41311697,  0.71187405],\n",
       "       [ 0.35809988, -0.52292576,  0.36802113,  0.58186047],\n",
       "       [ 0.79251701,  0.22874881,  0.10059172,  0.79243272],\n",
       "       [ 0.90461538,  0.28698752,  0.93755508,  0.58186047],\n",
       "       [ 0.32646593,  0.68267223,  0.2488984 , -0.77697842],\n",
       "       [ 0.35809988, -0.68267223,  0.41311697,  0.77697842],\n",
       "       [ 0.15986395,  0.77071601,  0.2488984 , -0.14921396],\n",
       "       [ 0.68367347, -0.27748069,  0.93755508,  0.91670738],\n",
       "       [ 0.57534247,  0.28698752,  0.72334032,  0.14921396],\n",
       "       [ 0.3707483 ,  0.68267223,  0.39720509, -0.14921396],\n",
       "       [ 0.58163265, -0.54697286,  0.2488984 , -0.14921396],\n",
       "       [ 0.05102041, -0.68267223,  0.78924839,  0.91670738],\n",
       "       [ 0.57534247,  0.54697286,  0.92092754, -0.47855049],\n",
       "       [ 0.46299213, -0.68267223,  0.65326096,  0.46309619],\n",
       "       [ 0.31111111, -0.32259919,  0.50614924,  0.77697842],\n",
       "       [ 0.05102041, -0.68267223,  0.78924839,  0.71187405],\n",
       "       [ 0.15986395,  0.68267223, -0.04771497,  0.79243272],\n",
       "       [-0.58163265, -0.52292576,  0.78924839, -0.90390173],\n",
       "       [ 0.35809988,  0.54697286,  0.65326096,  0.58186047],\n",
       "       [-0.15986395, -0.8419489 ,  0.78924839,  0.49200315],\n",
       "       [ 0.05102041,  0.85145573,  0.64094171,  0.14921396],\n",
       "       [ 0.79251701, -0.54697286,  0.39720509, -0.14921396],\n",
       "       [ 0.90461538,  0.85145573,  0.49263502,  0.91670738],\n",
       "       [ 0.68367347,  0.85145573,  0.78924839,  0.49200315],\n",
       "       [ 0.90461538,  0.85145573,  0.04771497,  0.58186047],\n",
       "       [ 0.77308745,  0.77071601, -0.04771497, -0.46309619],\n",
       "       [ 0.89455782,  0.28698752,  0.81026216,  0.58186047],\n",
       "       [ 0.68367347, -0.27748069,  0.93755508,  0.42618669],\n",
       "       [ 0.68367347,  0.54697286,  0.19602165,  0.58186047],\n",
       "       [ 0.15986395,  0.39570425,  0.10059172, -0.46309619],\n",
       "       [ 0.26190476,  0.54697286,  0.19602165,  0.77697842],\n",
       "       [-0.3707483 , -0.8419489 ,  0.49263502,  0.58186047],\n",
       "       [ 0.99639821, -0.54697286, -0.04771497, -0.14921396]])"
      ]
     },
     "execution_count": 34,
     "metadata": {},
     "output_type": "execute_result"
    }
   ],
   "source": [
    "R"
   ]
  },
  {
   "cell_type": "code",
   "execution_count": 35,
   "id": "3d033024-3201-429c-aa5d-02df607c217e",
   "metadata": {},
   "outputs": [
    {
     "data": {
      "text/plain": [
       "0.36975277918798033"
      ]
     },
     "execution_count": 35,
     "metadata": {},
     "output_type": "execute_result"
    }
   ],
   "source": [
    "np.sum(R[:,0]) / len(R)"
   ]
  },
  {
   "cell_type": "code",
   "execution_count": 36,
   "id": "7ec37ae0-6c11-4c43-b991-692c9ada0577",
   "metadata": {},
   "outputs": [
    {
     "data": {
      "text/plain": [
       "0.13387253867696042"
      ]
     },
     "execution_count": 36,
     "metadata": {},
     "output_type": "execute_result"
    }
   ],
   "source": [
    "np.sum(R[:,1]) / len(R)"
   ]
  },
  {
   "cell_type": "code",
   "execution_count": 37,
   "id": "50660e31-346a-4444-953d-85a91d1e07b2",
   "metadata": {},
   "outputs": [
    {
     "data": {
      "text/plain": [
       "0.6688310755220815"
      ]
     },
     "execution_count": 37,
     "metadata": {},
     "output_type": "execute_result"
    }
   ],
   "source": [
    "np.sum(R[:,2]) / len(R)"
   ]
  },
  {
   "cell_type": "code",
   "execution_count": 38,
   "id": "b868c41f-7247-4f36-90ef-70931ba4943e",
   "metadata": {},
   "outputs": [
    {
     "data": {
      "text/plain": [
       "0.5876523318789212"
      ]
     },
     "execution_count": 38,
     "metadata": {},
     "output_type": "execute_result"
    }
   ],
   "source": [
    "np.sum(R[:,3]) / len(R)"
   ]
  },
  {
   "cell_type": "markdown",
   "id": "42648194-eb20-4994-ae74-2844e7ec2c62",
   "metadata": {
    "tags": []
   },
   "source": [
    "## Example Random Noise"
   ]
  },
  {
   "cell_type": "code",
   "execution_count": 39,
   "id": "9b0d3fc0-c689-42b3-a4ec-e50d16474b70",
   "metadata": {},
   "outputs": [],
   "source": [
    "def calc_feature_wise_distance_matrix(distance_metric, points, cluster_centers):\n",
    "    \n",
    "    centers_lst = []\n",
    "\n",
    "    for i in points:\n",
    "        centers_lst.append(np.array(centers))\n",
    "    \n",
    "    c = np.array(centers_lst)\n",
    "\n",
    "    # calculate the distance of every feature value of ever obs to every feature value in every cluster.\n",
    "    \n",
    "    feature_wise_distance_matrix = []\n",
    "    \n",
    "    if distance_metric == \"manhattan\":\n",
    "        for i,e in enumerate(X):\n",
    "            feature_wise_distance_matrix.append(abs(c[i] - e))\n",
    "        \n",
    "    \n",
    "    if distance_metric == \"euclidean\":\n",
    "        for i,e in enumerate(X):\n",
    "            feature_wise_distance_matrix.append((c[i] - e)**2)\n",
    "    \n",
    "    return np.array(feature_wise_distance_matrix)"
   ]
  },
  {
   "cell_type": "code",
   "execution_count": 40,
   "id": "6ba57ea9-994b-405c-a384-21170ae88291",
   "metadata": {},
   "outputs": [],
   "source": [
    "df_X = pd.DataFrame(X)\n",
    "df_X.rename({0:\"X1\", 1: \"X2\", 2: \"X3\", 3: \"X4\"}, axis=1, inplace = True)"
   ]
  },
  {
   "cell_type": "code",
   "execution_count": 41,
   "id": "c0fa3c53-fdc4-4387-8de4-b5340743f68a",
   "metadata": {},
   "outputs": [],
   "source": [
    "X_5 = np.random.rand(150)\n",
    "X_6 = np.random.rand(150)"
   ]
  },
  {
   "cell_type": "code",
   "execution_count": 42,
   "id": "303568c0-508f-4a45-821f-20a3e0a6e90f",
   "metadata": {},
   "outputs": [],
   "source": [
    "df_X[\"X_5\"] = X_5\n",
    "df_X[\"X6\"] = X_6"
   ]
  },
  {
   "cell_type": "code",
   "execution_count": 43,
   "id": "61c5205d-ce9e-4ff7-b1be-723aedf0673b",
   "metadata": {},
   "outputs": [],
   "source": [
    "X = df_X.values\n",
    "kmeans = KMeans(n_clusters=3, random_state=3).fit(X)"
   ]
  },
  {
   "cell_type": "code",
   "execution_count": 44,
   "id": "d4721ae8-cbb0-4a59-a109-ae7d6d4898c0",
   "metadata": {},
   "outputs": [
    {
     "data": {
      "text/html": [
       "<div>\n",
       "<style scoped>\n",
       "    .dataframe tbody tr th:only-of-type {\n",
       "        vertical-align: middle;\n",
       "    }\n",
       "\n",
       "    .dataframe tbody tr th {\n",
       "        vertical-align: top;\n",
       "    }\n",
       "\n",
       "    .dataframe thead th {\n",
       "        text-align: right;\n",
       "    }\n",
       "</style>\n",
       "<table border=\"1\" class=\"dataframe\">\n",
       "  <thead>\n",
       "    <tr style=\"text-align: right;\">\n",
       "      <th></th>\n",
       "      <th>X1</th>\n",
       "      <th>X2</th>\n",
       "      <th>X3</th>\n",
       "      <th>X4</th>\n",
       "      <th>X_5</th>\n",
       "      <th>X6</th>\n",
       "    </tr>\n",
       "  </thead>\n",
       "  <tbody>\n",
       "    <tr>\n",
       "      <th>0</th>\n",
       "      <td>5.1</td>\n",
       "      <td>3.5</td>\n",
       "      <td>1.4</td>\n",
       "      <td>0.2</td>\n",
       "      <td>0.941064</td>\n",
       "      <td>0.602081</td>\n",
       "    </tr>\n",
       "    <tr>\n",
       "      <th>1</th>\n",
       "      <td>4.9</td>\n",
       "      <td>3.0</td>\n",
       "      <td>1.4</td>\n",
       "      <td>0.2</td>\n",
       "      <td>0.188541</td>\n",
       "      <td>0.667386</td>\n",
       "    </tr>\n",
       "    <tr>\n",
       "      <th>2</th>\n",
       "      <td>4.7</td>\n",
       "      <td>3.2</td>\n",
       "      <td>1.3</td>\n",
       "      <td>0.2</td>\n",
       "      <td>0.005487</td>\n",
       "      <td>0.399049</td>\n",
       "    </tr>\n",
       "    <tr>\n",
       "      <th>3</th>\n",
       "      <td>4.6</td>\n",
       "      <td>3.1</td>\n",
       "      <td>1.5</td>\n",
       "      <td>0.2</td>\n",
       "      <td>0.603894</td>\n",
       "      <td>0.601577</td>\n",
       "    </tr>\n",
       "    <tr>\n",
       "      <th>4</th>\n",
       "      <td>5.0</td>\n",
       "      <td>3.6</td>\n",
       "      <td>1.4</td>\n",
       "      <td>0.2</td>\n",
       "      <td>0.967841</td>\n",
       "      <td>0.124909</td>\n",
       "    </tr>\n",
       "    <tr>\n",
       "      <th>...</th>\n",
       "      <td>...</td>\n",
       "      <td>...</td>\n",
       "      <td>...</td>\n",
       "      <td>...</td>\n",
       "      <td>...</td>\n",
       "      <td>...</td>\n",
       "    </tr>\n",
       "    <tr>\n",
       "      <th>145</th>\n",
       "      <td>6.7</td>\n",
       "      <td>3.0</td>\n",
       "      <td>5.2</td>\n",
       "      <td>2.3</td>\n",
       "      <td>0.955932</td>\n",
       "      <td>0.687757</td>\n",
       "    </tr>\n",
       "    <tr>\n",
       "      <th>146</th>\n",
       "      <td>6.3</td>\n",
       "      <td>2.5</td>\n",
       "      <td>5.0</td>\n",
       "      <td>1.9</td>\n",
       "      <td>0.143621</td>\n",
       "      <td>0.064506</td>\n",
       "    </tr>\n",
       "    <tr>\n",
       "      <th>147</th>\n",
       "      <td>6.5</td>\n",
       "      <td>3.0</td>\n",
       "      <td>5.2</td>\n",
       "      <td>2.0</td>\n",
       "      <td>0.205017</td>\n",
       "      <td>0.097586</td>\n",
       "    </tr>\n",
       "    <tr>\n",
       "      <th>148</th>\n",
       "      <td>6.2</td>\n",
       "      <td>3.4</td>\n",
       "      <td>5.4</td>\n",
       "      <td>2.3</td>\n",
       "      <td>0.327747</td>\n",
       "      <td>0.058750</td>\n",
       "    </tr>\n",
       "    <tr>\n",
       "      <th>149</th>\n",
       "      <td>5.9</td>\n",
       "      <td>3.0</td>\n",
       "      <td>5.1</td>\n",
       "      <td>1.8</td>\n",
       "      <td>0.202051</td>\n",
       "      <td>0.273138</td>\n",
       "    </tr>\n",
       "  </tbody>\n",
       "</table>\n",
       "<p>150 rows × 6 columns</p>\n",
       "</div>"
      ],
      "text/plain": [
       "      X1   X2   X3   X4       X_5        X6\n",
       "0    5.1  3.5  1.4  0.2  0.941064  0.602081\n",
       "1    4.9  3.0  1.4  0.2  0.188541  0.667386\n",
       "2    4.7  3.2  1.3  0.2  0.005487  0.399049\n",
       "3    4.6  3.1  1.5  0.2  0.603894  0.601577\n",
       "4    5.0  3.6  1.4  0.2  0.967841  0.124909\n",
       "..   ...  ...  ...  ...       ...       ...\n",
       "145  6.7  3.0  5.2  2.3  0.955932  0.687757\n",
       "146  6.3  2.5  5.0  1.9  0.143621  0.064506\n",
       "147  6.5  3.0  5.2  2.0  0.205017  0.097586\n",
       "148  6.2  3.4  5.4  2.3  0.327747  0.058750\n",
       "149  5.9  3.0  5.1  1.8  0.202051  0.273138\n",
       "\n",
       "[150 rows x 6 columns]"
      ]
     },
     "execution_count": 44,
     "metadata": {},
     "output_type": "execute_result"
    }
   ],
   "source": [
    "df_X"
   ]
  },
  {
   "cell_type": "code",
   "execution_count": 45,
   "id": "6e08159d-a018-4dcf-9a64-91491ca613ab",
   "metadata": {},
   "outputs": [
    {
     "data": {
      "text/plain": [
       "104.42178472506824"
      ]
     },
     "execution_count": 45,
     "metadata": {},
     "output_type": "execute_result"
    }
   ],
   "source": [
    "kmeans.inertia_"
   ]
  },
  {
   "cell_type": "code",
   "execution_count": 46,
   "id": "aba3e6c2-c153-4d78-81d6-110e53f69097",
   "metadata": {},
   "outputs": [],
   "source": [
    "### !! darf ich nicht so machen, da sonst fehler bei cluster zuordnung!\n",
    "\n",
    "#prediction is \"false\" but only because the \"label\" is not correct, the class itself is correctly predicted. Maybe this needs to be solved later on differently.\n",
    "preds = kmeans.predict(X)"
   ]
  },
  {
   "cell_type": "code",
   "execution_count": 47,
   "id": "1d743620-55ce-4f58-985f-688b93b7a631",
   "metadata": {},
   "outputs": [
    {
     "data": {
      "text/plain": [
       "array([[5.9016129 , 2.7483871 , 4.39354839, 1.43387097],\n",
       "       [5.006     , 3.428     , 1.462     , 0.246     ],\n",
       "       [6.85      , 3.07368421, 5.74210526, 2.07105263]])"
      ]
     },
     "execution_count": 47,
     "metadata": {},
     "output_type": "execute_result"
    }
   ],
   "source": [
    "centers"
   ]
  },
  {
   "cell_type": "code",
   "execution_count": 48,
   "id": "383e6d24-11b3-4cf3-9dfa-20040ca43af5",
   "metadata": {},
   "outputs": [
    {
     "name": "stdout",
     "output_type": "stream",
     "text": [
      "[[5.9016129  2.7483871  4.39354839 1.43387097 0.45383801 0.43467122]\n",
      " [5.006      3.428      1.462      0.246      0.5570346  0.46361045]\n",
      " [6.85       3.07368421 5.74210526 2.07105263 0.50011584 0.50431283]]\n",
      "(3, 6)\n"
     ]
    }
   ],
   "source": [
    "centers = kmeans.cluster_centers_\n",
    "print(centers)\n",
    "print(centers.shape)"
   ]
  },
  {
   "cell_type": "code",
   "execution_count": 58,
   "id": "37a45486-9e89-48a2-b205-2cdb08a1cac3",
   "metadata": {},
   "outputs": [],
   "source": [
    "A = calc_feature_wise_distance_matrix(distance_metric = \"euclidean\", points = X, cluster_centers=centers)"
   ]
  },
  {
   "cell_type": "code",
   "execution_count": 59,
   "id": "aebfcac3-7518-4bb1-9b0f-c6a9bb2b1291",
   "metadata": {},
   "outputs": [],
   "source": [
    "ac ,fb_ac ,ba, fb_ba = best_second_calc(A, preds)"
   ]
  },
  {
   "cell_type": "code",
   "execution_count": 60,
   "id": "2dabdaa8-7631-4d6a-b11a-1d7c2eff9444",
   "metadata": {},
   "outputs": [],
   "source": [
    "# broadcasted: for every i, for every j\n",
    "R = (fb_ba - fb_ac) / (fb_ba + fb_ac)"
   ]
  },
  {
   "cell_type": "code",
   "execution_count": 62,
   "id": "550fd980-f516-4608-b5db-de0497263e61",
   "metadata": {},
   "outputs": [
    {
     "name": "stdout",
     "output_type": "stream",
     "text": [
      "R 0 0.5007681159557349\n",
      "R 1 0.19708184521500882\n",
      "R 2 0.8163240638163629\n",
      "R 3 0.7231487929167221\n",
      "R 4 -0.07636595113663469\n",
      "R 5 -0.15712834892303415\n"
     ]
    }
   ],
   "source": [
    "for i in range(6):\n",
    "    print(\"R \" + str(i), np.sum(R[:,i]) / len(R))"
   ]
  }
 ],
 "metadata": {
  "kernelspec": {
   "display_name": "Python 3 (ipykernel)",
   "language": "python",
   "name": "python3"
  },
  "language_info": {
   "codemirror_mode": {
    "name": "ipython",
    "version": 3
   },
   "file_extension": ".py",
   "mimetype": "text/x-python",
   "name": "python",
   "nbconvert_exporter": "python",
   "pygments_lexer": "ipython3",
   "version": "3.9.12"
  }
 },
 "nbformat": 4,
 "nbformat_minor": 5
}
